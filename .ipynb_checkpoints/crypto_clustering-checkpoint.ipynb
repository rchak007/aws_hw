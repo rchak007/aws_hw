{
 "cells": [
  {
   "cell_type": "markdown",
   "metadata": {},
   "source": [
    "# Clustering Crypto"
   ]
  },
  {
   "cell_type": "code",
   "execution_count": 74,
   "metadata": {},
   "outputs": [],
   "source": [
    "import warnings\n",
    "warnings.simplefilter(action='ignore', category=FutureWarning)"
   ]
  },
  {
   "cell_type": "code",
   "execution_count": 75,
   "metadata": {},
   "outputs": [],
   "source": [
    "# Initial imports\n",
    "import requests\n",
    "import pandas as pd\n",
    "import matplotlib.pyplot as plt\n",
    "import hvplot.pandas\n",
    "import plotly.express as px\n",
    "from sklearn.preprocessing import StandardScaler, MinMaxScaler\n",
    "from sklearn.decomposition import PCA\n",
    "from sklearn.cluster import KMeans\n",
    "from pathlib import Path"
   ]
  },
  {
   "cell_type": "markdown",
   "metadata": {},
   "source": [
    "### Fetching Cryptocurrency Data"
   ]
  },
  {
   "cell_type": "code",
   "execution_count": 76,
   "metadata": {},
   "outputs": [],
   "source": [
    "pd.set_option('display.float_format', lambda x: '%.5f' % x)"
   ]
  },
  {
   "cell_type": "code",
   "execution_count": 77,
   "metadata": {},
   "outputs": [],
   "source": [
    "# Use the following endpoint to fetch json data\n",
    "url = \"https://min-api.cryptocompare.com/data/all/coinlist\""
   ]
  },
  {
   "cell_type": "code",
   "execution_count": 78,
   "metadata": {},
   "outputs": [],
   "source": [
    "# Create a DataFrame \n",
    "# HINT: You will need to use the 'Data' key from the json response, then transpose the DataFrame."
   ]
  },
  {
   "cell_type": "code",
   "execution_count": 79,
   "metadata": {},
   "outputs": [
    {
     "data": {
      "text/html": [
       "<div>\n",
       "<style scoped>\n",
       "    .dataframe tbody tr th:only-of-type {\n",
       "        vertical-align: middle;\n",
       "    }\n",
       "\n",
       "    .dataframe tbody tr th {\n",
       "        vertical-align: top;\n",
       "    }\n",
       "\n",
       "    .dataframe thead th {\n",
       "        text-align: right;\n",
       "    }\n",
       "</style>\n",
       "<table border=\"1\" class=\"dataframe\">\n",
       "  <thead>\n",
       "    <tr style=\"text-align: right;\">\n",
       "      <th></th>\n",
       "      <th>Unnamed: 0</th>\n",
       "      <th>CoinName</th>\n",
       "      <th>Algorithm</th>\n",
       "      <th>IsTrading</th>\n",
       "      <th>ProofType</th>\n",
       "      <th>TotalCoinsMined</th>\n",
       "      <th>TotalCoinSupply</th>\n",
       "    </tr>\n",
       "  </thead>\n",
       "  <tbody>\n",
       "    <tr>\n",
       "      <th>0</th>\n",
       "      <td>42</td>\n",
       "      <td>42 Coin</td>\n",
       "      <td>Scrypt</td>\n",
       "      <td>True</td>\n",
       "      <td>PoW/PoS</td>\n",
       "      <td>41.99995</td>\n",
       "      <td>42</td>\n",
       "    </tr>\n",
       "    <tr>\n",
       "      <th>1</th>\n",
       "      <td>365</td>\n",
       "      <td>365Coin</td>\n",
       "      <td>X11</td>\n",
       "      <td>True</td>\n",
       "      <td>PoW/PoS</td>\n",
       "      <td>nan</td>\n",
       "      <td>2300000000</td>\n",
       "    </tr>\n",
       "    <tr>\n",
       "      <th>2</th>\n",
       "      <td>404</td>\n",
       "      <td>404Coin</td>\n",
       "      <td>Scrypt</td>\n",
       "      <td>True</td>\n",
       "      <td>PoW/PoS</td>\n",
       "      <td>1055184902.04000</td>\n",
       "      <td>532000000</td>\n",
       "    </tr>\n",
       "    <tr>\n",
       "      <th>3</th>\n",
       "      <td>611</td>\n",
       "      <td>SixEleven</td>\n",
       "      <td>SHA-256</td>\n",
       "      <td>True</td>\n",
       "      <td>PoW</td>\n",
       "      <td>nan</td>\n",
       "      <td>611000</td>\n",
       "    </tr>\n",
       "    <tr>\n",
       "      <th>4</th>\n",
       "      <td>808</td>\n",
       "      <td>808</td>\n",
       "      <td>SHA-256</td>\n",
       "      <td>True</td>\n",
       "      <td>PoW/PoS</td>\n",
       "      <td>0.00000</td>\n",
       "      <td>0</td>\n",
       "    </tr>\n",
       "    <tr>\n",
       "      <th>5</th>\n",
       "      <td>1337</td>\n",
       "      <td>EliteCoin</td>\n",
       "      <td>X13</td>\n",
       "      <td>True</td>\n",
       "      <td>PoW/PoS</td>\n",
       "      <td>29279424622.50270</td>\n",
       "      <td>314159265359</td>\n",
       "    </tr>\n",
       "    <tr>\n",
       "      <th>6</th>\n",
       "      <td>2015</td>\n",
       "      <td>2015 coin</td>\n",
       "      <td>X11</td>\n",
       "      <td>True</td>\n",
       "      <td>PoW/PoS</td>\n",
       "      <td>nan</td>\n",
       "      <td>0</td>\n",
       "    </tr>\n",
       "    <tr>\n",
       "      <th>7</th>\n",
       "      <td>BTC</td>\n",
       "      <td>Bitcoin</td>\n",
       "      <td>SHA-256</td>\n",
       "      <td>True</td>\n",
       "      <td>PoW</td>\n",
       "      <td>17927175.00000</td>\n",
       "      <td>21000000</td>\n",
       "    </tr>\n",
       "    <tr>\n",
       "      <th>8</th>\n",
       "      <td>ETH</td>\n",
       "      <td>Ethereum</td>\n",
       "      <td>Ethash</td>\n",
       "      <td>True</td>\n",
       "      <td>PoW</td>\n",
       "      <td>107684222.68650</td>\n",
       "      <td>0</td>\n",
       "    </tr>\n",
       "    <tr>\n",
       "      <th>9</th>\n",
       "      <td>LTC</td>\n",
       "      <td>Litecoin</td>\n",
       "      <td>Scrypt</td>\n",
       "      <td>True</td>\n",
       "      <td>PoW</td>\n",
       "      <td>63039243.30000</td>\n",
       "      <td>84000000</td>\n",
       "    </tr>\n",
       "  </tbody>\n",
       "</table>\n",
       "</div>"
      ],
      "text/plain": [
       "  Unnamed: 0   CoinName Algorithm  IsTrading ProofType   TotalCoinsMined  \\\n",
       "0         42    42 Coin    Scrypt       True   PoW/PoS          41.99995   \n",
       "1        365    365Coin       X11       True   PoW/PoS               nan   \n",
       "2        404    404Coin    Scrypt       True   PoW/PoS  1055184902.04000   \n",
       "3        611  SixEleven   SHA-256       True       PoW               nan   \n",
       "4        808        808   SHA-256       True   PoW/PoS           0.00000   \n",
       "5       1337  EliteCoin       X13       True   PoW/PoS 29279424622.50270   \n",
       "6       2015  2015 coin       X11       True   PoW/PoS               nan   \n",
       "7        BTC    Bitcoin   SHA-256       True       PoW    17927175.00000   \n",
       "8        ETH   Ethereum    Ethash       True       PoW   107684222.68650   \n",
       "9        LTC   Litecoin    Scrypt       True       PoW    63039243.30000   \n",
       "\n",
       "  TotalCoinSupply  \n",
       "0              42  \n",
       "1      2300000000  \n",
       "2       532000000  \n",
       "3          611000  \n",
       "4               0  \n",
       "5    314159265359  \n",
       "6               0  \n",
       "7        21000000  \n",
       "8               0  \n",
       "9        84000000  "
      ]
     },
     "execution_count": 79,
     "metadata": {},
     "output_type": "execute_result"
    }
   ],
   "source": [
    "# Alternatively, use the provided csv file:\n",
    "# file_path = Path(\"Resources/crypto_data.csv\")\n",
    "\n",
    "# Create a DataFrame\n",
    "file_path = Path(\"Resources/crypto_data.csv\")\n",
    "crypto_df = pd.read_csv(file_path)\n",
    "crypto_df.head(10)"
   ]
  },
  {
   "cell_type": "code",
   "execution_count": 80,
   "metadata": {},
   "outputs": [
    {
     "data": {
      "text/plain": [
       "(1252, 7)"
      ]
     },
     "execution_count": 80,
     "metadata": {},
     "output_type": "execute_result"
    }
   ],
   "source": [
    "crypto_df.shape"
   ]
  },
  {
   "cell_type": "code",
   "execution_count": 81,
   "metadata": {},
   "outputs": [
    {
     "data": {
      "text/html": [
       "<div>\n",
       "<style scoped>\n",
       "    .dataframe tbody tr th:only-of-type {\n",
       "        vertical-align: middle;\n",
       "    }\n",
       "\n",
       "    .dataframe tbody tr th {\n",
       "        vertical-align: top;\n",
       "    }\n",
       "\n",
       "    .dataframe thead th {\n",
       "        text-align: right;\n",
       "    }\n",
       "</style>\n",
       "<table border=\"1\" class=\"dataframe\">\n",
       "  <thead>\n",
       "    <tr style=\"text-align: right;\">\n",
       "      <th></th>\n",
       "      <th>Coin</th>\n",
       "      <th>CoinName</th>\n",
       "      <th>Algorithm</th>\n",
       "      <th>IsTrading</th>\n",
       "      <th>ProofType</th>\n",
       "      <th>TotalCoinsMined</th>\n",
       "      <th>TotalCoinSupply</th>\n",
       "    </tr>\n",
       "  </thead>\n",
       "  <tbody>\n",
       "    <tr>\n",
       "      <th>0</th>\n",
       "      <td>42</td>\n",
       "      <td>42 Coin</td>\n",
       "      <td>Scrypt</td>\n",
       "      <td>True</td>\n",
       "      <td>PoW/PoS</td>\n",
       "      <td>41.99995</td>\n",
       "      <td>42</td>\n",
       "    </tr>\n",
       "    <tr>\n",
       "      <th>1</th>\n",
       "      <td>365</td>\n",
       "      <td>365Coin</td>\n",
       "      <td>X11</td>\n",
       "      <td>True</td>\n",
       "      <td>PoW/PoS</td>\n",
       "      <td>nan</td>\n",
       "      <td>2300000000</td>\n",
       "    </tr>\n",
       "    <tr>\n",
       "      <th>2</th>\n",
       "      <td>404</td>\n",
       "      <td>404Coin</td>\n",
       "      <td>Scrypt</td>\n",
       "      <td>True</td>\n",
       "      <td>PoW/PoS</td>\n",
       "      <td>1055184902.04000</td>\n",
       "      <td>532000000</td>\n",
       "    </tr>\n",
       "    <tr>\n",
       "      <th>3</th>\n",
       "      <td>611</td>\n",
       "      <td>SixEleven</td>\n",
       "      <td>SHA-256</td>\n",
       "      <td>True</td>\n",
       "      <td>PoW</td>\n",
       "      <td>nan</td>\n",
       "      <td>611000</td>\n",
       "    </tr>\n",
       "    <tr>\n",
       "      <th>4</th>\n",
       "      <td>808</td>\n",
       "      <td>808</td>\n",
       "      <td>SHA-256</td>\n",
       "      <td>True</td>\n",
       "      <td>PoW/PoS</td>\n",
       "      <td>0.00000</td>\n",
       "      <td>0</td>\n",
       "    </tr>\n",
       "  </tbody>\n",
       "</table>\n",
       "</div>"
      ],
      "text/plain": [
       "  Coin   CoinName Algorithm  IsTrading ProofType  TotalCoinsMined  \\\n",
       "0   42    42 Coin    Scrypt       True   PoW/PoS         41.99995   \n",
       "1  365    365Coin       X11       True   PoW/PoS              nan   \n",
       "2  404    404Coin    Scrypt       True   PoW/PoS 1055184902.04000   \n",
       "3  611  SixEleven   SHA-256       True       PoW              nan   \n",
       "4  808        808   SHA-256       True   PoW/PoS          0.00000   \n",
       "\n",
       "  TotalCoinSupply  \n",
       "0              42  \n",
       "1      2300000000  \n",
       "2       532000000  \n",
       "3          611000  \n",
       "4               0  "
      ]
     },
     "execution_count": 81,
     "metadata": {},
     "output_type": "execute_result"
    }
   ],
   "source": [
    "crypto_df.rename(columns={\"Unnamed: 0\": \"Coin\"}, inplace=True)\n",
    "crypto_df.head()"
   ]
  },
  {
   "cell_type": "code",
   "execution_count": 82,
   "metadata": {},
   "outputs": [],
   "source": [
    "crypto_df.set_index('Coin', inplace=True)"
   ]
  },
  {
   "cell_type": "code",
   "execution_count": 83,
   "metadata": {},
   "outputs": [
    {
     "data": {
      "text/html": [
       "<div>\n",
       "<style scoped>\n",
       "    .dataframe tbody tr th:only-of-type {\n",
       "        vertical-align: middle;\n",
       "    }\n",
       "\n",
       "    .dataframe tbody tr th {\n",
       "        vertical-align: top;\n",
       "    }\n",
       "\n",
       "    .dataframe thead th {\n",
       "        text-align: right;\n",
       "    }\n",
       "</style>\n",
       "<table border=\"1\" class=\"dataframe\">\n",
       "  <thead>\n",
       "    <tr style=\"text-align: right;\">\n",
       "      <th></th>\n",
       "      <th>CoinName</th>\n",
       "      <th>Algorithm</th>\n",
       "      <th>IsTrading</th>\n",
       "      <th>ProofType</th>\n",
       "      <th>TotalCoinsMined</th>\n",
       "      <th>TotalCoinSupply</th>\n",
       "    </tr>\n",
       "    <tr>\n",
       "      <th>Coin</th>\n",
       "      <th></th>\n",
       "      <th></th>\n",
       "      <th></th>\n",
       "      <th></th>\n",
       "      <th></th>\n",
       "      <th></th>\n",
       "    </tr>\n",
       "  </thead>\n",
       "  <tbody>\n",
       "    <tr>\n",
       "      <th>42</th>\n",
       "      <td>42 Coin</td>\n",
       "      <td>Scrypt</td>\n",
       "      <td>True</td>\n",
       "      <td>PoW/PoS</td>\n",
       "      <td>41.99995</td>\n",
       "      <td>42</td>\n",
       "    </tr>\n",
       "    <tr>\n",
       "      <th>365</th>\n",
       "      <td>365Coin</td>\n",
       "      <td>X11</td>\n",
       "      <td>True</td>\n",
       "      <td>PoW/PoS</td>\n",
       "      <td>nan</td>\n",
       "      <td>2300000000</td>\n",
       "    </tr>\n",
       "    <tr>\n",
       "      <th>404</th>\n",
       "      <td>404Coin</td>\n",
       "      <td>Scrypt</td>\n",
       "      <td>True</td>\n",
       "      <td>PoW/PoS</td>\n",
       "      <td>1055184902.04000</td>\n",
       "      <td>532000000</td>\n",
       "    </tr>\n",
       "    <tr>\n",
       "      <th>611</th>\n",
       "      <td>SixEleven</td>\n",
       "      <td>SHA-256</td>\n",
       "      <td>True</td>\n",
       "      <td>PoW</td>\n",
       "      <td>nan</td>\n",
       "      <td>611000</td>\n",
       "    </tr>\n",
       "    <tr>\n",
       "      <th>808</th>\n",
       "      <td>808</td>\n",
       "      <td>SHA-256</td>\n",
       "      <td>True</td>\n",
       "      <td>PoW/PoS</td>\n",
       "      <td>0.00000</td>\n",
       "      <td>0</td>\n",
       "    </tr>\n",
       "  </tbody>\n",
       "</table>\n",
       "</div>"
      ],
      "text/plain": [
       "       CoinName Algorithm  IsTrading ProofType  TotalCoinsMined  \\\n",
       "Coin                                                              \n",
       "42      42 Coin    Scrypt       True   PoW/PoS         41.99995   \n",
       "365     365Coin       X11       True   PoW/PoS              nan   \n",
       "404     404Coin    Scrypt       True   PoW/PoS 1055184902.04000   \n",
       "611   SixEleven   SHA-256       True       PoW              nan   \n",
       "808         808   SHA-256       True   PoW/PoS          0.00000   \n",
       "\n",
       "     TotalCoinSupply  \n",
       "Coin                  \n",
       "42                42  \n",
       "365       2300000000  \n",
       "404        532000000  \n",
       "611           611000  \n",
       "808                0  "
      ]
     },
     "execution_count": 83,
     "metadata": {},
     "output_type": "execute_result"
    }
   ],
   "source": [
    "crypto_df.head()"
   ]
  },
  {
   "cell_type": "code",
   "execution_count": 84,
   "metadata": {},
   "outputs": [
    {
     "data": {
      "text/html": [
       "<div>\n",
       "<style scoped>\n",
       "    .dataframe tbody tr th:only-of-type {\n",
       "        vertical-align: middle;\n",
       "    }\n",
       "\n",
       "    .dataframe tbody tr th {\n",
       "        vertical-align: top;\n",
       "    }\n",
       "\n",
       "    .dataframe thead th {\n",
       "        text-align: right;\n",
       "    }\n",
       "</style>\n",
       "<table border=\"1\" class=\"dataframe\">\n",
       "  <thead>\n",
       "    <tr style=\"text-align: right;\">\n",
       "      <th></th>\n",
       "      <th>TotalCoinsMined</th>\n",
       "    </tr>\n",
       "  </thead>\n",
       "  <tbody>\n",
       "    <tr>\n",
       "      <th>count</th>\n",
       "      <td>744.00000</td>\n",
       "    </tr>\n",
       "    <tr>\n",
       "      <th>mean</th>\n",
       "      <td>3883103172.45657</td>\n",
       "    </tr>\n",
       "    <tr>\n",
       "      <th>std</th>\n",
       "      <td>38672632629.52777</td>\n",
       "    </tr>\n",
       "    <tr>\n",
       "      <th>min</th>\n",
       "      <td>-5917977547.96773</td>\n",
       "    </tr>\n",
       "    <tr>\n",
       "      <th>25%</th>\n",
       "      <td>632216.41988</td>\n",
       "    </tr>\n",
       "    <tr>\n",
       "      <th>50%</th>\n",
       "      <td>13404268.97069</td>\n",
       "    </tr>\n",
       "    <tr>\n",
       "      <th>75%</th>\n",
       "      <td>93998952.07896</td>\n",
       "    </tr>\n",
       "    <tr>\n",
       "      <th>max</th>\n",
       "      <td>989988713439.64905</td>\n",
       "    </tr>\n",
       "  </tbody>\n",
       "</table>\n",
       "</div>"
      ],
      "text/plain": [
       "         TotalCoinsMined\n",
       "count          744.00000\n",
       "mean    3883103172.45657\n",
       "std    38672632629.52777\n",
       "min    -5917977547.96773\n",
       "25%         632216.41988\n",
       "50%       13404268.97069\n",
       "75%       93998952.07896\n",
       "max   989988713439.64905"
      ]
     },
     "execution_count": 84,
     "metadata": {},
     "output_type": "execute_result"
    }
   ],
   "source": [
    "crypto_df.describe()"
   ]
  },
  {
   "cell_type": "code",
   "execution_count": 85,
   "metadata": {},
   "outputs": [
    {
     "data": {
      "text/plain": [
       "(1252, 6)"
      ]
     },
     "execution_count": 85,
     "metadata": {},
     "output_type": "execute_result"
    }
   ],
   "source": [
    "crypto_df.shape"
   ]
  },
  {
   "cell_type": "code",
   "execution_count": 86,
   "metadata": {},
   "outputs": [],
   "source": [
    "pd.set_option(\"display.max_rows\", None, \"display.max_columns\", None)"
   ]
  },
  {
   "cell_type": "code",
   "execution_count": 87,
   "metadata": {},
   "outputs": [
    {
     "data": {
      "text/plain": [
       "1252"
      ]
     },
     "execution_count": 87,
     "metadata": {},
     "output_type": "execute_result"
    }
   ],
   "source": [
    "crypto_df['Algorithm'].value_counts().sum()"
   ]
  },
  {
   "cell_type": "code",
   "execution_count": 88,
   "metadata": {},
   "outputs": [
    {
     "data": {
      "text/plain": [
       "1GB AES Pattern Search      1\n",
       "536                         2\n",
       "Argon2                      2\n",
       "Argon2d                     1\n",
       "Avesta hash                 1\n",
       "BLAKE256                    2\n",
       "Blake                       8\n",
       "Blake2S                     4\n",
       "Blake2b                     3\n",
       "C11                         2\n",
       "Cloverhash                  1\n",
       "Counterparty                1\n",
       "CryptoNight                40\n",
       "CryptoNight Heavy           3\n",
       "CryptoNight Heavy X         1\n",
       "CryptoNight-Lite            1\n",
       "CryptoNight-V7              6\n",
       "CryptoNight-lite            1\n",
       "Cryptonight-GPU             1\n",
       "Curve25519                  2\n",
       "DPoS                       19\n",
       "Dagger                      4\n",
       "Dagger-Hashimoto            1\n",
       "ECC 256K1                   1\n",
       "Equihash                   26\n",
       "Equihash+Scrypt             1\n",
       "Equihash1927                1\n",
       "Ethash                     18\n",
       "Exosis                      1\n",
       "Green Protocol              1\n",
       "Groestl                     5\n",
       "HMQ1725                     2\n",
       "HybridScryptHash256         1\n",
       "IMesh                       1\n",
       "Jump Consistent Hash        1\n",
       "Keccak                      4\n",
       "Leased POS                  2\n",
       "Lyra2RE                     6\n",
       "Lyra2REv2                   9\n",
       "Lyra2Z                      7\n",
       "M00N                        1\n",
       "M7 POW                      1\n",
       "Momentum                    1\n",
       "Multiple                   18\n",
       "NIST5                      20\n",
       "NeoScrypt                  21\n",
       "Ouroboros                   1\n",
       "PHI1612                     6\n",
       "PHI2                        1\n",
       "POS 2.0                     1\n",
       "POS 3.0                     3\n",
       "PoS                        44\n",
       "Progressive-n               1\n",
       "Proof-of-Authority          1\n",
       "Proof-of-BibleHash          1\n",
       "QUAIT                       1\n",
       "QuBit                       6\n",
       "Quark                      30\n",
       "QuarkTX                     1\n",
       "Rainforest                  1\n",
       "SHA-256                   131\n",
       "SHA-256 + Hive              1\n",
       "SHA-256D                   18\n",
       "SHA-512                     5\n",
       "SHA3                        2\n",
       "SHA3-256                    1\n",
       "Scrypt                    424\n",
       "Scrypt-n                    6\n",
       "ScryptOG                    1\n",
       "Semux BFT consensus         1\n",
       "Shabal256                   1\n",
       "Skein                       6\n",
       "SkunkHash                   3\n",
       "SkunkHash v2 Raptor         1\n",
       "Slatechain                  1\n",
       "Stanford Folding            1\n",
       "T-Inside                    1\n",
       "TRC10                       1\n",
       "Time Travel                 2\n",
       "Tribus                      2\n",
       "VBFT                        1\n",
       "VeChainThor Authority       1\n",
       "Wild Keccak                 1\n",
       "X11                       197\n",
       "X11GOST                     1\n",
       "X13                        57\n",
       "X14                         1\n",
       "X15                        14\n",
       "X16R                        4\n",
       "X16S                        1\n",
       "XEVAN                       7\n",
       "XG Hash                     1\n",
       "YescryptR16                 1\n",
       "Zhash                       1\n",
       "vDPOS                       1\n",
       "Name: Algorithm, dtype: int64"
      ]
     },
     "execution_count": 88,
     "metadata": {},
     "output_type": "execute_result"
    }
   ],
   "source": [
    "crypto_df['Algorithm'].value_counts().sort_index()"
   ]
  },
  {
   "cell_type": "markdown",
   "metadata": {},
   "source": [
    "### Data Preprocessing"
   ]
  },
  {
   "cell_type": "code",
   "execution_count": 89,
   "metadata": {},
   "outputs": [
    {
     "data": {
      "text/html": [
       "<div>\n",
       "<style scoped>\n",
       "    .dataframe tbody tr th:only-of-type {\n",
       "        vertical-align: middle;\n",
       "    }\n",
       "\n",
       "    .dataframe tbody tr th {\n",
       "        vertical-align: top;\n",
       "    }\n",
       "\n",
       "    .dataframe thead th {\n",
       "        text-align: right;\n",
       "    }\n",
       "</style>\n",
       "<table border=\"1\" class=\"dataframe\">\n",
       "  <thead>\n",
       "    <tr style=\"text-align: right;\">\n",
       "      <th></th>\n",
       "      <th>CoinName</th>\n",
       "      <th>Algorithm</th>\n",
       "      <th>IsTrading</th>\n",
       "      <th>ProofType</th>\n",
       "      <th>TotalCoinsMined</th>\n",
       "      <th>TotalCoinSupply</th>\n",
       "    </tr>\n",
       "    <tr>\n",
       "      <th>Coin</th>\n",
       "      <th></th>\n",
       "      <th></th>\n",
       "      <th></th>\n",
       "      <th></th>\n",
       "      <th></th>\n",
       "      <th></th>\n",
       "    </tr>\n",
       "  </thead>\n",
       "  <tbody>\n",
       "    <tr>\n",
       "      <th>42</th>\n",
       "      <td>42 Coin</td>\n",
       "      <td>Scrypt</td>\n",
       "      <td>True</td>\n",
       "      <td>PoW/PoS</td>\n",
       "      <td>41.99995</td>\n",
       "      <td>42</td>\n",
       "    </tr>\n",
       "    <tr>\n",
       "      <th>365</th>\n",
       "      <td>365Coin</td>\n",
       "      <td>X11</td>\n",
       "      <td>True</td>\n",
       "      <td>PoW/PoS</td>\n",
       "      <td>nan</td>\n",
       "      <td>2300000000</td>\n",
       "    </tr>\n",
       "    <tr>\n",
       "      <th>404</th>\n",
       "      <td>404Coin</td>\n",
       "      <td>Scrypt</td>\n",
       "      <td>True</td>\n",
       "      <td>PoW/PoS</td>\n",
       "      <td>1055184902.04000</td>\n",
       "      <td>532000000</td>\n",
       "    </tr>\n",
       "    <tr>\n",
       "      <th>611</th>\n",
       "      <td>SixEleven</td>\n",
       "      <td>SHA-256</td>\n",
       "      <td>True</td>\n",
       "      <td>PoW</td>\n",
       "      <td>nan</td>\n",
       "      <td>611000</td>\n",
       "    </tr>\n",
       "    <tr>\n",
       "      <th>808</th>\n",
       "      <td>808</td>\n",
       "      <td>SHA-256</td>\n",
       "      <td>True</td>\n",
       "      <td>PoW/PoS</td>\n",
       "      <td>0.00000</td>\n",
       "      <td>0</td>\n",
       "    </tr>\n",
       "  </tbody>\n",
       "</table>\n",
       "</div>"
      ],
      "text/plain": [
       "       CoinName Algorithm  IsTrading ProofType  TotalCoinsMined  \\\n",
       "Coin                                                              \n",
       "42      42 Coin    Scrypt       True   PoW/PoS         41.99995   \n",
       "365     365Coin       X11       True   PoW/PoS              nan   \n",
       "404     404Coin    Scrypt       True   PoW/PoS 1055184902.04000   \n",
       "611   SixEleven   SHA-256       True       PoW              nan   \n",
       "808         808   SHA-256       True   PoW/PoS          0.00000   \n",
       "\n",
       "     TotalCoinSupply  \n",
       "Coin                  \n",
       "42                42  \n",
       "365       2300000000  \n",
       "404        532000000  \n",
       "611           611000  \n",
       "808                0  "
      ]
     },
     "execution_count": 89,
     "metadata": {},
     "output_type": "execute_result"
    }
   ],
   "source": [
    "# Keep only necessary columns:\n",
    "# 'CoinName','Algorithm','IsTrading','ProofType','TotalCoinsMined','TotalCoinSupply'\n",
    "col_list = ['CoinName','Algorithm','IsTrading','ProofType','TotalCoinsMined','TotalCoinSupply']\n",
    "crypto_df1 = crypto_df[col_list]\n",
    "crypto_df1.head()"
   ]
  },
  {
   "cell_type": "code",
   "execution_count": 90,
   "metadata": {},
   "outputs": [
    {
     "data": {
      "text/plain": [
       "True     1144\n",
       "False     108\n",
       "Name: IsTrading, dtype: int64"
      ]
     },
     "execution_count": 90,
     "metadata": {},
     "output_type": "execute_result"
    }
   ],
   "source": [
    "crypto_df1['IsTrading'].value_counts()"
   ]
  },
  {
   "cell_type": "code",
   "execution_count": 91,
   "metadata": {},
   "outputs": [],
   "source": [
    "# Keep only cryptocurrencies that are trading\n",
    "crypto_df2 = crypto_df1[crypto_df1['IsTrading'] == True]"
   ]
  },
  {
   "cell_type": "code",
   "execution_count": 92,
   "metadata": {},
   "outputs": [
    {
     "data": {
      "text/plain": [
       "True    1144\n",
       "Name: IsTrading, dtype: int64"
      ]
     },
     "execution_count": 92,
     "metadata": {},
     "output_type": "execute_result"
    }
   ],
   "source": [
    "crypto_df2['IsTrading'].value_counts()"
   ]
  },
  {
   "cell_type": "markdown",
   "metadata": {},
   "source": [
    "#### I see all are working algorithm. So i am just keeping all"
   ]
  },
  {
   "cell_type": "code",
   "execution_count": 93,
   "metadata": {},
   "outputs": [],
   "source": [
    "# Keep only cryptocurrencies with a working algorithm\n"
   ]
  },
  {
   "cell_type": "code",
   "execution_count": 94,
   "metadata": {},
   "outputs": [
    {
     "data": {
      "text/html": [
       "<div>\n",
       "<style scoped>\n",
       "    .dataframe tbody tr th:only-of-type {\n",
       "        vertical-align: middle;\n",
       "    }\n",
       "\n",
       "    .dataframe tbody tr th {\n",
       "        vertical-align: top;\n",
       "    }\n",
       "\n",
       "    .dataframe thead th {\n",
       "        text-align: right;\n",
       "    }\n",
       "</style>\n",
       "<table border=\"1\" class=\"dataframe\">\n",
       "  <thead>\n",
       "    <tr style=\"text-align: right;\">\n",
       "      <th></th>\n",
       "      <th>CoinName</th>\n",
       "      <th>Algorithm</th>\n",
       "      <th>ProofType</th>\n",
       "      <th>TotalCoinsMined</th>\n",
       "      <th>TotalCoinSupply</th>\n",
       "    </tr>\n",
       "    <tr>\n",
       "      <th>Coin</th>\n",
       "      <th></th>\n",
       "      <th></th>\n",
       "      <th></th>\n",
       "      <th></th>\n",
       "      <th></th>\n",
       "    </tr>\n",
       "  </thead>\n",
       "  <tbody>\n",
       "    <tr>\n",
       "      <th>42</th>\n",
       "      <td>42 Coin</td>\n",
       "      <td>Scrypt</td>\n",
       "      <td>PoW/PoS</td>\n",
       "      <td>41.99995</td>\n",
       "      <td>42</td>\n",
       "    </tr>\n",
       "    <tr>\n",
       "      <th>365</th>\n",
       "      <td>365Coin</td>\n",
       "      <td>X11</td>\n",
       "      <td>PoW/PoS</td>\n",
       "      <td>nan</td>\n",
       "      <td>2300000000</td>\n",
       "    </tr>\n",
       "    <tr>\n",
       "      <th>404</th>\n",
       "      <td>404Coin</td>\n",
       "      <td>Scrypt</td>\n",
       "      <td>PoW/PoS</td>\n",
       "      <td>1055184902.04000</td>\n",
       "      <td>532000000</td>\n",
       "    </tr>\n",
       "    <tr>\n",
       "      <th>611</th>\n",
       "      <td>SixEleven</td>\n",
       "      <td>SHA-256</td>\n",
       "      <td>PoW</td>\n",
       "      <td>nan</td>\n",
       "      <td>611000</td>\n",
       "    </tr>\n",
       "    <tr>\n",
       "      <th>808</th>\n",
       "      <td>808</td>\n",
       "      <td>SHA-256</td>\n",
       "      <td>PoW/PoS</td>\n",
       "      <td>0.00000</td>\n",
       "      <td>0</td>\n",
       "    </tr>\n",
       "  </tbody>\n",
       "</table>\n",
       "</div>"
      ],
      "text/plain": [
       "       CoinName Algorithm ProofType  TotalCoinsMined TotalCoinSupply\n",
       "Coin                                                                \n",
       "42      42 Coin    Scrypt   PoW/PoS         41.99995              42\n",
       "365     365Coin       X11   PoW/PoS              nan      2300000000\n",
       "404     404Coin    Scrypt   PoW/PoS 1055184902.04000       532000000\n",
       "611   SixEleven   SHA-256       PoW              nan          611000\n",
       "808         808   SHA-256   PoW/PoS          0.00000               0"
      ]
     },
     "execution_count": 94,
     "metadata": {},
     "output_type": "execute_result"
    }
   ],
   "source": [
    "# Remove the \"IsTrading\" column\n",
    "crypto_df3 = crypto_df2.drop(columns=['IsTrading'])\n",
    "crypto_df3.head()"
   ]
  },
  {
   "cell_type": "code",
   "execution_count": 95,
   "metadata": {},
   "outputs": [
    {
     "data": {
      "text/plain": [
       "1144"
      ]
     },
     "execution_count": 95,
     "metadata": {},
     "output_type": "execute_result"
    }
   ],
   "source": [
    "len(crypto_df3)"
   ]
  },
  {
   "cell_type": "code",
   "execution_count": 96,
   "metadata": {},
   "outputs": [
    {
     "data": {
      "text/plain": [
       "(1144, 5)"
      ]
     },
     "execution_count": 96,
     "metadata": {},
     "output_type": "execute_result"
    }
   ],
   "source": [
    "crypto_df3.shape"
   ]
  },
  {
   "cell_type": "code",
   "execution_count": 97,
   "metadata": {},
   "outputs": [
    {
     "data": {
      "text/html": [
       "<div>\n",
       "<style scoped>\n",
       "    .dataframe tbody tr th:only-of-type {\n",
       "        vertical-align: middle;\n",
       "    }\n",
       "\n",
       "    .dataframe tbody tr th {\n",
       "        vertical-align: top;\n",
       "    }\n",
       "\n",
       "    .dataframe thead th {\n",
       "        text-align: right;\n",
       "    }\n",
       "</style>\n",
       "<table border=\"1\" class=\"dataframe\">\n",
       "  <thead>\n",
       "    <tr style=\"text-align: right;\">\n",
       "      <th></th>\n",
       "      <th>CoinName</th>\n",
       "      <th>Algorithm</th>\n",
       "      <th>ProofType</th>\n",
       "      <th>TotalCoinsMined</th>\n",
       "      <th>TotalCoinSupply</th>\n",
       "    </tr>\n",
       "    <tr>\n",
       "      <th>Coin</th>\n",
       "      <th></th>\n",
       "      <th></th>\n",
       "      <th></th>\n",
       "      <th></th>\n",
       "      <th></th>\n",
       "    </tr>\n",
       "  </thead>\n",
       "  <tbody>\n",
       "    <tr>\n",
       "      <th>42</th>\n",
       "      <td>42 Coin</td>\n",
       "      <td>Scrypt</td>\n",
       "      <td>PoW/PoS</td>\n",
       "      <td>41.99995</td>\n",
       "      <td>42</td>\n",
       "    </tr>\n",
       "    <tr>\n",
       "      <th>404</th>\n",
       "      <td>404Coin</td>\n",
       "      <td>Scrypt</td>\n",
       "      <td>PoW/PoS</td>\n",
       "      <td>1055184902.04000</td>\n",
       "      <td>532000000</td>\n",
       "    </tr>\n",
       "    <tr>\n",
       "      <th>808</th>\n",
       "      <td>808</td>\n",
       "      <td>SHA-256</td>\n",
       "      <td>PoW/PoS</td>\n",
       "      <td>0.00000</td>\n",
       "      <td>0</td>\n",
       "    </tr>\n",
       "    <tr>\n",
       "      <th>1337</th>\n",
       "      <td>EliteCoin</td>\n",
       "      <td>X13</td>\n",
       "      <td>PoW/PoS</td>\n",
       "      <td>29279424622.50270</td>\n",
       "      <td>314159265359</td>\n",
       "    </tr>\n",
       "    <tr>\n",
       "      <th>BTC</th>\n",
       "      <td>Bitcoin</td>\n",
       "      <td>SHA-256</td>\n",
       "      <td>PoW</td>\n",
       "      <td>17927175.00000</td>\n",
       "      <td>21000000</td>\n",
       "    </tr>\n",
       "  </tbody>\n",
       "</table>\n",
       "</div>"
      ],
      "text/plain": [
       "       CoinName Algorithm ProofType   TotalCoinsMined TotalCoinSupply\n",
       "Coin                                                                 \n",
       "42      42 Coin    Scrypt   PoW/PoS          41.99995              42\n",
       "404     404Coin    Scrypt   PoW/PoS  1055184902.04000       532000000\n",
       "808         808   SHA-256   PoW/PoS           0.00000               0\n",
       "1337  EliteCoin       X13   PoW/PoS 29279424622.50270    314159265359\n",
       "BTC     Bitcoin   SHA-256       PoW    17927175.00000        21000000"
      ]
     },
     "execution_count": 97,
     "metadata": {},
     "output_type": "execute_result"
    }
   ],
   "source": [
    "# Remove rows with at least 1 null value\n",
    "crypto_df4 = crypto_df3.dropna()\n",
    "crypto_df4.head()"
   ]
  },
  {
   "cell_type": "code",
   "execution_count": 98,
   "metadata": {},
   "outputs": [
    {
     "data": {
      "text/plain": [
       "685"
      ]
     },
     "execution_count": 98,
     "metadata": {},
     "output_type": "execute_result"
    }
   ],
   "source": [
    "len(crypto_df4)"
   ]
  },
  {
   "cell_type": "code",
   "execution_count": 99,
   "metadata": {},
   "outputs": [
    {
     "data": {
      "text/html": [
       "<div>\n",
       "<style scoped>\n",
       "    .dataframe tbody tr th:only-of-type {\n",
       "        vertical-align: middle;\n",
       "    }\n",
       "\n",
       "    .dataframe tbody tr th {\n",
       "        vertical-align: top;\n",
       "    }\n",
       "\n",
       "    .dataframe thead th {\n",
       "        text-align: right;\n",
       "    }\n",
       "</style>\n",
       "<table border=\"1\" class=\"dataframe\">\n",
       "  <thead>\n",
       "    <tr style=\"text-align: right;\">\n",
       "      <th></th>\n",
       "      <th>CoinName</th>\n",
       "      <th>Algorithm</th>\n",
       "      <th>ProofType</th>\n",
       "      <th>TotalCoinsMined</th>\n",
       "      <th>TotalCoinSupply</th>\n",
       "    </tr>\n",
       "    <tr>\n",
       "      <th>Coin</th>\n",
       "      <th></th>\n",
       "      <th></th>\n",
       "      <th></th>\n",
       "      <th></th>\n",
       "      <th></th>\n",
       "    </tr>\n",
       "  </thead>\n",
       "  <tbody>\n",
       "    <tr>\n",
       "      <th>42</th>\n",
       "      <td>42 Coin</td>\n",
       "      <td>Scrypt</td>\n",
       "      <td>PoW/PoS</td>\n",
       "      <td>41.99995</td>\n",
       "      <td>42</td>\n",
       "    </tr>\n",
       "    <tr>\n",
       "      <th>404</th>\n",
       "      <td>404Coin</td>\n",
       "      <td>Scrypt</td>\n",
       "      <td>PoW/PoS</td>\n",
       "      <td>1055184902.04000</td>\n",
       "      <td>532000000</td>\n",
       "    </tr>\n",
       "    <tr>\n",
       "      <th>1337</th>\n",
       "      <td>EliteCoin</td>\n",
       "      <td>X13</td>\n",
       "      <td>PoW/PoS</td>\n",
       "      <td>29279424622.50270</td>\n",
       "      <td>314159265359</td>\n",
       "    </tr>\n",
       "    <tr>\n",
       "      <th>BTC</th>\n",
       "      <td>Bitcoin</td>\n",
       "      <td>SHA-256</td>\n",
       "      <td>PoW</td>\n",
       "      <td>17927175.00000</td>\n",
       "      <td>21000000</td>\n",
       "    </tr>\n",
       "    <tr>\n",
       "      <th>ETH</th>\n",
       "      <td>Ethereum</td>\n",
       "      <td>Ethash</td>\n",
       "      <td>PoW</td>\n",
       "      <td>107684222.68650</td>\n",
       "      <td>0</td>\n",
       "    </tr>\n",
       "  </tbody>\n",
       "</table>\n",
       "</div>"
      ],
      "text/plain": [
       "       CoinName Algorithm ProofType   TotalCoinsMined TotalCoinSupply\n",
       "Coin                                                                 \n",
       "42      42 Coin    Scrypt   PoW/PoS          41.99995              42\n",
       "404     404Coin    Scrypt   PoW/PoS  1055184902.04000       532000000\n",
       "1337  EliteCoin       X13   PoW/PoS 29279424622.50270    314159265359\n",
       "BTC     Bitcoin   SHA-256       PoW    17927175.00000        21000000\n",
       "ETH    Ethereum    Ethash       PoW   107684222.68650               0"
      ]
     },
     "execution_count": 99,
     "metadata": {},
     "output_type": "execute_result"
    }
   ],
   "source": [
    "# Remove rows with cryptocurrencies having no coins mined\n",
    "crypto_df5 = crypto_df4[crypto_df4['TotalCoinsMined'] > 0]\n",
    "crypto_df5.head()"
   ]
  },
  {
   "cell_type": "code",
   "execution_count": 100,
   "metadata": {},
   "outputs": [
    {
     "data": {
      "text/plain": [
       "532"
      ]
     },
     "execution_count": 100,
     "metadata": {},
     "output_type": "execute_result"
    }
   ],
   "source": [
    "len(crypto_df5)"
   ]
  },
  {
   "cell_type": "code",
   "execution_count": 101,
   "metadata": {},
   "outputs": [
    {
     "data": {
      "text/html": [
       "<div>\n",
       "<style scoped>\n",
       "    .dataframe tbody tr th:only-of-type {\n",
       "        vertical-align: middle;\n",
       "    }\n",
       "\n",
       "    .dataframe tbody tr th {\n",
       "        vertical-align: top;\n",
       "    }\n",
       "\n",
       "    .dataframe thead th {\n",
       "        text-align: right;\n",
       "    }\n",
       "</style>\n",
       "<table border=\"1\" class=\"dataframe\">\n",
       "  <thead>\n",
       "    <tr style=\"text-align: right;\">\n",
       "      <th></th>\n",
       "      <th>CoinName</th>\n",
       "      <th>Algorithm</th>\n",
       "      <th>ProofType</th>\n",
       "      <th>TotalCoinsMined</th>\n",
       "      <th>TotalCoinSupply</th>\n",
       "    </tr>\n",
       "    <tr>\n",
       "      <th>Coin</th>\n",
       "      <th></th>\n",
       "      <th></th>\n",
       "      <th></th>\n",
       "      <th></th>\n",
       "      <th></th>\n",
       "    </tr>\n",
       "  </thead>\n",
       "  <tbody>\n",
       "    <tr>\n",
       "      <th>42</th>\n",
       "      <td>42 Coin</td>\n",
       "      <td>Scrypt</td>\n",
       "      <td>PoW/PoS</td>\n",
       "      <td>41.99995</td>\n",
       "      <td>42</td>\n",
       "    </tr>\n",
       "    <tr>\n",
       "      <th>404</th>\n",
       "      <td>404Coin</td>\n",
       "      <td>Scrypt</td>\n",
       "      <td>PoW/PoS</td>\n",
       "      <td>1055184902.04000</td>\n",
       "      <td>532000000</td>\n",
       "    </tr>\n",
       "    <tr>\n",
       "      <th>1337</th>\n",
       "      <td>EliteCoin</td>\n",
       "      <td>X13</td>\n",
       "      <td>PoW/PoS</td>\n",
       "      <td>29279424622.50270</td>\n",
       "      <td>314159265359</td>\n",
       "    </tr>\n",
       "    <tr>\n",
       "      <th>BTC</th>\n",
       "      <td>Bitcoin</td>\n",
       "      <td>SHA-256</td>\n",
       "      <td>PoW</td>\n",
       "      <td>17927175.00000</td>\n",
       "      <td>21000000</td>\n",
       "    </tr>\n",
       "    <tr>\n",
       "      <th>ETH</th>\n",
       "      <td>Ethereum</td>\n",
       "      <td>Ethash</td>\n",
       "      <td>PoW</td>\n",
       "      <td>107684222.68650</td>\n",
       "      <td>0</td>\n",
       "    </tr>\n",
       "  </tbody>\n",
       "</table>\n",
       "</div>"
      ],
      "text/plain": [
       "       CoinName Algorithm ProofType   TotalCoinsMined TotalCoinSupply\n",
       "Coin                                                                 \n",
       "42      42 Coin    Scrypt   PoW/PoS          41.99995              42\n",
       "404     404Coin    Scrypt   PoW/PoS  1055184902.04000       532000000\n",
       "1337  EliteCoin       X13   PoW/PoS 29279424622.50270    314159265359\n",
       "BTC     Bitcoin   SHA-256       PoW    17927175.00000        21000000\n",
       "ETH    Ethereum    Ethash       PoW   107684222.68650               0"
      ]
     },
     "execution_count": 101,
     "metadata": {},
     "output_type": "execute_result"
    }
   ],
   "source": [
    "# Drop rows where there are 'N/A' text values\n",
    "crypto_df6 = crypto_df5[~crypto_df5['TotalCoinSupply'].str.contains('N/A')]\n",
    "crypto_df6.head()"
   ]
  },
  {
   "cell_type": "code",
   "execution_count": 102,
   "metadata": {},
   "outputs": [
    {
     "name": "stdout",
     "output_type": "stream",
     "text": [
      "<class 'pandas.core.frame.DataFrame'>\n",
      "Index: 532 entries, 42 to XBC\n",
      "Data columns (total 5 columns):\n",
      "CoinName           532 non-null object\n",
      "Algorithm          532 non-null object\n",
      "ProofType          532 non-null object\n",
      "TotalCoinsMined    532 non-null float64\n",
      "TotalCoinSupply    532 non-null object\n",
      "dtypes: float64(1), object(4)\n",
      "memory usage: 24.9+ KB\n"
     ]
    }
   ],
   "source": [
    "crypto_df6.info()"
   ]
  },
  {
   "cell_type": "code",
   "execution_count": 103,
   "metadata": {},
   "outputs": [
    {
     "data": {
      "text/html": [
       "<div>\n",
       "<style scoped>\n",
       "    .dataframe tbody tr th:only-of-type {\n",
       "        vertical-align: middle;\n",
       "    }\n",
       "\n",
       "    .dataframe tbody tr th {\n",
       "        vertical-align: top;\n",
       "    }\n",
       "\n",
       "    .dataframe thead th {\n",
       "        text-align: right;\n",
       "    }\n",
       "</style>\n",
       "<table border=\"1\" class=\"dataframe\">\n",
       "  <thead>\n",
       "    <tr style=\"text-align: right;\">\n",
       "      <th></th>\n",
       "      <th>CoinName</th>\n",
       "      <th>Algorithm</th>\n",
       "      <th>ProofType</th>\n",
       "      <th>TotalCoinsMined</th>\n",
       "      <th>TotalCoinSupply</th>\n",
       "    </tr>\n",
       "    <tr>\n",
       "      <th>Coin</th>\n",
       "      <th></th>\n",
       "      <th></th>\n",
       "      <th></th>\n",
       "      <th></th>\n",
       "      <th></th>\n",
       "    </tr>\n",
       "  </thead>\n",
       "  <tbody>\n",
       "    <tr>\n",
       "      <th>42</th>\n",
       "      <td>42 Coin</td>\n",
       "      <td>Scrypt</td>\n",
       "      <td>PoW/PoS</td>\n",
       "      <td>41.99995</td>\n",
       "      <td>42.00000</td>\n",
       "    </tr>\n",
       "    <tr>\n",
       "      <th>404</th>\n",
       "      <td>404Coin</td>\n",
       "      <td>Scrypt</td>\n",
       "      <td>PoW/PoS</td>\n",
       "      <td>1055184902.04000</td>\n",
       "      <td>532000000.00000</td>\n",
       "    </tr>\n",
       "    <tr>\n",
       "      <th>1337</th>\n",
       "      <td>EliteCoin</td>\n",
       "      <td>X13</td>\n",
       "      <td>PoW/PoS</td>\n",
       "      <td>29279424622.50270</td>\n",
       "      <td>314159265359.00000</td>\n",
       "    </tr>\n",
       "    <tr>\n",
       "      <th>BTC</th>\n",
       "      <td>Bitcoin</td>\n",
       "      <td>SHA-256</td>\n",
       "      <td>PoW</td>\n",
       "      <td>17927175.00000</td>\n",
       "      <td>21000000.00000</td>\n",
       "    </tr>\n",
       "    <tr>\n",
       "      <th>ETH</th>\n",
       "      <td>Ethereum</td>\n",
       "      <td>Ethash</td>\n",
       "      <td>PoW</td>\n",
       "      <td>107684222.68650</td>\n",
       "      <td>0.00000</td>\n",
       "    </tr>\n",
       "  </tbody>\n",
       "</table>\n",
       "</div>"
      ],
      "text/plain": [
       "       CoinName Algorithm ProofType   TotalCoinsMined    TotalCoinSupply\n",
       "Coin                                                                    \n",
       "42      42 Coin    Scrypt   PoW/PoS          41.99995           42.00000\n",
       "404     404Coin    Scrypt   PoW/PoS  1055184902.04000    532000000.00000\n",
       "1337  EliteCoin       X13   PoW/PoS 29279424622.50270 314159265359.00000\n",
       "BTC     Bitcoin   SHA-256       PoW    17927175.00000     21000000.00000\n",
       "ETH    Ethereum    Ethash       PoW   107684222.68650            0.00000"
      ]
     },
     "execution_count": 103,
     "metadata": {},
     "output_type": "execute_result"
    }
   ],
   "source": [
    "crypto_df6['TotalCoinSupply'] = crypto_df6['TotalCoinSupply'].astype(float)\n",
    "crypto_df6.head()"
   ]
  },
  {
   "cell_type": "code",
   "execution_count": 104,
   "metadata": {},
   "outputs": [
    {
     "data": {
      "text/plain": [
       "532"
      ]
     },
     "execution_count": 104,
     "metadata": {},
     "output_type": "execute_result"
    }
   ],
   "source": [
    "len(crypto_df6)"
   ]
  },
  {
   "cell_type": "code",
   "execution_count": 105,
   "metadata": {},
   "outputs": [
    {
     "name": "stdout",
     "output_type": "stream",
     "text": [
      "<class 'pandas.core.frame.DataFrame'>\n",
      "Index: 532 entries, 42 to XBC\n",
      "Data columns (total 5 columns):\n",
      "CoinName           532 non-null object\n",
      "Algorithm          532 non-null object\n",
      "ProofType          532 non-null object\n",
      "TotalCoinsMined    532 non-null float64\n",
      "TotalCoinSupply    532 non-null float64\n",
      "dtypes: float64(2), object(3)\n",
      "memory usage: 24.9+ KB\n"
     ]
    }
   ],
   "source": [
    "crypto_df6.info()"
   ]
  },
  {
   "cell_type": "code",
   "execution_count": 106,
   "metadata": {},
   "outputs": [
    {
     "data": {
      "text/html": [
       "<div>\n",
       "<style scoped>\n",
       "    .dataframe tbody tr th:only-of-type {\n",
       "        vertical-align: middle;\n",
       "    }\n",
       "\n",
       "    .dataframe tbody tr th {\n",
       "        vertical-align: top;\n",
       "    }\n",
       "\n",
       "    .dataframe thead th {\n",
       "        text-align: right;\n",
       "    }\n",
       "</style>\n",
       "<table border=\"1\" class=\"dataframe\">\n",
       "  <thead>\n",
       "    <tr style=\"text-align: right;\">\n",
       "      <th></th>\n",
       "      <th>CoinName</th>\n",
       "    </tr>\n",
       "    <tr>\n",
       "      <th>Coin</th>\n",
       "      <th></th>\n",
       "    </tr>\n",
       "  </thead>\n",
       "  <tbody>\n",
       "    <tr>\n",
       "      <th>42</th>\n",
       "      <td>42 Coin</td>\n",
       "    </tr>\n",
       "    <tr>\n",
       "      <th>404</th>\n",
       "      <td>404Coin</td>\n",
       "    </tr>\n",
       "    <tr>\n",
       "      <th>1337</th>\n",
       "      <td>EliteCoin</td>\n",
       "    </tr>\n",
       "    <tr>\n",
       "      <th>BTC</th>\n",
       "      <td>Bitcoin</td>\n",
       "    </tr>\n",
       "    <tr>\n",
       "      <th>ETH</th>\n",
       "      <td>Ethereum</td>\n",
       "    </tr>\n",
       "  </tbody>\n",
       "</table>\n",
       "</div>"
      ],
      "text/plain": [
       "       CoinName\n",
       "Coin           \n",
       "42      42 Coin\n",
       "404     404Coin\n",
       "1337  EliteCoin\n",
       "BTC     Bitcoin\n",
       "ETH    Ethereum"
      ]
     },
     "execution_count": 106,
     "metadata": {},
     "output_type": "execute_result"
    }
   ],
   "source": [
    "# Store the 'CoinName'column in its own DataFrame prior to dropping it from crypto_df\n",
    "coin_df = crypto_df6['CoinName'].to_frame()\n",
    "coin_df.head()\n",
    "#print(coin_df)"
   ]
  },
  {
   "cell_type": "code",
   "execution_count": 107,
   "metadata": {},
   "outputs": [
    {
     "data": {
      "text/plain": [
       "532"
      ]
     },
     "execution_count": 107,
     "metadata": {},
     "output_type": "execute_result"
    }
   ],
   "source": [
    "len(coin_df)"
   ]
  },
  {
   "cell_type": "code",
   "execution_count": 108,
   "metadata": {},
   "outputs": [
    {
     "data": {
      "text/html": [
       "<div>\n",
       "<style scoped>\n",
       "    .dataframe tbody tr th:only-of-type {\n",
       "        vertical-align: middle;\n",
       "    }\n",
       "\n",
       "    .dataframe tbody tr th {\n",
       "        vertical-align: top;\n",
       "    }\n",
       "\n",
       "    .dataframe thead th {\n",
       "        text-align: right;\n",
       "    }\n",
       "</style>\n",
       "<table border=\"1\" class=\"dataframe\">\n",
       "  <thead>\n",
       "    <tr style=\"text-align: right;\">\n",
       "      <th></th>\n",
       "      <th>Algorithm</th>\n",
       "      <th>ProofType</th>\n",
       "      <th>TotalCoinsMined</th>\n",
       "      <th>TotalCoinSupply</th>\n",
       "    </tr>\n",
       "    <tr>\n",
       "      <th>Coin</th>\n",
       "      <th></th>\n",
       "      <th></th>\n",
       "      <th></th>\n",
       "      <th></th>\n",
       "    </tr>\n",
       "  </thead>\n",
       "  <tbody>\n",
       "    <tr>\n",
       "      <th>42</th>\n",
       "      <td>Scrypt</td>\n",
       "      <td>PoW/PoS</td>\n",
       "      <td>41.99995</td>\n",
       "      <td>42.00000</td>\n",
       "    </tr>\n",
       "    <tr>\n",
       "      <th>404</th>\n",
       "      <td>Scrypt</td>\n",
       "      <td>PoW/PoS</td>\n",
       "      <td>1055184902.04000</td>\n",
       "      <td>532000000.00000</td>\n",
       "    </tr>\n",
       "    <tr>\n",
       "      <th>1337</th>\n",
       "      <td>X13</td>\n",
       "      <td>PoW/PoS</td>\n",
       "      <td>29279424622.50270</td>\n",
       "      <td>314159265359.00000</td>\n",
       "    </tr>\n",
       "    <tr>\n",
       "      <th>BTC</th>\n",
       "      <td>SHA-256</td>\n",
       "      <td>PoW</td>\n",
       "      <td>17927175.00000</td>\n",
       "      <td>21000000.00000</td>\n",
       "    </tr>\n",
       "    <tr>\n",
       "      <th>ETH</th>\n",
       "      <td>Ethash</td>\n",
       "      <td>PoW</td>\n",
       "      <td>107684222.68650</td>\n",
       "      <td>0.00000</td>\n",
       "    </tr>\n",
       "  </tbody>\n",
       "</table>\n",
       "</div>"
      ],
      "text/plain": [
       "     Algorithm ProofType   TotalCoinsMined    TotalCoinSupply\n",
       "Coin                                                         \n",
       "42      Scrypt   PoW/PoS          41.99995           42.00000\n",
       "404     Scrypt   PoW/PoS  1055184902.04000    532000000.00000\n",
       "1337       X13   PoW/PoS 29279424622.50270 314159265359.00000\n",
       "BTC    SHA-256       PoW    17927175.00000     21000000.00000\n",
       "ETH     Ethash       PoW   107684222.68650            0.00000"
      ]
     },
     "execution_count": 108,
     "metadata": {},
     "output_type": "execute_result"
    }
   ],
   "source": [
    "# Drop the 'CoinName' column since it's not going to be used on the clustering algorithm\n",
    "crypto_df7 = crypto_df6.drop(columns=['CoinName'])\n",
    "crypto_df7.head()"
   ]
  },
  {
   "cell_type": "code",
   "execution_count": 109,
   "metadata": {},
   "outputs": [
    {
     "data": {
      "text/plain": [
       "PoW                     237\n",
       "PoW/PoS                 176\n",
       "PoS                      86\n",
       "DPoS                      9\n",
       "PoC                       3\n",
       "PoS/PoW                   2\n",
       "PoS/LPoS                  1\n",
       "dPoW/PoW                  1\n",
       "PoST                      1\n",
       "Zero-Knowledge Proof      1\n",
       "POBh                      1\n",
       "PoW + Hive                1\n",
       "Proof of Trust            1\n",
       "PoW and PoS               1\n",
       "TPoS                      1\n",
       "PoA                       1\n",
       "HPoW                      1\n",
       "DPOS                      1\n",
       "Pos                       1\n",
       "PoW/PoS                   1\n",
       "Proof of Authority        1\n",
       "LPoS                      1\n",
       "PoW/PoW                   1\n",
       "PoW/nPoS                  1\n",
       "PoS/PoW/PoT               1\n",
       "Name: ProofType, dtype: int64"
      ]
     },
     "execution_count": 109,
     "metadata": {},
     "output_type": "execute_result"
    }
   ],
   "source": [
    "crypto_df7['ProofType'].value_counts()"
   ]
  },
  {
   "cell_type": "code",
   "execution_count": 112,
   "metadata": {},
   "outputs": [
    {
     "name": "stdout",
     "output_type": "stream",
     "text": [
      "<class 'pandas.core.frame.DataFrame'>\n",
      "Index: 532 entries, 42 to XBC\n",
      "Data columns (total 4 columns):\n",
      "Algorithm          532 non-null object\n",
      "ProofType          532 non-null object\n",
      "TotalCoinsMined    532 non-null float64\n",
      "TotalCoinSupply    532 non-null float64\n",
      "dtypes: float64(2), object(2)\n",
      "memory usage: 20.8+ KB\n"
     ]
    }
   ],
   "source": [
    "crypto_df7.info()"
   ]
  },
  {
   "cell_type": "code",
   "execution_count": 113,
   "metadata": {},
   "outputs": [
    {
     "data": {
      "text/html": [
       "<div>\n",
       "<style scoped>\n",
       "    .dataframe tbody tr th:only-of-type {\n",
       "        vertical-align: middle;\n",
       "    }\n",
       "\n",
       "    .dataframe tbody tr th {\n",
       "        vertical-align: top;\n",
       "    }\n",
       "\n",
       "    .dataframe thead th {\n",
       "        text-align: right;\n",
       "    }\n",
       "</style>\n",
       "<table border=\"1\" class=\"dataframe\">\n",
       "  <thead>\n",
       "    <tr style=\"text-align: right;\">\n",
       "      <th></th>\n",
       "      <th>TotalCoinsMined</th>\n",
       "      <th>TotalCoinSupply</th>\n",
       "      <th>Algorithm_1GB AES Pattern Search</th>\n",
       "      <th>Algorithm_536</th>\n",
       "      <th>Algorithm_Argon2d</th>\n",
       "      <th>Algorithm_BLAKE256</th>\n",
       "      <th>Algorithm_Blake</th>\n",
       "      <th>Algorithm_Blake2S</th>\n",
       "      <th>Algorithm_Blake2b</th>\n",
       "      <th>Algorithm_C11</th>\n",
       "      <th>Algorithm_Cloverhash</th>\n",
       "      <th>Algorithm_Counterparty</th>\n",
       "      <th>Algorithm_CryptoNight</th>\n",
       "      <th>Algorithm_CryptoNight Heavy</th>\n",
       "      <th>Algorithm_CryptoNight-V7</th>\n",
       "      <th>Algorithm_Cryptonight-GPU</th>\n",
       "      <th>Algorithm_DPoS</th>\n",
       "      <th>Algorithm_Dagger</th>\n",
       "      <th>Algorithm_Dagger-Hashimoto</th>\n",
       "      <th>Algorithm_ECC 256K1</th>\n",
       "      <th>Algorithm_Equihash</th>\n",
       "      <th>Algorithm_Equihash+Scrypt</th>\n",
       "      <th>Algorithm_Ethash</th>\n",
       "      <th>Algorithm_Exosis</th>\n",
       "      <th>Algorithm_Green Protocol</th>\n",
       "      <th>Algorithm_Groestl</th>\n",
       "      <th>Algorithm_HMQ1725</th>\n",
       "      <th>Algorithm_HybridScryptHash256</th>\n",
       "      <th>Algorithm_IMesh</th>\n",
       "      <th>Algorithm_Jump Consistent Hash</th>\n",
       "      <th>Algorithm_Keccak</th>\n",
       "      <th>Algorithm_Leased POS</th>\n",
       "      <th>Algorithm_Lyra2RE</th>\n",
       "      <th>Algorithm_Lyra2REv2</th>\n",
       "      <th>Algorithm_Lyra2Z</th>\n",
       "      <th>Algorithm_M7 POW</th>\n",
       "      <th>Algorithm_Multiple</th>\n",
       "      <th>Algorithm_NIST5</th>\n",
       "      <th>Algorithm_NeoScrypt</th>\n",
       "      <th>Algorithm_Ouroboros</th>\n",
       "      <th>Algorithm_PHI1612</th>\n",
       "      <th>Algorithm_POS 2.0</th>\n",
       "      <th>Algorithm_POS 3.0</th>\n",
       "      <th>Algorithm_PoS</th>\n",
       "      <th>Algorithm_Proof-of-Authority</th>\n",
       "      <th>Algorithm_Proof-of-BibleHash</th>\n",
       "      <th>Algorithm_QUAIT</th>\n",
       "      <th>Algorithm_QuBit</th>\n",
       "      <th>Algorithm_Quark</th>\n",
       "      <th>Algorithm_SHA-256</th>\n",
       "      <th>Algorithm_SHA-256 + Hive</th>\n",
       "      <th>Algorithm_SHA-256D</th>\n",
       "      <th>Algorithm_SHA-512</th>\n",
       "      <th>Algorithm_SHA3</th>\n",
       "      <th>Algorithm_Scrypt</th>\n",
       "      <th>Algorithm_Semux BFT consensus</th>\n",
       "      <th>Algorithm_Shabal256</th>\n",
       "      <th>Algorithm_Skein</th>\n",
       "      <th>Algorithm_SkunkHash</th>\n",
       "      <th>Algorithm_SkunkHash v2 Raptor</th>\n",
       "      <th>Algorithm_Stanford Folding</th>\n",
       "      <th>Algorithm_TRC10</th>\n",
       "      <th>Algorithm_Time Travel</th>\n",
       "      <th>Algorithm_Tribus</th>\n",
       "      <th>Algorithm_VBFT</th>\n",
       "      <th>Algorithm_VeChainThor Authority</th>\n",
       "      <th>Algorithm_X11</th>\n",
       "      <th>Algorithm_X11GOST</th>\n",
       "      <th>Algorithm_X13</th>\n",
       "      <th>Algorithm_X14</th>\n",
       "      <th>Algorithm_X15</th>\n",
       "      <th>Algorithm_X16R</th>\n",
       "      <th>Algorithm_XEVAN</th>\n",
       "      <th>ProofType_DPOS</th>\n",
       "      <th>ProofType_DPoS</th>\n",
       "      <th>ProofType_HPoW</th>\n",
       "      <th>ProofType_LPoS</th>\n",
       "      <th>ProofType_POBh</th>\n",
       "      <th>ProofType_PoA</th>\n",
       "      <th>ProofType_PoC</th>\n",
       "      <th>ProofType_PoS</th>\n",
       "      <th>ProofType_PoS/LPoS</th>\n",
       "      <th>ProofType_PoS/PoW</th>\n",
       "      <th>ProofType_PoS/PoW/PoT</th>\n",
       "      <th>ProofType_PoST</th>\n",
       "      <th>ProofType_PoW</th>\n",
       "      <th>ProofType_PoW + Hive</th>\n",
       "      <th>ProofType_PoW and PoS</th>\n",
       "      <th>ProofType_PoW/PoS</th>\n",
       "      <th>ProofType_PoW/PoS</th>\n",
       "      <th>ProofType_PoW/PoW</th>\n",
       "      <th>ProofType_PoW/nPoS</th>\n",
       "      <th>ProofType_Pos</th>\n",
       "      <th>ProofType_Proof of Authority</th>\n",
       "      <th>ProofType_Proof of Trust</th>\n",
       "      <th>ProofType_TPoS</th>\n",
       "      <th>ProofType_Zero-Knowledge Proof</th>\n",
       "      <th>ProofType_dPoW/PoW</th>\n",
       "    </tr>\n",
       "    <tr>\n",
       "      <th>Coin</th>\n",
       "      <th></th>\n",
       "      <th></th>\n",
       "      <th></th>\n",
       "      <th></th>\n",
       "      <th></th>\n",
       "      <th></th>\n",
       "      <th></th>\n",
       "      <th></th>\n",
       "      <th></th>\n",
       "      <th></th>\n",
       "      <th></th>\n",
       "      <th></th>\n",
       "      <th></th>\n",
       "      <th></th>\n",
       "      <th></th>\n",
       "      <th></th>\n",
       "      <th></th>\n",
       "      <th></th>\n",
       "      <th></th>\n",
       "      <th></th>\n",
       "      <th></th>\n",
       "      <th></th>\n",
       "      <th></th>\n",
       "      <th></th>\n",
       "      <th></th>\n",
       "      <th></th>\n",
       "      <th></th>\n",
       "      <th></th>\n",
       "      <th></th>\n",
       "      <th></th>\n",
       "      <th></th>\n",
       "      <th></th>\n",
       "      <th></th>\n",
       "      <th></th>\n",
       "      <th></th>\n",
       "      <th></th>\n",
       "      <th></th>\n",
       "      <th></th>\n",
       "      <th></th>\n",
       "      <th></th>\n",
       "      <th></th>\n",
       "      <th></th>\n",
       "      <th></th>\n",
       "      <th></th>\n",
       "      <th></th>\n",
       "      <th></th>\n",
       "      <th></th>\n",
       "      <th></th>\n",
       "      <th></th>\n",
       "      <th></th>\n",
       "      <th></th>\n",
       "      <th></th>\n",
       "      <th></th>\n",
       "      <th></th>\n",
       "      <th></th>\n",
       "      <th></th>\n",
       "      <th></th>\n",
       "      <th></th>\n",
       "      <th></th>\n",
       "      <th></th>\n",
       "      <th></th>\n",
       "      <th></th>\n",
       "      <th></th>\n",
       "      <th></th>\n",
       "      <th></th>\n",
       "      <th></th>\n",
       "      <th></th>\n",
       "      <th></th>\n",
       "      <th></th>\n",
       "      <th></th>\n",
       "      <th></th>\n",
       "      <th></th>\n",
       "      <th></th>\n",
       "      <th></th>\n",
       "      <th></th>\n",
       "      <th></th>\n",
       "      <th></th>\n",
       "      <th></th>\n",
       "      <th></th>\n",
       "      <th></th>\n",
       "      <th></th>\n",
       "      <th></th>\n",
       "      <th></th>\n",
       "      <th></th>\n",
       "      <th></th>\n",
       "      <th></th>\n",
       "      <th></th>\n",
       "      <th></th>\n",
       "      <th></th>\n",
       "      <th></th>\n",
       "      <th></th>\n",
       "      <th></th>\n",
       "      <th></th>\n",
       "      <th></th>\n",
       "      <th></th>\n",
       "      <th></th>\n",
       "      <th></th>\n",
       "      <th></th>\n",
       "    </tr>\n",
       "  </thead>\n",
       "  <tbody>\n",
       "    <tr>\n",
       "      <th>42</th>\n",
       "      <td>41.99995</td>\n",
       "      <td>42.00000</td>\n",
       "      <td>0</td>\n",
       "      <td>0</td>\n",
       "      <td>0</td>\n",
       "      <td>0</td>\n",
       "      <td>0</td>\n",
       "      <td>0</td>\n",
       "      <td>0</td>\n",
       "      <td>0</td>\n",
       "      <td>0</td>\n",
       "      <td>0</td>\n",
       "      <td>0</td>\n",
       "      <td>0</td>\n",
       "      <td>0</td>\n",
       "      <td>0</td>\n",
       "      <td>0</td>\n",
       "      <td>0</td>\n",
       "      <td>0</td>\n",
       "      <td>0</td>\n",
       "      <td>0</td>\n",
       "      <td>0</td>\n",
       "      <td>0</td>\n",
       "      <td>0</td>\n",
       "      <td>0</td>\n",
       "      <td>0</td>\n",
       "      <td>0</td>\n",
       "      <td>0</td>\n",
       "      <td>0</td>\n",
       "      <td>0</td>\n",
       "      <td>0</td>\n",
       "      <td>0</td>\n",
       "      <td>0</td>\n",
       "      <td>0</td>\n",
       "      <td>0</td>\n",
       "      <td>0</td>\n",
       "      <td>0</td>\n",
       "      <td>0</td>\n",
       "      <td>0</td>\n",
       "      <td>0</td>\n",
       "      <td>0</td>\n",
       "      <td>0</td>\n",
       "      <td>0</td>\n",
       "      <td>0</td>\n",
       "      <td>0</td>\n",
       "      <td>0</td>\n",
       "      <td>0</td>\n",
       "      <td>0</td>\n",
       "      <td>0</td>\n",
       "      <td>0</td>\n",
       "      <td>0</td>\n",
       "      <td>0</td>\n",
       "      <td>0</td>\n",
       "      <td>0</td>\n",
       "      <td>1</td>\n",
       "      <td>0</td>\n",
       "      <td>0</td>\n",
       "      <td>0</td>\n",
       "      <td>0</td>\n",
       "      <td>0</td>\n",
       "      <td>0</td>\n",
       "      <td>0</td>\n",
       "      <td>0</td>\n",
       "      <td>0</td>\n",
       "      <td>0</td>\n",
       "      <td>0</td>\n",
       "      <td>0</td>\n",
       "      <td>0</td>\n",
       "      <td>0</td>\n",
       "      <td>0</td>\n",
       "      <td>0</td>\n",
       "      <td>0</td>\n",
       "      <td>0</td>\n",
       "      <td>0</td>\n",
       "      <td>0</td>\n",
       "      <td>0</td>\n",
       "      <td>0</td>\n",
       "      <td>0</td>\n",
       "      <td>0</td>\n",
       "      <td>0</td>\n",
       "      <td>0</td>\n",
       "      <td>0</td>\n",
       "      <td>0</td>\n",
       "      <td>0</td>\n",
       "      <td>0</td>\n",
       "      <td>0</td>\n",
       "      <td>0</td>\n",
       "      <td>0</td>\n",
       "      <td>1</td>\n",
       "      <td>0</td>\n",
       "      <td>0</td>\n",
       "      <td>0</td>\n",
       "      <td>0</td>\n",
       "      <td>0</td>\n",
       "      <td>0</td>\n",
       "      <td>0</td>\n",
       "      <td>0</td>\n",
       "      <td>0</td>\n",
       "    </tr>\n",
       "    <tr>\n",
       "      <th>404</th>\n",
       "      <td>1055184902.04000</td>\n",
       "      <td>532000000.00000</td>\n",
       "      <td>0</td>\n",
       "      <td>0</td>\n",
       "      <td>0</td>\n",
       "      <td>0</td>\n",
       "      <td>0</td>\n",
       "      <td>0</td>\n",
       "      <td>0</td>\n",
       "      <td>0</td>\n",
       "      <td>0</td>\n",
       "      <td>0</td>\n",
       "      <td>0</td>\n",
       "      <td>0</td>\n",
       "      <td>0</td>\n",
       "      <td>0</td>\n",
       "      <td>0</td>\n",
       "      <td>0</td>\n",
       "      <td>0</td>\n",
       "      <td>0</td>\n",
       "      <td>0</td>\n",
       "      <td>0</td>\n",
       "      <td>0</td>\n",
       "      <td>0</td>\n",
       "      <td>0</td>\n",
       "      <td>0</td>\n",
       "      <td>0</td>\n",
       "      <td>0</td>\n",
       "      <td>0</td>\n",
       "      <td>0</td>\n",
       "      <td>0</td>\n",
       "      <td>0</td>\n",
       "      <td>0</td>\n",
       "      <td>0</td>\n",
       "      <td>0</td>\n",
       "      <td>0</td>\n",
       "      <td>0</td>\n",
       "      <td>0</td>\n",
       "      <td>0</td>\n",
       "      <td>0</td>\n",
       "      <td>0</td>\n",
       "      <td>0</td>\n",
       "      <td>0</td>\n",
       "      <td>0</td>\n",
       "      <td>0</td>\n",
       "      <td>0</td>\n",
       "      <td>0</td>\n",
       "      <td>0</td>\n",
       "      <td>0</td>\n",
       "      <td>0</td>\n",
       "      <td>0</td>\n",
       "      <td>0</td>\n",
       "      <td>0</td>\n",
       "      <td>0</td>\n",
       "      <td>1</td>\n",
       "      <td>0</td>\n",
       "      <td>0</td>\n",
       "      <td>0</td>\n",
       "      <td>0</td>\n",
       "      <td>0</td>\n",
       "      <td>0</td>\n",
       "      <td>0</td>\n",
       "      <td>0</td>\n",
       "      <td>0</td>\n",
       "      <td>0</td>\n",
       "      <td>0</td>\n",
       "      <td>0</td>\n",
       "      <td>0</td>\n",
       "      <td>0</td>\n",
       "      <td>0</td>\n",
       "      <td>0</td>\n",
       "      <td>0</td>\n",
       "      <td>0</td>\n",
       "      <td>0</td>\n",
       "      <td>0</td>\n",
       "      <td>0</td>\n",
       "      <td>0</td>\n",
       "      <td>0</td>\n",
       "      <td>0</td>\n",
       "      <td>0</td>\n",
       "      <td>0</td>\n",
       "      <td>0</td>\n",
       "      <td>0</td>\n",
       "      <td>0</td>\n",
       "      <td>0</td>\n",
       "      <td>0</td>\n",
       "      <td>0</td>\n",
       "      <td>0</td>\n",
       "      <td>1</td>\n",
       "      <td>0</td>\n",
       "      <td>0</td>\n",
       "      <td>0</td>\n",
       "      <td>0</td>\n",
       "      <td>0</td>\n",
       "      <td>0</td>\n",
       "      <td>0</td>\n",
       "      <td>0</td>\n",
       "      <td>0</td>\n",
       "    </tr>\n",
       "    <tr>\n",
       "      <th>1337</th>\n",
       "      <td>29279424622.50270</td>\n",
       "      <td>314159265359.00000</td>\n",
       "      <td>0</td>\n",
       "      <td>0</td>\n",
       "      <td>0</td>\n",
       "      <td>0</td>\n",
       "      <td>0</td>\n",
       "      <td>0</td>\n",
       "      <td>0</td>\n",
       "      <td>0</td>\n",
       "      <td>0</td>\n",
       "      <td>0</td>\n",
       "      <td>0</td>\n",
       "      <td>0</td>\n",
       "      <td>0</td>\n",
       "      <td>0</td>\n",
       "      <td>0</td>\n",
       "      <td>0</td>\n",
       "      <td>0</td>\n",
       "      <td>0</td>\n",
       "      <td>0</td>\n",
       "      <td>0</td>\n",
       "      <td>0</td>\n",
       "      <td>0</td>\n",
       "      <td>0</td>\n",
       "      <td>0</td>\n",
       "      <td>0</td>\n",
       "      <td>0</td>\n",
       "      <td>0</td>\n",
       "      <td>0</td>\n",
       "      <td>0</td>\n",
       "      <td>0</td>\n",
       "      <td>0</td>\n",
       "      <td>0</td>\n",
       "      <td>0</td>\n",
       "      <td>0</td>\n",
       "      <td>0</td>\n",
       "      <td>0</td>\n",
       "      <td>0</td>\n",
       "      <td>0</td>\n",
       "      <td>0</td>\n",
       "      <td>0</td>\n",
       "      <td>0</td>\n",
       "      <td>0</td>\n",
       "      <td>0</td>\n",
       "      <td>0</td>\n",
       "      <td>0</td>\n",
       "      <td>0</td>\n",
       "      <td>0</td>\n",
       "      <td>0</td>\n",
       "      <td>0</td>\n",
       "      <td>0</td>\n",
       "      <td>0</td>\n",
       "      <td>0</td>\n",
       "      <td>0</td>\n",
       "      <td>0</td>\n",
       "      <td>0</td>\n",
       "      <td>0</td>\n",
       "      <td>0</td>\n",
       "      <td>0</td>\n",
       "      <td>0</td>\n",
       "      <td>0</td>\n",
       "      <td>0</td>\n",
       "      <td>0</td>\n",
       "      <td>0</td>\n",
       "      <td>0</td>\n",
       "      <td>0</td>\n",
       "      <td>0</td>\n",
       "      <td>1</td>\n",
       "      <td>0</td>\n",
       "      <td>0</td>\n",
       "      <td>0</td>\n",
       "      <td>0</td>\n",
       "      <td>0</td>\n",
       "      <td>0</td>\n",
       "      <td>0</td>\n",
       "      <td>0</td>\n",
       "      <td>0</td>\n",
       "      <td>0</td>\n",
       "      <td>0</td>\n",
       "      <td>0</td>\n",
       "      <td>0</td>\n",
       "      <td>0</td>\n",
       "      <td>0</td>\n",
       "      <td>0</td>\n",
       "      <td>0</td>\n",
       "      <td>0</td>\n",
       "      <td>0</td>\n",
       "      <td>1</td>\n",
       "      <td>0</td>\n",
       "      <td>0</td>\n",
       "      <td>0</td>\n",
       "      <td>0</td>\n",
       "      <td>0</td>\n",
       "      <td>0</td>\n",
       "      <td>0</td>\n",
       "      <td>0</td>\n",
       "      <td>0</td>\n",
       "    </tr>\n",
       "    <tr>\n",
       "      <th>BTC</th>\n",
       "      <td>17927175.00000</td>\n",
       "      <td>21000000.00000</td>\n",
       "      <td>0</td>\n",
       "      <td>0</td>\n",
       "      <td>0</td>\n",
       "      <td>0</td>\n",
       "      <td>0</td>\n",
       "      <td>0</td>\n",
       "      <td>0</td>\n",
       "      <td>0</td>\n",
       "      <td>0</td>\n",
       "      <td>0</td>\n",
       "      <td>0</td>\n",
       "      <td>0</td>\n",
       "      <td>0</td>\n",
       "      <td>0</td>\n",
       "      <td>0</td>\n",
       "      <td>0</td>\n",
       "      <td>0</td>\n",
       "      <td>0</td>\n",
       "      <td>0</td>\n",
       "      <td>0</td>\n",
       "      <td>0</td>\n",
       "      <td>0</td>\n",
       "      <td>0</td>\n",
       "      <td>0</td>\n",
       "      <td>0</td>\n",
       "      <td>0</td>\n",
       "      <td>0</td>\n",
       "      <td>0</td>\n",
       "      <td>0</td>\n",
       "      <td>0</td>\n",
       "      <td>0</td>\n",
       "      <td>0</td>\n",
       "      <td>0</td>\n",
       "      <td>0</td>\n",
       "      <td>0</td>\n",
       "      <td>0</td>\n",
       "      <td>0</td>\n",
       "      <td>0</td>\n",
       "      <td>0</td>\n",
       "      <td>0</td>\n",
       "      <td>0</td>\n",
       "      <td>0</td>\n",
       "      <td>0</td>\n",
       "      <td>0</td>\n",
       "      <td>0</td>\n",
       "      <td>0</td>\n",
       "      <td>0</td>\n",
       "      <td>1</td>\n",
       "      <td>0</td>\n",
       "      <td>0</td>\n",
       "      <td>0</td>\n",
       "      <td>0</td>\n",
       "      <td>0</td>\n",
       "      <td>0</td>\n",
       "      <td>0</td>\n",
       "      <td>0</td>\n",
       "      <td>0</td>\n",
       "      <td>0</td>\n",
       "      <td>0</td>\n",
       "      <td>0</td>\n",
       "      <td>0</td>\n",
       "      <td>0</td>\n",
       "      <td>0</td>\n",
       "      <td>0</td>\n",
       "      <td>0</td>\n",
       "      <td>0</td>\n",
       "      <td>0</td>\n",
       "      <td>0</td>\n",
       "      <td>0</td>\n",
       "      <td>0</td>\n",
       "      <td>0</td>\n",
       "      <td>0</td>\n",
       "      <td>0</td>\n",
       "      <td>0</td>\n",
       "      <td>0</td>\n",
       "      <td>0</td>\n",
       "      <td>0</td>\n",
       "      <td>0</td>\n",
       "      <td>0</td>\n",
       "      <td>0</td>\n",
       "      <td>0</td>\n",
       "      <td>0</td>\n",
       "      <td>0</td>\n",
       "      <td>1</td>\n",
       "      <td>0</td>\n",
       "      <td>0</td>\n",
       "      <td>0</td>\n",
       "      <td>0</td>\n",
       "      <td>0</td>\n",
       "      <td>0</td>\n",
       "      <td>0</td>\n",
       "      <td>0</td>\n",
       "      <td>0</td>\n",
       "      <td>0</td>\n",
       "      <td>0</td>\n",
       "      <td>0</td>\n",
       "    </tr>\n",
       "    <tr>\n",
       "      <th>ETH</th>\n",
       "      <td>107684222.68650</td>\n",
       "      <td>0.00000</td>\n",
       "      <td>0</td>\n",
       "      <td>0</td>\n",
       "      <td>0</td>\n",
       "      <td>0</td>\n",
       "      <td>0</td>\n",
       "      <td>0</td>\n",
       "      <td>0</td>\n",
       "      <td>0</td>\n",
       "      <td>0</td>\n",
       "      <td>0</td>\n",
       "      <td>0</td>\n",
       "      <td>0</td>\n",
       "      <td>0</td>\n",
       "      <td>0</td>\n",
       "      <td>0</td>\n",
       "      <td>0</td>\n",
       "      <td>0</td>\n",
       "      <td>0</td>\n",
       "      <td>0</td>\n",
       "      <td>0</td>\n",
       "      <td>1</td>\n",
       "      <td>0</td>\n",
       "      <td>0</td>\n",
       "      <td>0</td>\n",
       "      <td>0</td>\n",
       "      <td>0</td>\n",
       "      <td>0</td>\n",
       "      <td>0</td>\n",
       "      <td>0</td>\n",
       "      <td>0</td>\n",
       "      <td>0</td>\n",
       "      <td>0</td>\n",
       "      <td>0</td>\n",
       "      <td>0</td>\n",
       "      <td>0</td>\n",
       "      <td>0</td>\n",
       "      <td>0</td>\n",
       "      <td>0</td>\n",
       "      <td>0</td>\n",
       "      <td>0</td>\n",
       "      <td>0</td>\n",
       "      <td>0</td>\n",
       "      <td>0</td>\n",
       "      <td>0</td>\n",
       "      <td>0</td>\n",
       "      <td>0</td>\n",
       "      <td>0</td>\n",
       "      <td>0</td>\n",
       "      <td>0</td>\n",
       "      <td>0</td>\n",
       "      <td>0</td>\n",
       "      <td>0</td>\n",
       "      <td>0</td>\n",
       "      <td>0</td>\n",
       "      <td>0</td>\n",
       "      <td>0</td>\n",
       "      <td>0</td>\n",
       "      <td>0</td>\n",
       "      <td>0</td>\n",
       "      <td>0</td>\n",
       "      <td>0</td>\n",
       "      <td>0</td>\n",
       "      <td>0</td>\n",
       "      <td>0</td>\n",
       "      <td>0</td>\n",
       "      <td>0</td>\n",
       "      <td>0</td>\n",
       "      <td>0</td>\n",
       "      <td>0</td>\n",
       "      <td>0</td>\n",
       "      <td>0</td>\n",
       "      <td>0</td>\n",
       "      <td>0</td>\n",
       "      <td>0</td>\n",
       "      <td>0</td>\n",
       "      <td>0</td>\n",
       "      <td>0</td>\n",
       "      <td>0</td>\n",
       "      <td>0</td>\n",
       "      <td>0</td>\n",
       "      <td>0</td>\n",
       "      <td>0</td>\n",
       "      <td>0</td>\n",
       "      <td>1</td>\n",
       "      <td>0</td>\n",
       "      <td>0</td>\n",
       "      <td>0</td>\n",
       "      <td>0</td>\n",
       "      <td>0</td>\n",
       "      <td>0</td>\n",
       "      <td>0</td>\n",
       "      <td>0</td>\n",
       "      <td>0</td>\n",
       "      <td>0</td>\n",
       "      <td>0</td>\n",
       "      <td>0</td>\n",
       "    </tr>\n",
       "  </tbody>\n",
       "</table>\n",
       "</div>"
      ],
      "text/plain": [
       "       TotalCoinsMined    TotalCoinSupply  Algorithm_1GB AES Pattern Search  \\\n",
       "Coin                                                                          \n",
       "42            41.99995           42.00000                                 0   \n",
       "404   1055184902.04000    532000000.00000                                 0   \n",
       "1337 29279424622.50270 314159265359.00000                                 0   \n",
       "BTC     17927175.00000     21000000.00000                                 0   \n",
       "ETH    107684222.68650            0.00000                                 0   \n",
       "\n",
       "      Algorithm_536  Algorithm_Argon2d  Algorithm_BLAKE256  Algorithm_Blake  \\\n",
       "Coin                                                                          \n",
       "42                0                  0                   0                0   \n",
       "404               0                  0                   0                0   \n",
       "1337              0                  0                   0                0   \n",
       "BTC               0                  0                   0                0   \n",
       "ETH               0                  0                   0                0   \n",
       "\n",
       "      Algorithm_Blake2S  Algorithm_Blake2b  Algorithm_C11  \\\n",
       "Coin                                                        \n",
       "42                    0                  0              0   \n",
       "404                   0                  0              0   \n",
       "1337                  0                  0              0   \n",
       "BTC                   0                  0              0   \n",
       "ETH                   0                  0              0   \n",
       "\n",
       "      Algorithm_Cloverhash  Algorithm_Counterparty  Algorithm_CryptoNight  \\\n",
       "Coin                                                                        \n",
       "42                       0                       0                      0   \n",
       "404                      0                       0                      0   \n",
       "1337                     0                       0                      0   \n",
       "BTC                      0                       0                      0   \n",
       "ETH                      0                       0                      0   \n",
       "\n",
       "      Algorithm_CryptoNight Heavy  Algorithm_CryptoNight-V7  \\\n",
       "Coin                                                          \n",
       "42                              0                         0   \n",
       "404                             0                         0   \n",
       "1337                            0                         0   \n",
       "BTC                             0                         0   \n",
       "ETH                             0                         0   \n",
       "\n",
       "      Algorithm_Cryptonight-GPU  Algorithm_DPoS  Algorithm_Dagger  \\\n",
       "Coin                                                                \n",
       "42                            0               0                 0   \n",
       "404                           0               0                 0   \n",
       "1337                          0               0                 0   \n",
       "BTC                           0               0                 0   \n",
       "ETH                           0               0                 0   \n",
       "\n",
       "      Algorithm_Dagger-Hashimoto  Algorithm_ECC 256K1  Algorithm_Equihash  \\\n",
       "Coin                                                                        \n",
       "42                             0                    0                   0   \n",
       "404                            0                    0                   0   \n",
       "1337                           0                    0                   0   \n",
       "BTC                            0                    0                   0   \n",
       "ETH                            0                    0                   0   \n",
       "\n",
       "      Algorithm_Equihash+Scrypt  Algorithm_Ethash  Algorithm_Exosis  \\\n",
       "Coin                                                                  \n",
       "42                            0                 0                 0   \n",
       "404                           0                 0                 0   \n",
       "1337                          0                 0                 0   \n",
       "BTC                           0                 0                 0   \n",
       "ETH                           0                 1                 0   \n",
       "\n",
       "      Algorithm_Green Protocol  Algorithm_Groestl  Algorithm_HMQ1725  \\\n",
       "Coin                                                                   \n",
       "42                           0                  0                  0   \n",
       "404                          0                  0                  0   \n",
       "1337                         0                  0                  0   \n",
       "BTC                          0                  0                  0   \n",
       "ETH                          0                  0                  0   \n",
       "\n",
       "      Algorithm_HybridScryptHash256  Algorithm_IMesh  \\\n",
       "Coin                                                   \n",
       "42                                0                0   \n",
       "404                               0                0   \n",
       "1337                              0                0   \n",
       "BTC                               0                0   \n",
       "ETH                               0                0   \n",
       "\n",
       "      Algorithm_Jump Consistent Hash  Algorithm_Keccak  Algorithm_Leased POS  \\\n",
       "Coin                                                                           \n",
       "42                                 0                 0                     0   \n",
       "404                                0                 0                     0   \n",
       "1337                               0                 0                     0   \n",
       "BTC                                0                 0                     0   \n",
       "ETH                                0                 0                     0   \n",
       "\n",
       "      Algorithm_Lyra2RE  Algorithm_Lyra2REv2  Algorithm_Lyra2Z  \\\n",
       "Coin                                                             \n",
       "42                    0                    0                 0   \n",
       "404                   0                    0                 0   \n",
       "1337                  0                    0                 0   \n",
       "BTC                   0                    0                 0   \n",
       "ETH                   0                    0                 0   \n",
       "\n",
       "      Algorithm_M7 POW  Algorithm_Multiple  Algorithm_NIST5  \\\n",
       "Coin                                                          \n",
       "42                   0                   0                0   \n",
       "404                  0                   0                0   \n",
       "1337                 0                   0                0   \n",
       "BTC                  0                   0                0   \n",
       "ETH                  0                   0                0   \n",
       "\n",
       "      Algorithm_NeoScrypt  Algorithm_Ouroboros  Algorithm_PHI1612  \\\n",
       "Coin                                                                \n",
       "42                      0                    0                  0   \n",
       "404                     0                    0                  0   \n",
       "1337                    0                    0                  0   \n",
       "BTC                     0                    0                  0   \n",
       "ETH                     0                    0                  0   \n",
       "\n",
       "      Algorithm_POS 2.0  Algorithm_POS 3.0  Algorithm_PoS  \\\n",
       "Coin                                                        \n",
       "42                    0                  0              0   \n",
       "404                   0                  0              0   \n",
       "1337                  0                  0              0   \n",
       "BTC                   0                  0              0   \n",
       "ETH                   0                  0              0   \n",
       "\n",
       "      Algorithm_Proof-of-Authority  Algorithm_Proof-of-BibleHash  \\\n",
       "Coin                                                               \n",
       "42                               0                             0   \n",
       "404                              0                             0   \n",
       "1337                             0                             0   \n",
       "BTC                              0                             0   \n",
       "ETH                              0                             0   \n",
       "\n",
       "      Algorithm_QUAIT  Algorithm_QuBit  Algorithm_Quark  Algorithm_SHA-256  \\\n",
       "Coin                                                                         \n",
       "42                  0                0                0                  0   \n",
       "404                 0                0                0                  0   \n",
       "1337                0                0                0                  0   \n",
       "BTC                 0                0                0                  1   \n",
       "ETH                 0                0                0                  0   \n",
       "\n",
       "      Algorithm_SHA-256 + Hive  Algorithm_SHA-256D  Algorithm_SHA-512  \\\n",
       "Coin                                                                    \n",
       "42                           0                   0                  0   \n",
       "404                          0                   0                  0   \n",
       "1337                         0                   0                  0   \n",
       "BTC                          0                   0                  0   \n",
       "ETH                          0                   0                  0   \n",
       "\n",
       "      Algorithm_SHA3  Algorithm_Scrypt  Algorithm_Semux BFT consensus  \\\n",
       "Coin                                                                    \n",
       "42                 0                 1                              0   \n",
       "404                0                 1                              0   \n",
       "1337               0                 0                              0   \n",
       "BTC                0                 0                              0   \n",
       "ETH                0                 0                              0   \n",
       "\n",
       "      Algorithm_Shabal256  Algorithm_Skein  Algorithm_SkunkHash  \\\n",
       "Coin                                                              \n",
       "42                      0                0                    0   \n",
       "404                     0                0                    0   \n",
       "1337                    0                0                    0   \n",
       "BTC                     0                0                    0   \n",
       "ETH                     0                0                    0   \n",
       "\n",
       "      Algorithm_SkunkHash v2 Raptor  Algorithm_Stanford Folding  \\\n",
       "Coin                                                              \n",
       "42                                0                           0   \n",
       "404                               0                           0   \n",
       "1337                              0                           0   \n",
       "BTC                               0                           0   \n",
       "ETH                               0                           0   \n",
       "\n",
       "      Algorithm_TRC10  Algorithm_Time Travel  Algorithm_Tribus  \\\n",
       "Coin                                                             \n",
       "42                  0                      0                 0   \n",
       "404                 0                      0                 0   \n",
       "1337                0                      0                 0   \n",
       "BTC                 0                      0                 0   \n",
       "ETH                 0                      0                 0   \n",
       "\n",
       "      Algorithm_VBFT  Algorithm_VeChainThor Authority  Algorithm_X11  \\\n",
       "Coin                                                                   \n",
       "42                 0                                0              0   \n",
       "404                0                                0              0   \n",
       "1337               0                                0              0   \n",
       "BTC                0                                0              0   \n",
       "ETH                0                                0              0   \n",
       "\n",
       "      Algorithm_X11GOST  Algorithm_X13  Algorithm_X14  Algorithm_X15  \\\n",
       "Coin                                                                   \n",
       "42                    0              0              0              0   \n",
       "404                   0              0              0              0   \n",
       "1337                  0              1              0              0   \n",
       "BTC                   0              0              0              0   \n",
       "ETH                   0              0              0              0   \n",
       "\n",
       "      Algorithm_X16R  Algorithm_XEVAN  ProofType_DPOS  ProofType_DPoS  \\\n",
       "Coin                                                                    \n",
       "42                 0                0               0               0   \n",
       "404                0                0               0               0   \n",
       "1337               0                0               0               0   \n",
       "BTC                0                0               0               0   \n",
       "ETH                0                0               0               0   \n",
       "\n",
       "      ProofType_HPoW  ProofType_LPoS  ProofType_POBh  ProofType_PoA  \\\n",
       "Coin                                                                  \n",
       "42                 0               0               0              0   \n",
       "404                0               0               0              0   \n",
       "1337               0               0               0              0   \n",
       "BTC                0               0               0              0   \n",
       "ETH                0               0               0              0   \n",
       "\n",
       "      ProofType_PoC  ProofType_PoS  ProofType_PoS/LPoS  ProofType_PoS/PoW  \\\n",
       "Coin                                                                        \n",
       "42                0              0                   0                  0   \n",
       "404               0              0                   0                  0   \n",
       "1337              0              0                   0                  0   \n",
       "BTC               0              0                   0                  0   \n",
       "ETH               0              0                   0                  0   \n",
       "\n",
       "      ProofType_PoS/PoW/PoT  ProofType_PoST  ProofType_PoW  \\\n",
       "Coin                                                         \n",
       "42                        0               0              0   \n",
       "404                       0               0              0   \n",
       "1337                      0               0              0   \n",
       "BTC                       0               0              1   \n",
       "ETH                       0               0              1   \n",
       "\n",
       "      ProofType_PoW + Hive  ProofType_PoW and PoS  ProofType_PoW/PoS  \\\n",
       "Coin                                                                   \n",
       "42                       0                      0                  1   \n",
       "404                      0                      0                  1   \n",
       "1337                     0                      0                  1   \n",
       "BTC                      0                      0                  0   \n",
       "ETH                      0                      0                  0   \n",
       "\n",
       "      ProofType_PoW/PoS   ProofType_PoW/PoW  ProofType_PoW/nPoS  \\\n",
       "Coin                                                              \n",
       "42                     0                  0                   0   \n",
       "404                    0                  0                   0   \n",
       "1337                   0                  0                   0   \n",
       "BTC                    0                  0                   0   \n",
       "ETH                    0                  0                   0   \n",
       "\n",
       "      ProofType_Pos  ProofType_Proof of Authority  ProofType_Proof of Trust  \\\n",
       "Coin                                                                          \n",
       "42                0                             0                         0   \n",
       "404               0                             0                         0   \n",
       "1337              0                             0                         0   \n",
       "BTC               0                             0                         0   \n",
       "ETH               0                             0                         0   \n",
       "\n",
       "      ProofType_TPoS  ProofType_Zero-Knowledge Proof  ProofType_dPoW/PoW  \n",
       "Coin                                                                      \n",
       "42                 0                               0                   0  \n",
       "404                0                               0                   0  \n",
       "1337               0                               0                   0  \n",
       "BTC                0                               0                   0  \n",
       "ETH                0                               0                   0  "
      ]
     },
     "execution_count": 113,
     "metadata": {},
     "output_type": "execute_result"
    }
   ],
   "source": [
    "# Create dummy variables for text features\n",
    "# Encode the categorical features (One-hot encode)\n",
    "crypto_enc = pd.get_dummies(crypto_df7)\n",
    "crypto_enc.head()"
   ]
  },
  {
   "cell_type": "code",
   "execution_count": 114,
   "metadata": {},
   "outputs": [
    {
     "data": {
      "text/plain": [
       "(532, 98)"
      ]
     },
     "execution_count": 114,
     "metadata": {},
     "output_type": "execute_result"
    }
   ],
   "source": [
    "crypto_enc.shape"
   ]
  },
  {
   "cell_type": "code",
   "execution_count": 115,
   "metadata": {},
   "outputs": [
    {
     "name": "stdout",
     "output_type": "stream",
     "text": [
      "<class 'pandas.core.frame.DataFrame'>\n",
      "Index: 532 entries, 42 to XBC\n",
      "Data columns (total 98 columns):\n",
      "TotalCoinsMined                     532 non-null float64\n",
      "TotalCoinSupply                     532 non-null float64\n",
      "Algorithm_1GB AES Pattern Search    532 non-null uint8\n",
      "Algorithm_536                       532 non-null uint8\n",
      "Algorithm_Argon2d                   532 non-null uint8\n",
      "Algorithm_BLAKE256                  532 non-null uint8\n",
      "Algorithm_Blake                     532 non-null uint8\n",
      "Algorithm_Blake2S                   532 non-null uint8\n",
      "Algorithm_Blake2b                   532 non-null uint8\n",
      "Algorithm_C11                       532 non-null uint8\n",
      "Algorithm_Cloverhash                532 non-null uint8\n",
      "Algorithm_Counterparty              532 non-null uint8\n",
      "Algorithm_CryptoNight               532 non-null uint8\n",
      "Algorithm_CryptoNight Heavy         532 non-null uint8\n",
      "Algorithm_CryptoNight-V7            532 non-null uint8\n",
      "Algorithm_Cryptonight-GPU           532 non-null uint8\n",
      "Algorithm_DPoS                      532 non-null uint8\n",
      "Algorithm_Dagger                    532 non-null uint8\n",
      "Algorithm_Dagger-Hashimoto          532 non-null uint8\n",
      "Algorithm_ECC 256K1                 532 non-null uint8\n",
      "Algorithm_Equihash                  532 non-null uint8\n",
      "Algorithm_Equihash+Scrypt           532 non-null uint8\n",
      "Algorithm_Ethash                    532 non-null uint8\n",
      "Algorithm_Exosis                    532 non-null uint8\n",
      "Algorithm_Green Protocol            532 non-null uint8\n",
      "Algorithm_Groestl                   532 non-null uint8\n",
      "Algorithm_HMQ1725                   532 non-null uint8\n",
      "Algorithm_HybridScryptHash256       532 non-null uint8\n",
      "Algorithm_IMesh                     532 non-null uint8\n",
      "Algorithm_Jump Consistent Hash      532 non-null uint8\n",
      "Algorithm_Keccak                    532 non-null uint8\n",
      "Algorithm_Leased POS                532 non-null uint8\n",
      "Algorithm_Lyra2RE                   532 non-null uint8\n",
      "Algorithm_Lyra2REv2                 532 non-null uint8\n",
      "Algorithm_Lyra2Z                    532 non-null uint8\n",
      "Algorithm_M7 POW                    532 non-null uint8\n",
      "Algorithm_Multiple                  532 non-null uint8\n",
      "Algorithm_NIST5                     532 non-null uint8\n",
      "Algorithm_NeoScrypt                 532 non-null uint8\n",
      "Algorithm_Ouroboros                 532 non-null uint8\n",
      "Algorithm_PHI1612                   532 non-null uint8\n",
      "Algorithm_POS 2.0                   532 non-null uint8\n",
      "Algorithm_POS 3.0                   532 non-null uint8\n",
      "Algorithm_PoS                       532 non-null uint8\n",
      "Algorithm_Proof-of-Authority        532 non-null uint8\n",
      "Algorithm_Proof-of-BibleHash        532 non-null uint8\n",
      "Algorithm_QUAIT                     532 non-null uint8\n",
      "Algorithm_QuBit                     532 non-null uint8\n",
      "Algorithm_Quark                     532 non-null uint8\n",
      "Algorithm_SHA-256                   532 non-null uint8\n",
      "Algorithm_SHA-256 + Hive            532 non-null uint8\n",
      "Algorithm_SHA-256D                  532 non-null uint8\n",
      "Algorithm_SHA-512                   532 non-null uint8\n",
      "Algorithm_SHA3                      532 non-null uint8\n",
      "Algorithm_Scrypt                    532 non-null uint8\n",
      "Algorithm_Semux BFT consensus       532 non-null uint8\n",
      "Algorithm_Shabal256                 532 non-null uint8\n",
      "Algorithm_Skein                     532 non-null uint8\n",
      "Algorithm_SkunkHash                 532 non-null uint8\n",
      "Algorithm_SkunkHash v2 Raptor       532 non-null uint8\n",
      "Algorithm_Stanford Folding          532 non-null uint8\n",
      "Algorithm_TRC10                     532 non-null uint8\n",
      "Algorithm_Time Travel               532 non-null uint8\n",
      "Algorithm_Tribus                    532 non-null uint8\n",
      "Algorithm_VBFT                      532 non-null uint8\n",
      "Algorithm_VeChainThor Authority     532 non-null uint8\n",
      "Algorithm_X11                       532 non-null uint8\n",
      "Algorithm_X11GOST                   532 non-null uint8\n",
      "Algorithm_X13                       532 non-null uint8\n",
      "Algorithm_X14                       532 non-null uint8\n",
      "Algorithm_X15                       532 non-null uint8\n",
      "Algorithm_X16R                      532 non-null uint8\n",
      "Algorithm_XEVAN                     532 non-null uint8\n",
      "ProofType_DPOS                      532 non-null uint8\n",
      "ProofType_DPoS                      532 non-null uint8\n",
      "ProofType_HPoW                      532 non-null uint8\n",
      "ProofType_LPoS                      532 non-null uint8\n",
      "ProofType_POBh                      532 non-null uint8\n",
      "ProofType_PoA                       532 non-null uint8\n",
      "ProofType_PoC                       532 non-null uint8\n",
      "ProofType_PoS                       532 non-null uint8\n",
      "ProofType_PoS/LPoS                  532 non-null uint8\n",
      "ProofType_PoS/PoW                   532 non-null uint8\n",
      "ProofType_PoS/PoW/PoT               532 non-null uint8\n",
      "ProofType_PoST                      532 non-null uint8\n",
      "ProofType_PoW                       532 non-null uint8\n",
      "ProofType_PoW + Hive                532 non-null uint8\n",
      "ProofType_PoW and PoS               532 non-null uint8\n",
      "ProofType_PoW/PoS                   532 non-null uint8\n",
      "ProofType_PoW/PoS                   532 non-null uint8\n",
      "ProofType_PoW/PoW                   532 non-null uint8\n",
      "ProofType_PoW/nPoS                  532 non-null uint8\n",
      "ProofType_Pos                       532 non-null uint8\n",
      "ProofType_Proof of Authority        532 non-null uint8\n",
      "ProofType_Proof of Trust            532 non-null uint8\n",
      "ProofType_TPoS                      532 non-null uint8\n",
      "ProofType_Zero-Knowledge Proof      532 non-null uint8\n",
      "ProofType_dPoW/PoW                  532 non-null uint8\n",
      "dtypes: float64(2), uint8(96)\n",
      "memory usage: 62.3+ KB\n"
     ]
    }
   ],
   "source": [
    "crypto_enc.info()"
   ]
  },
  {
   "cell_type": "code",
   "execution_count": 116,
   "metadata": {},
   "outputs": [],
   "source": [
    "# Standardize data\n",
    "from sklearn import preprocessing\n",
    "\n",
    "scaler = preprocessing.StandardScaler().fit(crypto_enc)\n",
    "crypto_enc_scaled = scaler.transform(crypto_enc)"
   ]
  },
  {
   "cell_type": "code",
   "execution_count": 117,
   "metadata": {},
   "outputs": [
    {
     "data": {
      "text/plain": [
       "array([[-0.11710817, -0.1528703 , -0.0433963 , ..., -0.0433963 ,\n",
       "        -0.0433963 , -0.0433963 ],\n",
       "       [-0.09396955, -0.145009  , -0.0433963 , ..., -0.0433963 ,\n",
       "        -0.0433963 , -0.0433963 ],\n",
       "       [ 0.52494561,  4.48942416, -0.0433963 , ..., -0.0433963 ,\n",
       "        -0.0433963 , -0.0433963 ],\n",
       "       ...,\n",
       "       [-0.09561336, -0.13217937, -0.0433963 , ..., -0.0433963 ,\n",
       "        -0.0433963 , -0.0433963 ],\n",
       "       [-0.11694817, -0.15255998, -0.0433963 , ..., -0.0433963 ,\n",
       "        -0.0433963 , -0.0433963 ],\n",
       "       [-0.11710536, -0.15285552, -0.0433963 , ..., -0.0433963 ,\n",
       "        -0.0433963 , -0.0433963 ]])"
      ]
     },
     "execution_count": 117,
     "metadata": {},
     "output_type": "execute_result"
    }
   ],
   "source": [
    "crypto_enc_scaled"
   ]
  },
  {
   "cell_type": "markdown",
   "metadata": {},
   "source": [
    "### Reducing Dimensions Using PCA"
   ]
  },
  {
   "cell_type": "code",
   "execution_count": 118,
   "metadata": {},
   "outputs": [],
   "source": [
    "# Use PCA to reduce dimensions to 3 principal components\n",
    "\n",
    "# Initialize PCA model\n",
    "pca = PCA(n_components=3)\n",
    "\n",
    "# Get two principal components for the iris data.\n",
    "crypto_pca = pca.fit_transform(crypto_enc_scaled)"
   ]
  },
  {
   "cell_type": "code",
   "execution_count": 119,
   "metadata": {},
   "outputs": [
    {
     "data": {
      "text/plain": [
       "array([[-0.32741472,  1.0171186 , -0.46981938],\n",
       "       [-0.31077097,  1.01706994, -0.47002036],\n",
       "       [ 2.30891876,  1.51778333, -0.49441837],\n",
       "       ...,\n",
       "       [ 0.32214098, -2.28270024,  0.31189696],\n",
       "       [-0.14130858, -1.91743996,  0.39730259],\n",
       "       [-0.2823732 ,  0.8023966 , -0.22830835]])"
      ]
     },
     "execution_count": 119,
     "metadata": {},
     "output_type": "execute_result"
    }
   ],
   "source": [
    "crypto_pca"
   ]
  },
  {
   "cell_type": "code",
   "execution_count": 120,
   "metadata": {},
   "outputs": [
    {
     "data": {
      "text/html": [
       "<div>\n",
       "<style scoped>\n",
       "    .dataframe tbody tr th:only-of-type {\n",
       "        vertical-align: middle;\n",
       "    }\n",
       "\n",
       "    .dataframe tbody tr th {\n",
       "        vertical-align: top;\n",
       "    }\n",
       "\n",
       "    .dataframe thead th {\n",
       "        text-align: right;\n",
       "    }\n",
       "</style>\n",
       "<table border=\"1\" class=\"dataframe\">\n",
       "  <thead>\n",
       "    <tr style=\"text-align: right;\">\n",
       "      <th></th>\n",
       "      <th>principal component 1</th>\n",
       "      <th>principal component 2</th>\n",
       "      <th>principal component 3</th>\n",
       "    </tr>\n",
       "  </thead>\n",
       "  <tbody>\n",
       "    <tr>\n",
       "      <th>0</th>\n",
       "      <td>-0.32741</td>\n",
       "      <td>1.01712</td>\n",
       "      <td>-0.46982</td>\n",
       "    </tr>\n",
       "    <tr>\n",
       "      <th>1</th>\n",
       "      <td>-0.31077</td>\n",
       "      <td>1.01707</td>\n",
       "      <td>-0.47002</td>\n",
       "    </tr>\n",
       "    <tr>\n",
       "      <th>2</th>\n",
       "      <td>2.30892</td>\n",
       "      <td>1.51778</td>\n",
       "      <td>-0.49442</td>\n",
       "    </tr>\n",
       "    <tr>\n",
       "      <th>3</th>\n",
       "      <td>-0.14867</td>\n",
       "      <td>-1.30537</td>\n",
       "      <td>0.17963</td>\n",
       "    </tr>\n",
       "    <tr>\n",
       "      <th>4</th>\n",
       "      <td>-0.15050</td>\n",
       "      <td>-1.98967</td>\n",
       "      <td>0.25873</td>\n",
       "    </tr>\n",
       "  </tbody>\n",
       "</table>\n",
       "</div>"
      ],
      "text/plain": [
       "   principal component 1  principal component 2  principal component 3\n",
       "0               -0.32741                1.01712               -0.46982\n",
       "1               -0.31077                1.01707               -0.47002\n",
       "2                2.30892                1.51778               -0.49442\n",
       "3               -0.14867               -1.30537                0.17963\n",
       "4               -0.15050               -1.98967                0.25873"
      ]
     },
     "execution_count": 120,
     "metadata": {},
     "output_type": "execute_result"
    }
   ],
   "source": [
    "# Create a DataFrame with the principal components data\n",
    "# Transform PCA data to a DataFrame\n",
    "df_crypto_pca = pd.DataFrame(\n",
    "    data=crypto_pca, columns=[\"principal component 1\", \"principal component 2\", \"principal component 3\"]\n",
    ")\n",
    "df_crypto_pca.head()"
   ]
  },
  {
   "cell_type": "code",
   "execution_count": 121,
   "metadata": {},
   "outputs": [],
   "source": [
    "df_crypto_pca.set_index(keys=coin_df.index, inplace=True)"
   ]
  },
  {
   "cell_type": "code",
   "execution_count": 122,
   "metadata": {},
   "outputs": [
    {
     "data": {
      "text/html": [
       "<div>\n",
       "<style scoped>\n",
       "    .dataframe tbody tr th:only-of-type {\n",
       "        vertical-align: middle;\n",
       "    }\n",
       "\n",
       "    .dataframe tbody tr th {\n",
       "        vertical-align: top;\n",
       "    }\n",
       "\n",
       "    .dataframe thead th {\n",
       "        text-align: right;\n",
       "    }\n",
       "</style>\n",
       "<table border=\"1\" class=\"dataframe\">\n",
       "  <thead>\n",
       "    <tr style=\"text-align: right;\">\n",
       "      <th></th>\n",
       "      <th>principal component 1</th>\n",
       "      <th>principal component 2</th>\n",
       "      <th>principal component 3</th>\n",
       "    </tr>\n",
       "    <tr>\n",
       "      <th>Coin</th>\n",
       "      <th></th>\n",
       "      <th></th>\n",
       "      <th></th>\n",
       "    </tr>\n",
       "  </thead>\n",
       "  <tbody>\n",
       "    <tr>\n",
       "      <th>42</th>\n",
       "      <td>-0.32741</td>\n",
       "      <td>1.01712</td>\n",
       "      <td>-0.46982</td>\n",
       "    </tr>\n",
       "    <tr>\n",
       "      <th>404</th>\n",
       "      <td>-0.31077</td>\n",
       "      <td>1.01707</td>\n",
       "      <td>-0.47002</td>\n",
       "    </tr>\n",
       "    <tr>\n",
       "      <th>1337</th>\n",
       "      <td>2.30892</td>\n",
       "      <td>1.51778</td>\n",
       "      <td>-0.49442</td>\n",
       "    </tr>\n",
       "    <tr>\n",
       "      <th>BTC</th>\n",
       "      <td>-0.14867</td>\n",
       "      <td>-1.30537</td>\n",
       "      <td>0.17963</td>\n",
       "    </tr>\n",
       "    <tr>\n",
       "      <th>ETH</th>\n",
       "      <td>-0.15050</td>\n",
       "      <td>-1.98967</td>\n",
       "      <td>0.25873</td>\n",
       "    </tr>\n",
       "  </tbody>\n",
       "</table>\n",
       "</div>"
      ],
      "text/plain": [
       "      principal component 1  principal component 2  principal component 3\n",
       "Coin                                                                     \n",
       "42                 -0.32741                1.01712               -0.46982\n",
       "404                -0.31077                1.01707               -0.47002\n",
       "1337                2.30892                1.51778               -0.49442\n",
       "BTC                -0.14867               -1.30537                0.17963\n",
       "ETH                -0.15050               -1.98967                0.25873"
      ]
     },
     "execution_count": 122,
     "metadata": {},
     "output_type": "execute_result"
    }
   ],
   "source": [
    "df_crypto_pca.head()"
   ]
  },
  {
   "cell_type": "code",
   "execution_count": 123,
   "metadata": {},
   "outputs": [
    {
     "data": {
      "text/plain": [
       "(532, 3)"
      ]
     },
     "execution_count": 123,
     "metadata": {},
     "output_type": "execute_result"
    }
   ],
   "source": [
    "df_crypto_pca.shape"
   ]
  },
  {
   "cell_type": "code",
   "execution_count": 124,
   "metadata": {},
   "outputs": [
    {
     "data": {
      "text/plain": [
       "array([0.02792996, 0.02138767, 0.02047156])"
      ]
     },
     "execution_count": 124,
     "metadata": {},
     "output_type": "execute_result"
    }
   ],
   "source": [
    "# Fetch the explained variance\n",
    "pca.explained_variance_ratio_"
   ]
  },
  {
   "cell_type": "code",
   "execution_count": 125,
   "metadata": {},
   "outputs": [
    {
     "data": {
      "text/plain": [
       "0.0697891903280696"
      ]
     },
     "execution_count": 125,
     "metadata": {},
     "output_type": "execute_result"
    }
   ],
   "source": [
    "sum(pca.explained_variance_ratio_)"
   ]
  },
  {
   "cell_type": "markdown",
   "metadata": {},
   "source": [
    "### Clustering Crytocurrencies Using K-Means\n",
    "\n",
    "#### Find the Best Value for `k` Using the Elbow Curve"
   ]
  },
  {
   "cell_type": "code",
   "execution_count": 126,
   "metadata": {},
   "outputs": [],
   "source": [
    "inertia = []\n",
    "k = list(range(1, 11))\n",
    "\n",
    "# Calculate the inertia for the range of k values\n",
    "for i in k:\n",
    "    km = KMeans(n_clusters=i, random_state=0)\n",
    "    km.fit(df_crypto_pca)\n",
    "    inertia.append(km.inertia_)\n",
    "\n",
    "# Create the Elbow Curve using hvPlot\n",
    "\n",
    "#elbow_data = {\"k\": k, \"inertia\": inertia}\n",
    "#df_elbow = pd.DataFrame(elbow_data)\n",
    "#df_elbow.hvplot.line(x=\"k\", y=\"inertia\", xticks=k, title=\"Elbow Curve\")"
   ]
  },
  {
   "cell_type": "code",
   "execution_count": 127,
   "metadata": {},
   "outputs": [
    {
     "data": {
      "text/plain": [
       "[1, 2, 3, 4, 5, 6, 7, 8, 9, 10]"
      ]
     },
     "execution_count": 127,
     "metadata": {},
     "output_type": "execute_result"
    }
   ],
   "source": [
    "k"
   ]
  },
  {
   "cell_type": "code",
   "execution_count": 128,
   "metadata": {},
   "outputs": [
    {
     "data": {
      "text/plain": [
       "[3638.529226944236,\n",
       " 2476.087039330604,\n",
       " 1509.4872779556802,\n",
       " 573.2898641093072,\n",
       " 384.0351865214371,\n",
       " 282.50658963883507,\n",
       " 220.6593175840135,\n",
       " 165.89318589924085,\n",
       " 140.34676178375108,\n",
       " 114.181745041806]"
      ]
     },
     "execution_count": 128,
     "metadata": {},
     "output_type": "execute_result"
    }
   ],
   "source": [
    "inertia"
   ]
  },
  {
   "cell_type": "code",
   "execution_count": 129,
   "metadata": {},
   "outputs": [
    {
     "data": {
      "text/plain": [
       "[<matplotlib.lines.Line2D at 0x248bfda2c48>]"
      ]
     },
     "execution_count": 129,
     "metadata": {},
     "output_type": "execute_result"
    },
    {
     "data": {
      "image/png": "[encoded data removed]",
      "text/plain": [
       "<Figure size 432x288 with 1 Axes>"
      ]
     },
     "metadata": {
      "needs_background": "light"
     },
     "output_type": "display_data"
    }
   ],
   "source": [
    "plt.plot(k, inertia)"
   ]
  },
  {
   "cell_type": "markdown",
   "metadata": {},
   "source": [
    "Running K-Means with `k=<your best value for k here>`  K = 4 seems to be the best value."
   ]
  },
  {
   "cell_type": "code",
   "execution_count": 130,
   "metadata": {},
   "outputs": [
    {
     "data": {
      "text/html": [
       "<div>\n",
       "<style scoped>\n",
       "    .dataframe tbody tr th:only-of-type {\n",
       "        vertical-align: middle;\n",
       "    }\n",
       "\n",
       "    .dataframe tbody tr th {\n",
       "        vertical-align: top;\n",
       "    }\n",
       "\n",
       "    .dataframe thead th {\n",
       "        text-align: right;\n",
       "    }\n",
       "</style>\n",
       "<table border=\"1\" class=\"dataframe\">\n",
       "  <thead>\n",
       "    <tr style=\"text-align: right;\">\n",
       "      <th></th>\n",
       "      <th>principal component 1</th>\n",
       "      <th>principal component 2</th>\n",
       "      <th>principal component 3</th>\n",
       "      <th>class</th>\n",
       "    </tr>\n",
       "    <tr>\n",
       "      <th>Coin</th>\n",
       "      <th></th>\n",
       "      <th></th>\n",
       "      <th></th>\n",
       "      <th></th>\n",
       "    </tr>\n",
       "  </thead>\n",
       "  <tbody>\n",
       "    <tr>\n",
       "      <th>42</th>\n",
       "      <td>-0.32741</td>\n",
       "      <td>1.01712</td>\n",
       "      <td>-0.46982</td>\n",
       "      <td>0</td>\n",
       "    </tr>\n",
       "    <tr>\n",
       "      <th>404</th>\n",
       "      <td>-0.31077</td>\n",
       "      <td>1.01707</td>\n",
       "      <td>-0.47002</td>\n",
       "      <td>0</td>\n",
       "    </tr>\n",
       "    <tr>\n",
       "      <th>1337</th>\n",
       "      <td>2.30892</td>\n",
       "      <td>1.51778</td>\n",
       "      <td>-0.49442</td>\n",
       "      <td>0</td>\n",
       "    </tr>\n",
       "    <tr>\n",
       "      <th>BTC</th>\n",
       "      <td>-0.14867</td>\n",
       "      <td>-1.30537</td>\n",
       "      <td>0.17963</td>\n",
       "      <td>1</td>\n",
       "    </tr>\n",
       "    <tr>\n",
       "      <th>ETH</th>\n",
       "      <td>-0.15050</td>\n",
       "      <td>-1.98967</td>\n",
       "      <td>0.25873</td>\n",
       "      <td>1</td>\n",
       "    </tr>\n",
       "  </tbody>\n",
       "</table>\n",
       "</div>"
      ],
      "text/plain": [
       "      principal component 1  principal component 2  principal component 3  \\\n",
       "Coin                                                                        \n",
       "42                 -0.32741                1.01712               -0.46982   \n",
       "404                -0.31077                1.01707               -0.47002   \n",
       "1337                2.30892                1.51778               -0.49442   \n",
       "BTC                -0.14867               -1.30537                0.17963   \n",
       "ETH                -0.15050               -1.98967                0.25873   \n",
       "\n",
       "      class  \n",
       "Coin         \n",
       "42        0  \n",
       "404       0  \n",
       "1337      0  \n",
       "BTC       1  \n",
       "ETH       1  "
      ]
     },
     "execution_count": 130,
     "metadata": {},
     "output_type": "execute_result"
    }
   ],
   "source": [
    "# Initialize the K-Means model\n",
    "model = KMeans(n_clusters=4, random_state=0)\n",
    "# Fit the model\n",
    "model.fit(df_crypto_pca)\n",
    "# Predict clusters\n",
    "predictions = model.predict(df_crypto_pca)\n",
    "# Create a new DataFrame including predicted clusters and cryptocurrencies features\n",
    "df_crypto_pca_k = df_crypto_pca.copy(deep=True)\n",
    "df_crypto_pca_k[\"class\"] = model.labels_\n",
    "df_crypto_pca_k.head()\n",
    "\n",
    "\n",
    "\n",
    "#concat_df = pd.DataFrame(crypto_df7[[\"Algorithm\", \"ProofType\", \"TotalCoinsMined\", \"TotalCoinSupply\"]])\n",
    "#clustered_df=pd.concat([concat_df.reset_index(drop=True), df_crypto_pca_k[['PC 1', 'PC 2', 'PC 3']].reset_index()], axis=1)"
   ]
  },
  {
   "cell_type": "code",
   "execution_count": 131,
   "metadata": {},
   "outputs": [
    {
     "data": {
      "text/html": [
       "<div>\n",
       "<style scoped>\n",
       "    .dataframe tbody tr th:only-of-type {\n",
       "        vertical-align: middle;\n",
       "    }\n",
       "\n",
       "    .dataframe tbody tr th {\n",
       "        vertical-align: top;\n",
       "    }\n",
       "\n",
       "    .dataframe thead th {\n",
       "        text-align: right;\n",
       "    }\n",
       "</style>\n",
       "<table border=\"1\" class=\"dataframe\">\n",
       "  <thead>\n",
       "    <tr style=\"text-align: right;\">\n",
       "      <th></th>\n",
       "      <th>CoinName</th>\n",
       "      <th>Algorithm</th>\n",
       "      <th>ProofType</th>\n",
       "      <th>TotalCoinsMined</th>\n",
       "      <th>TotalCoinSupply</th>\n",
       "    </tr>\n",
       "    <tr>\n",
       "      <th>Coin</th>\n",
       "      <th></th>\n",
       "      <th></th>\n",
       "      <th></th>\n",
       "      <th></th>\n",
       "      <th></th>\n",
       "    </tr>\n",
       "  </thead>\n",
       "  <tbody>\n",
       "    <tr>\n",
       "      <th>42</th>\n",
       "      <td>42 Coin</td>\n",
       "      <td>Scrypt</td>\n",
       "      <td>PoW/PoS</td>\n",
       "      <td>41.99995</td>\n",
       "      <td>42.00000</td>\n",
       "    </tr>\n",
       "    <tr>\n",
       "      <th>404</th>\n",
       "      <td>404Coin</td>\n",
       "      <td>Scrypt</td>\n",
       "      <td>PoW/PoS</td>\n",
       "      <td>1055184902.04000</td>\n",
       "      <td>532000000.00000</td>\n",
       "    </tr>\n",
       "    <tr>\n",
       "      <th>1337</th>\n",
       "      <td>EliteCoin</td>\n",
       "      <td>X13</td>\n",
       "      <td>PoW/PoS</td>\n",
       "      <td>29279424622.50270</td>\n",
       "      <td>314159265359.00000</td>\n",
       "    </tr>\n",
       "    <tr>\n",
       "      <th>BTC</th>\n",
       "      <td>Bitcoin</td>\n",
       "      <td>SHA-256</td>\n",
       "      <td>PoW</td>\n",
       "      <td>17927175.00000</td>\n",
       "      <td>21000000.00000</td>\n",
       "    </tr>\n",
       "    <tr>\n",
       "      <th>ETH</th>\n",
       "      <td>Ethereum</td>\n",
       "      <td>Ethash</td>\n",
       "      <td>PoW</td>\n",
       "      <td>107684222.68650</td>\n",
       "      <td>0.00000</td>\n",
       "    </tr>\n",
       "  </tbody>\n",
       "</table>\n",
       "</div>"
      ],
      "text/plain": [
       "       CoinName Algorithm ProofType   TotalCoinsMined    TotalCoinSupply\n",
       "Coin                                                                    \n",
       "42      42 Coin    Scrypt   PoW/PoS          41.99995           42.00000\n",
       "404     404Coin    Scrypt   PoW/PoS  1055184902.04000    532000000.00000\n",
       "1337  EliteCoin       X13   PoW/PoS 29279424622.50270 314159265359.00000\n",
       "BTC     Bitcoin   SHA-256       PoW    17927175.00000     21000000.00000\n",
       "ETH    Ethereum    Ethash       PoW   107684222.68650            0.00000"
      ]
     },
     "execution_count": 131,
     "metadata": {},
     "output_type": "execute_result"
    }
   ],
   "source": [
    "crypto_df6.head()"
   ]
  },
  {
   "cell_type": "code",
   "execution_count": 132,
   "metadata": {},
   "outputs": [],
   "source": [
    "concat_df = pd.concat([crypto_df6,df_crypto_pca_k], axis =1 )"
   ]
  },
  {
   "cell_type": "code",
   "execution_count": 133,
   "metadata": {},
   "outputs": [
    {
     "data": {
      "text/plain": [
       "(532, 4)"
      ]
     },
     "execution_count": 133,
     "metadata": {},
     "output_type": "execute_result"
    }
   ],
   "source": [
    "df_crypto_pca_k.shape"
   ]
  },
  {
   "cell_type": "code",
   "execution_count": 134,
   "metadata": {},
   "outputs": [
    {
     "data": {
      "text/html": [
       "<div>\n",
       "<style scoped>\n",
       "    .dataframe tbody tr th:only-of-type {\n",
       "        vertical-align: middle;\n",
       "    }\n",
       "\n",
       "    .dataframe tbody tr th {\n",
       "        vertical-align: top;\n",
       "    }\n",
       "\n",
       "    .dataframe thead th {\n",
       "        text-align: right;\n",
       "    }\n",
       "</style>\n",
       "<table border=\"1\" class=\"dataframe\">\n",
       "  <thead>\n",
       "    <tr style=\"text-align: right;\">\n",
       "      <th></th>\n",
       "      <th>CoinName</th>\n",
       "      <th>Algorithm</th>\n",
       "      <th>ProofType</th>\n",
       "      <th>TotalCoinsMined</th>\n",
       "      <th>TotalCoinSupply</th>\n",
       "      <th>principal component 1</th>\n",
       "      <th>principal component 2</th>\n",
       "      <th>principal component 3</th>\n",
       "      <th>class</th>\n",
       "    </tr>\n",
       "    <tr>\n",
       "      <th>Coin</th>\n",
       "      <th></th>\n",
       "      <th></th>\n",
       "      <th></th>\n",
       "      <th></th>\n",
       "      <th></th>\n",
       "      <th></th>\n",
       "      <th></th>\n",
       "      <th></th>\n",
       "      <th></th>\n",
       "    </tr>\n",
       "  </thead>\n",
       "  <tbody>\n",
       "    <tr>\n",
       "      <th>42</th>\n",
       "      <td>42 Coin</td>\n",
       "      <td>Scrypt</td>\n",
       "      <td>PoW/PoS</td>\n",
       "      <td>41.99995</td>\n",
       "      <td>42.00000</td>\n",
       "      <td>-0.32741</td>\n",
       "      <td>1.01712</td>\n",
       "      <td>-0.46982</td>\n",
       "      <td>0</td>\n",
       "    </tr>\n",
       "    <tr>\n",
       "      <th>404</th>\n",
       "      <td>404Coin</td>\n",
       "      <td>Scrypt</td>\n",
       "      <td>PoW/PoS</td>\n",
       "      <td>1055184902.04000</td>\n",
       "      <td>532000000.00000</td>\n",
       "      <td>-0.31077</td>\n",
       "      <td>1.01707</td>\n",
       "      <td>-0.47002</td>\n",
       "      <td>0</td>\n",
       "    </tr>\n",
       "    <tr>\n",
       "      <th>1337</th>\n",
       "      <td>EliteCoin</td>\n",
       "      <td>X13</td>\n",
       "      <td>PoW/PoS</td>\n",
       "      <td>29279424622.50270</td>\n",
       "      <td>314159265359.00000</td>\n",
       "      <td>2.30892</td>\n",
       "      <td>1.51778</td>\n",
       "      <td>-0.49442</td>\n",
       "      <td>0</td>\n",
       "    </tr>\n",
       "    <tr>\n",
       "      <th>BTC</th>\n",
       "      <td>Bitcoin</td>\n",
       "      <td>SHA-256</td>\n",
       "      <td>PoW</td>\n",
       "      <td>17927175.00000</td>\n",
       "      <td>21000000.00000</td>\n",
       "      <td>-0.14867</td>\n",
       "      <td>-1.30537</td>\n",
       "      <td>0.17963</td>\n",
       "      <td>1</td>\n",
       "    </tr>\n",
       "    <tr>\n",
       "      <th>ETH</th>\n",
       "      <td>Ethereum</td>\n",
       "      <td>Ethash</td>\n",
       "      <td>PoW</td>\n",
       "      <td>107684222.68650</td>\n",
       "      <td>0.00000</td>\n",
       "      <td>-0.15050</td>\n",
       "      <td>-1.98967</td>\n",
       "      <td>0.25873</td>\n",
       "      <td>1</td>\n",
       "    </tr>\n",
       "  </tbody>\n",
       "</table>\n",
       "</div>"
      ],
      "text/plain": [
       "       CoinName Algorithm ProofType   TotalCoinsMined    TotalCoinSupply  \\\n",
       "Coin                                                                       \n",
       "42      42 Coin    Scrypt   PoW/PoS          41.99995           42.00000   \n",
       "404     404Coin    Scrypt   PoW/PoS  1055184902.04000    532000000.00000   \n",
       "1337  EliteCoin       X13   PoW/PoS 29279424622.50270 314159265359.00000   \n",
       "BTC     Bitcoin   SHA-256       PoW    17927175.00000     21000000.00000   \n",
       "ETH    Ethereum    Ethash       PoW   107684222.68650            0.00000   \n",
       "\n",
       "      principal component 1  principal component 2  principal component 3  \\\n",
       "Coin                                                                        \n",
       "42                 -0.32741                1.01712               -0.46982   \n",
       "404                -0.31077                1.01707               -0.47002   \n",
       "1337                2.30892                1.51778               -0.49442   \n",
       "BTC                -0.14867               -1.30537                0.17963   \n",
       "ETH                -0.15050               -1.98967                0.25873   \n",
       "\n",
       "      class  \n",
       "Coin         \n",
       "42        0  \n",
       "404       0  \n",
       "1337      0  \n",
       "BTC       1  \n",
       "ETH       1  "
      ]
     },
     "execution_count": 134,
     "metadata": {},
     "output_type": "execute_result"
    }
   ],
   "source": [
    "concat_df.head()"
   ]
  },
  {
   "cell_type": "code",
   "execution_count": 135,
   "metadata": {},
   "outputs": [
    {
     "data": {
      "text/plain": [
       "0    289\n",
       "1    238\n",
       "3      4\n",
       "2      1\n",
       "Name: class, dtype: int64"
      ]
     },
     "execution_count": 135,
     "metadata": {},
     "output_type": "execute_result"
    }
   ],
   "source": [
    "concat_df['class'].value_counts()"
   ]
  },
  {
   "cell_type": "code",
   "execution_count": 136,
   "metadata": {},
   "outputs": [
    {
     "data": {
      "text/plain": [
       "(532, 9)"
      ]
     },
     "execution_count": 136,
     "metadata": {},
     "output_type": "execute_result"
    }
   ],
   "source": [
    "concat_df.shape"
   ]
  },
  {
   "cell_type": "code",
   "execution_count": null,
   "metadata": {},
   "outputs": [],
   "source": []
  },
  {
   "cell_type": "code",
   "execution_count": 137,
   "metadata": {},
   "outputs": [
    {
     "data": {
      "text/plain": [
       "0    289\n",
       "1    238\n",
       "3      4\n",
       "2      1\n",
       "Name: class, dtype: int64"
      ]
     },
     "execution_count": 137,
     "metadata": {},
     "output_type": "execute_result"
    }
   ],
   "source": [
    "concat_df['class'].value_counts()"
   ]
  },
  {
   "cell_type": "markdown",
   "metadata": {},
   "source": [
    "### Visualizing Results\n",
    "\n",
    "#### 3D-Scatter with Clusters"
   ]
  },
  {
   "cell_type": "code",
   "execution_count": 138,
   "metadata": {},
   "outputs": [
    {
     "data": {
      "application/vnd.plotly.v1+json": {
       "config": {
        "plotlyServerURL": "https://plot.ly"
       },
       "data": [
        {
         "customdata": [
          [
           "Scrypt"
          ],
          [
           "Scrypt"
          ],
          [
           "X13"
          ],
          [
           "SHA-256"
          ],
          [
           "Ethash"
          ],
          [
           "Scrypt"
          ],
          [
           "X11"
          ],
          [
           "CryptoNight-V7"
          ],
          [
           "Ethash"
          ],
          [
           "Equihash"
          ],
          [
           "SHA-512"
          ],
          [
           "Multiple"
          ],
          [
           "SHA-256"
          ],
          [
           "SHA-256"
          ],
          [
           "Scrypt"
          ],
          [
           "X15"
          ],
          [
           "X11"
          ],
          [
           "Scrypt"
          ],
          [
           "Scrypt"
          ],
          [
           "Scrypt"
          ],
          [
           "Multiple"
          ],
          [
           "Scrypt"
          ],
          [
           "SHA-256"
          ],
          [
           "Scrypt"
          ],
          [
           "Scrypt"
          ],
          [
           "Scrypt"
          ],
          [
           "Quark"
          ],
          [
           "Groestl"
          ],
          [
           "Scrypt"
          ],
          [
           "Scrypt"
          ],
          [
           "Scrypt"
          ],
          [
           "Scrypt"
          ],
          [
           "Scrypt"
          ],
          [
           "X11"
          ],
          [
           "Scrypt"
          ],
          [
           "Groestl"
          ],
          [
           "Multiple"
          ],
          [
           "SHA-256"
          ],
          [
           "Scrypt"
          ],
          [
           "Scrypt"
          ],
          [
           "Scrypt"
          ],
          [
           "Scrypt"
          ],
          [
           "PoS"
          ],
          [
           "Scrypt"
          ],
          [
           "Scrypt"
          ],
          [
           "NeoScrypt"
          ],
          [
           "Scrypt"
          ],
          [
           "Scrypt"
          ],
          [
           "Scrypt"
          ],
          [
           "Scrypt"
          ],
          [
           "X11"
          ],
          [
           "Scrypt"
          ],
          [
           "X11"
          ],
          [
           "SHA-256"
          ],
          [
           "Scrypt"
          ],
          [
           "Scrypt"
          ],
          [
           "Scrypt"
          ],
          [
           "SHA3"
          ],
          [
           "Scrypt"
          ],
          [
           "HybridScryptHash256"
          ],
          [
           "Scrypt"
          ],
          [
           "Scrypt"
          ],
          [
           "SHA-256"
          ],
          [
           "Scrypt"
          ],
          [
           "X13"
          ],
          [
           "Scrypt"
          ],
          [
           "SHA-256"
          ],
          [
           "Scrypt"
          ],
          [
           "X13"
          ],
          [
           "NeoScrypt"
          ],
          [
           "Scrypt"
          ],
          [
           "Scrypt"
          ],
          [
           "Scrypt"
          ],
          [
           "Scrypt"
          ],
          [
           "Scrypt"
          ],
          [
           "Scrypt"
          ],
          [
           "X11"
          ],
          [
           "X11"
          ],
          [
           "SHA-256"
          ],
          [
           "Multiple"
          ],
          [
           "SHA-256"
          ],
          [
           "PHI1612"
          ],
          [
           "X11"
          ],
          [
           "SHA-256"
          ],
          [
           "SHA-256"
          ],
          [
           "SHA-256"
          ],
          [
           "X11"
          ],
          [
           "Scrypt"
          ],
          [
           "Scrypt"
          ],
          [
           "Scrypt"
          ],
          [
           "Scrypt"
          ],
          [
           "Lyra2REv2"
          ],
          [
           "Scrypt"
          ],
          [
           "X11"
          ],
          [
           "Multiple"
          ],
          [
           "SHA-256"
          ],
          [
           "X13"
          ],
          [
           "Scrypt"
          ],
          [
           "CryptoNight"
          ],
          [
           "CryptoNight"
          ],
          [
           "Shabal256"
          ],
          [
           "Counterparty"
          ],
          [
           "Scrypt"
          ],
          [
           "SHA-256"
          ],
          [
           "Groestl"
          ],
          [
           "Scrypt"
          ],
          [
           "Scrypt"
          ],
          [
           "Scrypt"
          ],
          [
           "X13"
          ],
          [
           "Scrypt"
          ],
          [
           "Scrypt"
          ],
          [
           "Scrypt"
          ],
          [
           "Scrypt"
          ],
          [
           "X13"
          ],
          [
           "Scrypt"
          ],
          [
           "Stanford Folding"
          ],
          [
           "X11"
          ],
          [
           "Multiple"
          ],
          [
           "QuBit"
          ],
          [
           "Scrypt"
          ],
          [
           "Scrypt"
          ],
          [
           "Scrypt"
          ],
          [
           "M7 POW"
          ],
          [
           "Scrypt"
          ],
          [
           "SHA-256"
          ],
          [
           "Scrypt"
          ],
          [
           "X11"
          ],
          [
           "SHA3"
          ],
          [
           "X11"
          ],
          [
           "Lyra2RE"
          ],
          [
           "SHA-256"
          ],
          [
           "QUAIT"
          ],
          [
           "X11"
          ],
          [
           "X11"
          ],
          [
           "Scrypt"
          ],
          [
           "Scrypt"
          ],
          [
           "Scrypt"
          ],
          [
           "Ethash"
          ],
          [
           "X13"
          ],
          [
           "Blake2b"
          ],
          [
           "SHA-256"
          ],
          [
           "X15"
          ],
          [
           "X11"
          ],
          [
           "SHA-256"
          ],
          [
           "BLAKE256"
          ],
          [
           "Scrypt"
          ],
          [
           "1GB AES Pattern Search"
          ],
          [
           "SHA-256"
          ],
          [
           "X11"
          ],
          [
           "Scrypt"
          ],
          [
           "SHA-256"
          ],
          [
           "SHA-256"
          ],
          [
           "NIST5"
          ],
          [
           "Scrypt"
          ],
          [
           "Scrypt"
          ],
          [
           "X11"
          ],
          [
           "Dagger"
          ],
          [
           "Scrypt"
          ],
          [
           "X11GOST"
          ],
          [
           "X11"
          ],
          [
           "Scrypt"
          ],
          [
           "SHA-256"
          ],
          [
           "Scrypt"
          ],
          [
           "PoS"
          ],
          [
           "Scrypt"
          ],
          [
           "X11"
          ],
          [
           "X11"
          ],
          [
           "SHA-256"
          ],
          [
           "SHA-256"
          ],
          [
           "NIST5"
          ],
          [
           "X11"
          ],
          [
           "Scrypt"
          ],
          [
           "POS 3.0"
          ],
          [
           "Scrypt"
          ],
          [
           "Scrypt"
          ],
          [
           "Scrypt"
          ],
          [
           "X13"
          ],
          [
           "X11"
          ],
          [
           "X11"
          ],
          [
           "Equihash"
          ],
          [
           "X11"
          ],
          [
           "Scrypt"
          ],
          [
           "CryptoNight"
          ],
          [
           "SHA-256"
          ],
          [
           "SHA-256"
          ],
          [
           "X11"
          ],
          [
           "Scrypt"
          ],
          [
           "Multiple"
          ],
          [
           "Scrypt"
          ],
          [
           "Scrypt"
          ],
          [
           "Scrypt"
          ],
          [
           "SHA-256"
          ],
          [
           "Scrypt"
          ],
          [
           "Scrypt"
          ],
          [
           "SHA-256D"
          ],
          [
           "PoS"
          ],
          [
           "Scrypt"
          ],
          [
           "X11"
          ],
          [
           "Lyra2Z"
          ],
          [
           "PoS"
          ],
          [
           "X13"
          ],
          [
           "X14"
          ],
          [
           "PoS"
          ],
          [
           "SHA-256D"
          ],
          [
           "Ethash"
          ],
          [
           "Equihash"
          ],
          [
           "DPoS"
          ],
          [
           "X11"
          ],
          [
           "Scrypt"
          ],
          [
           "X11"
          ],
          [
           "X13"
          ],
          [
           "X11"
          ],
          [
           "PoS"
          ],
          [
           "Scrypt"
          ],
          [
           "Scrypt"
          ],
          [
           "X11"
          ],
          [
           "PoS"
          ],
          [
           "X11"
          ],
          [
           "SHA-256"
          ],
          [
           "Scrypt"
          ],
          [
           "X11"
          ],
          [
           "Scrypt"
          ],
          [
           "Scrypt"
          ],
          [
           "X11"
          ],
          [
           "CryptoNight"
          ],
          [
           "Scrypt"
          ],
          [
           "Scrypt"
          ],
          [
           "Scrypt"
          ],
          [
           "Scrypt"
          ],
          [
           "Quark"
          ],
          [
           "QuBit"
          ],
          [
           "Scrypt"
          ],
          [
           "CryptoNight"
          ],
          [
           "Lyra2RE"
          ],
          [
           "Scrypt"
          ],
          [
           "SHA-256"
          ],
          [
           "X11"
          ],
          [
           "Scrypt"
          ],
          [
           "X11"
          ],
          [
           "Scrypt"
          ],
          [
           "CryptoNight-V7"
          ],
          [
           "Scrypt"
          ],
          [
           "Scrypt"
          ],
          [
           "Scrypt"
          ],
          [
           "X13"
          ],
          [
           "X11"
          ],
          [
           "Equihash"
          ],
          [
           "Scrypt"
          ],
          [
           "Scrypt"
          ],
          [
           "Lyra2RE"
          ],
          [
           "Scrypt"
          ],
          [
           "Dagger-Hashimoto"
          ],
          [
           "X11"
          ],
          [
           "Blake2S"
          ],
          [
           "X11"
          ],
          [
           "Scrypt"
          ],
          [
           "PoS"
          ],
          [
           "X11"
          ],
          [
           "NIST5"
          ],
          [
           "PoS"
          ],
          [
           "X11"
          ],
          [
           "Scrypt"
          ],
          [
           "Scrypt"
          ],
          [
           "Scrypt"
          ],
          [
           "SHA-256"
          ],
          [
           "X11"
          ],
          [
           "Scrypt"
          ],
          [
           "Scrypt"
          ],
          [
           "SHA-256"
          ],
          [
           "PoS"
          ],
          [
           "Scrypt"
          ],
          [
           "X15"
          ],
          [
           "SHA-256"
          ],
          [
           "Scrypt"
          ],
          [
           "POS 3.0"
          ],
          [
           "CryptoNight-V7"
          ],
          [
           "536"
          ],
          [
           "Argon2d"
          ],
          [
           "Blake2b"
          ],
          [
           "Cloverhash"
          ],
          [
           "CryptoNight"
          ],
          [
           "NIST5"
          ],
          [
           "X11"
          ],
          [
           "NIST5"
          ],
          [
           "Skein"
          ],
          [
           "Scrypt"
          ],
          [
           "X13"
          ],
          [
           "Scrypt"
          ],
          [
           "X11"
          ],
          [
           "X11"
          ],
          [
           "Scrypt"
          ],
          [
           "CryptoNight"
          ],
          [
           "X13"
          ],
          [
           "Time Travel"
          ],
          [
           "Scrypt"
          ],
          [
           "Keccak"
          ],
          [
           "SkunkHash v2 Raptor"
          ],
          [
           "X11"
          ],
          [
           "Skein"
          ],
          [
           "SHA-256"
          ],
          [
           "X11"
          ],
          [
           "Scrypt"
          ],
          [
           "VeChainThor Authority"
          ],
          [
           "Scrypt"
          ],
          [
           "PoS"
          ],
          [
           "Scrypt"
          ],
          [
           "Scrypt"
          ],
          [
           "Scrypt"
          ],
          [
           "Scrypt"
          ],
          [
           "Scrypt"
          ],
          [
           "Scrypt"
          ],
          [
           "Scrypt"
          ],
          [
           "CryptoNight"
          ],
          [
           "SHA-512"
          ],
          [
           "Ouroboros"
          ],
          [
           "X11"
          ],
          [
           "Equihash"
          ],
          [
           "NeoScrypt"
          ],
          [
           "X11"
          ],
          [
           "Scrypt"
          ],
          [
           "NeoScrypt"
          ],
          [
           "Lyra2REv2"
          ],
          [
           "Equihash"
          ],
          [
           "Scrypt"
          ],
          [
           "SHA-256"
          ],
          [
           "NIST5"
          ],
          [
           "PHI1612"
          ],
          [
           "Dagger"
          ],
          [
           "Scrypt"
          ],
          [
           "Quark"
          ],
          [
           "Scrypt"
          ],
          [
           "POS 2.0"
          ],
          [
           "Scrypt"
          ],
          [
           "SHA-256"
          ],
          [
           "X11"
          ],
          [
           "NeoScrypt"
          ],
          [
           "Ethash"
          ],
          [
           "NeoScrypt"
          ],
          [
           "X11"
          ],
          [
           "DPoS"
          ],
          [
           "NIST5"
          ],
          [
           "X13"
          ],
          [
           "Multiple"
          ],
          [
           "Scrypt"
          ],
          [
           "CryptoNight"
          ],
          [
           "CryptoNight"
          ],
          [
           "Ethash"
          ],
          [
           "NIST5"
          ],
          [
           "Quark"
          ],
          [
           "X11"
          ],
          [
           "CryptoNight-V7"
          ],
          [
           "Scrypt"
          ],
          [
           "Scrypt"
          ],
          [
           "Scrypt"
          ],
          [
           "X11"
          ],
          [
           "BLAKE256"
          ],
          [
           "X11"
          ],
          [
           "NeoScrypt"
          ],
          [
           "Quark"
          ],
          [
           "NeoScrypt"
          ],
          [
           "Scrypt"
          ],
          [
           "Scrypt"
          ],
          [
           "Scrypt"
          ],
          [
           "X11"
          ],
          [
           "X11"
          ],
          [
           "SHA-256"
          ],
          [
           "C11"
          ],
          [
           "POS 3.0"
          ],
          [
           "Ethash"
          ],
          [
           "Scrypt"
          ],
          [
           "CryptoNight"
          ],
          [
           "SkunkHash"
          ],
          [
           "Scrypt"
          ],
          [
           "CryptoNight"
          ],
          [
           "Scrypt"
          ],
          [
           "Dagger"
          ],
          [
           "Lyra2REv2"
          ],
          [
           "X13"
          ],
          [
           "Proof-of-BibleHash"
          ],
          [
           "SHA-256 + Hive"
          ],
          [
           "Scrypt"
          ],
          [
           "Scrypt"
          ],
          [
           "X11"
          ],
          [
           "C11"
          ],
          [
           "Proof-of-Authority"
          ],
          [
           "X11"
          ],
          [
           "XEVAN"
          ],
          [
           "Scrypt"
          ],
          [
           "VBFT"
          ],
          [
           "Ethash"
          ],
          [
           "CryptoNight"
          ],
          [
           "Scrypt"
          ],
          [
           "IMesh"
          ],
          [
           "NIST5"
          ],
          [
           "Scrypt"
          ],
          [
           "Scrypt"
          ],
          [
           "Equihash"
          ],
          [
           "Scrypt"
          ],
          [
           "Lyra2Z"
          ],
          [
           "Green Protocol"
          ],
          [
           "PoS"
          ],
          [
           "Scrypt"
          ],
          [
           "Semux BFT consensus"
          ],
          [
           "X11"
          ],
          [
           "Quark"
          ],
          [
           "PoS"
          ],
          [
           "CryptoNight"
          ],
          [
           "X16R"
          ],
          [
           "Scrypt"
          ],
          [
           "NIST5"
          ],
          [
           "Lyra2RE"
          ],
          [
           "XEVAN"
          ],
          [
           "Tribus"
          ],
          [
           "Scrypt"
          ],
          [
           "Lyra2Z"
          ],
          [
           "CryptoNight"
          ],
          [
           "CryptoNight Heavy"
          ],
          [
           "CryptoNight"
          ],
          [
           "Scrypt"
          ],
          [
           "Scrypt"
          ],
          [
           "Jump Consistent Hash"
          ],
          [
           "SHA-256D"
          ],
          [
           "CryptoNight"
          ],
          [
           "Scrypt"
          ],
          [
           "X15"
          ],
          [
           "Scrypt"
          ],
          [
           "Quark"
          ],
          [
           "SHA-256"
          ],
          [
           "DPoS"
          ],
          [
           "X16R"
          ],
          [
           "HMQ1725"
          ],
          [
           "X11"
          ],
          [
           "X16R"
          ],
          [
           "Quark"
          ],
          [
           "Quark"
          ],
          [
           "Scrypt"
          ],
          [
           "Lyra2REv2"
          ],
          [
           "Quark"
          ],
          [
           "Scrypt"
          ],
          [
           "Scrypt"
          ],
          [
           "CryptoNight-V7"
          ],
          [
           "Cryptonight-GPU"
          ],
          [
           "XEVAN"
          ],
          [
           "CryptoNight Heavy"
          ],
          [
           "X11"
          ],
          [
           "X11"
          ],
          [
           "Scrypt"
          ],
          [
           "PoS"
          ],
          [
           "SHA-256"
          ],
          [
           "Keccak"
          ],
          [
           "X11"
          ],
          [
           "X11"
          ],
          [
           "Scrypt"
          ],
          [
           "SHA-512"
          ],
          [
           "X16R"
          ],
          [
           "ECC 256K1"
          ],
          [
           "Equihash"
          ],
          [
           "XEVAN"
          ],
          [
           "Lyra2Z"
          ],
          [
           "SHA-256"
          ],
          [
           "XEVAN"
          ],
          [
           "X11"
          ],
          [
           "CryptoNight"
          ],
          [
           "Quark"
          ],
          [
           "Blake"
          ],
          [
           "Blake"
          ],
          [
           "Equihash"
          ],
          [
           "Exosis"
          ],
          [
           "Scrypt"
          ],
          [
           "Scrypt"
          ],
          [
           "Equihash"
          ],
          [
           "Quark"
          ],
          [
           "Equihash"
          ],
          [
           "Quark"
          ],
          [
           "Scrypt"
          ],
          [
           "QuBit"
          ],
          [
           "X11"
          ],
          [
           "Scrypt"
          ],
          [
           "XEVAN"
          ],
          [
           "SHA-256D"
          ],
          [
           "X11"
          ],
          [
           "SHA-256"
          ],
          [
           "X13"
          ],
          [
           "SHA-256"
          ],
          [
           "X11"
          ],
          [
           "DPoS"
          ],
          [
           "Scrypt"
          ],
          [
           "Scrypt"
          ],
          [
           "X11"
          ],
          [
           "NeoScrypt"
          ],
          [
           "Scrypt"
          ],
          [
           "Blake"
          ],
          [
           "Scrypt"
          ],
          [
           "SHA-256"
          ],
          [
           "Scrypt"
          ],
          [
           "X11"
          ],
          [
           "Scrypt"
          ],
          [
           "Scrypt"
          ],
          [
           "SHA-256"
          ],
          [
           "X11"
          ],
          [
           "SHA-256"
          ],
          [
           "Scrypt"
          ],
          [
           "Scrypt"
          ],
          [
           "Scrypt"
          ],
          [
           "Groestl"
          ],
          [
           "X11"
          ],
          [
           "Scrypt"
          ],
          [
           "PoS"
          ],
          [
           "Scrypt"
          ],
          [
           "Scrypt"
          ],
          [
           "X11"
          ],
          [
           "SHA-256"
          ],
          [
           "DPoS"
          ],
          [
           "Scrypt"
          ],
          [
           "Scrypt"
          ],
          [
           "NeoScrypt"
          ],
          [
           "Multiple"
          ],
          [
           "X13"
          ],
          [
           "Equihash+Scrypt"
          ],
          [
           "DPoS"
          ],
          [
           "Ethash"
          ],
          [
           "DPoS"
          ],
          [
           "SHA-256"
          ],
          [
           "Leased POS"
          ],
          [
           "PoS"
          ],
          [
           "TRC10"
          ],
          [
           "PoS"
          ],
          [
           "SHA-256"
          ],
          [
           "Scrypt"
          ],
          [
           "CryptoNight"
          ],
          [
           "Equihash"
          ],
          [
           "Scrypt"
          ]
         ],
         "hovertemplate": "<b>%{hovertext}</b><br><br>principal component 1=%{x}<br>principal component 2=%{y}<br>principal component 3=%{z}<br>Algorithm=%{customdata[0]}<br>class=%{marker.color}<extra></extra>",
         "hovertext": [
          "42 Coin",
          "404Coin",
          "EliteCoin",
          "Bitcoin",
          "Ethereum",
          "Litecoin",
          "Dash",
          "Monero",
          "Ethereum Classic",
          "ZCash",
          "Bitshares",
          "DigiByte",
          "BitcoinDark",
          "PayCoin",
          "ProsperCoin",
          "KoboCoin",
          "Spreadcoin",
          "Argentum",
          "Aurora Coin",
          "BlueCoin",
          "MyriadCoin",
          "MoonCoin",
          "ZetaCoin",
          "SexCoin",
          "Quatloo",
          "EnergyCoin",
          "QuarkCoin",
          "Riecoin",
          "Digitalcoin ",
          "BitBar",
          "Catcoin",
          "CryptoBullion",
          "CannaCoin",
          "CryptCoin",
          "CasinoCoin",
          "Diamond",
          "Verge",
          "DevCoin",
          "EarthCoin",
          "E-Gulden",
          "Einsteinium",
          "Emerald",
          "Exclusive Coin",
          "FlutterCoin",
          "Franko",
          "FeatherCoin",
          "GrandCoin",
          "GlobalCoin",
          "GoldCoin",
          "HoboNickels",
          "HyperStake",
          "Infinite Coin",
          "IOCoin",
          "IXcoin",
          "KrugerCoin",
          "LuckyCoin",
          "Litebar ",
          "MaxCoin",
          "MegaCoin",
          "MediterraneanCoin",
          "MintCoin",
          "MinCoin",
          "MazaCoin",
          "Nautilus Coin",
          "NavCoin",
          "NobleCoin",
          "Namecoin",
          "NyanCoin",
          "OpalCoin",
          "Orbitcoin",
          "PotCoin",
          "PhoenixCoin",
          "Reddcoin",
          "RonPaulCoin",
          "StableCoin",
          "SmartCoin",
          "SuperCoin",
          "SyncCoin",
          "SysCoin",
          "TeslaCoin",
          "TigerCoin",
          "TittieCoin",
          "TorCoin",
          "TerraCoin",
          "UnbreakableCoin",
          "Unobtanium",
          "UroCoin",
          "UnitaryStatus Dollar",
          "UltraCoin",
          "ViaCoin",
          "VeriCoin",
          "Vertcoin",
          "WorldCoin",
          "X11 Coin",
          "Crypti",
          "JouleCoin",
          "StealthCoin",
          "ZCC Coin",
          "ByteCoin",
          "DigitalNote ",
          "BurstCoin",
          "StorjCoin",
          "MonaCoin",
          "Neutron",
          "FairCoin",
          "Gulden",
          "RubyCoin",
          "PesetaCoin",
          "Kore",
          "Wild Beast Coin",
          "Dnotes",
          "Flo",
          "8BIT Coin",
          "Sativa Coin",
          "ArtByte",
          "Folding Coin",
          "Ucoin",
          "Unitus",
          "CypherPunkCoin",
          "OmniCron",
          "Vtorrent",
          "GreenCoin",
          "Cryptonite",
          "MasterCoin",
          "SoonCoin",
          "1Credit",
          "IslaCoin",
          "Nexus",
          "MarsCoin ",
          "Crypto",
          "Anarchists Prime",
          "Droidz",
          "BowsCoin",
          "Squall Coin",
          "Song Coin",
          "BitZeny",
          "Diggits",
          "Expanse",
          "Paycon",
          "Siacoin",
          "Emercoin",
          "EverGreenCoin",
          "MindCoin",
          "I0coin",
          "Decred",
          "Revolution VR",
          "HOdlcoin",
          "EDRCoin",
          "Hitcoin",
          "Gamecredits",
          "DubaiCoin",
          "CarpeDiemCoin",
          "PWR Coin",
          "BillaryCoin",
          "GPU Coin",
          "Adzcoin",
          "SoilCoin",
          "YoCoin",
          "SibCoin",
          "EuropeCoin",
          "ZeitCoin",
          "SwingCoin",
          "SafeExchangeCoin",
          "Nebuchadnezzar",
          "Francs",
          "BolivarCoin",
          "Ratecoin",
          "Revenu",
          "Clockcoin",
          "VIP Tokens",
          "BitSend",
          "Omni",
          "Let it Ride",
          "PutinCoin",
          "iBankCoin",
          "Frankywillcoin",
          "MudraCoin",
          "PizzaCoin",
          "Lutetium Coin",
          "Komodo",
          "GoldBlocks",
          "CarterCoin",
          "Karbo",
          "BitTokens",
          "ZayedCoin",
          "MustangCoin",
          "ZoneCoin",
          "Circuits of Value",
          "RootCoin",
          "DopeCoin",
          "BitCurrency",
          "DollarCoin",
          "Swiscoin",
          "Shilling",
          "BuzzCoin",
          "Opair",
          "PesoBit",
          "Halloween Coin",
          "ZCoin",
          "CoffeeCoin",
          "RoyalCoin",
          "GanjaCoin V2",
          "TeamUP",
          "LanaCoin",
          "Elementrem",
          "ZClassic",
          "ARK",
          "InsaneCoin",
          "KiloCoin",
          "ArtexCoin",
          "EmberCoin",
          "XenixCoin",
          "FreeCoin",
          "PLNCoin",
          "AquariusCoin",
          "Kurrent",
          "Creatio",
          "Eternity",
          "Eurocoin",
          "BitcoinFast",
          "Stakenet",
          "BitConnect Coin",
          "MoneyCoin",
          "Enigma",
          "Cannabis Industry Coin",
          "Russiacoin",
          "PandaCoin",
          "GameUnits",
          "GAKHcoin",
          "Allsafe",
          "LiteCreed",
          "OsmiumCoin",
          "Bikercoins",
          "HexxCoin",
          "Klingon Empire Darsek",
          "Internet of People",
          "KushCoin",
          "Printerium",
          "PacCoin",
          "Impeach",
          "Citadel",
          "Zilbercoin",
          "FirstCoin",
          "BeaverCoin",
          "FindCoin",
          "VaultCoin",
          "Zero",
          "OpenChat",
          "Canada eCoin",
          "Zoin",
          "RenosCoin",
          "DubaiCoin",
          "VirtacoinPlus",
          "TajCoin",
          "Impact",
          "EB3coin",
          "Atmos",
          "HappyCoin",
          "Coinonat",
          "MacronCoin",
          "Condensate",
          "Independent Money System",
          "ArgusCoin",
          "LomoCoin",
          "ProCurrency",
          "GoldReserve",
          "BenjiRolls",
          "GrowthCoin",
          "ILCoin",
          "Phreak",
          "Degas Coin",
          "HTML5 Coin",
          "Ultimate Secure Cash",
          "EquiTrader",
          "QTUM",
          "Quantum Resistant Ledger",
          "Espers",
          "Dynamic",
          "Nano",
          "ChanCoin",
          "Dinastycoin",
          "Denarius",
          "DigitalPrice",
          "Virta Unique Coin",
          "Bitcoin Planet",
          "Unify",
          "BritCoin",
          "SocialCoin",
          "ArcticCoin",
          "DAS",
          "Linda",
          "LeviarCoin",
          "DeepOnion",
          "Bitcore",
          "gCn Coin",
          "SmartCash",
          "Signatum",
          "Onix",
          "Cream",
          "Bitcoin Cash",
          "Monoeci",
          "Draftcoin",
          "Vechain",
          "Sojourn Coin",
          "Stakecoin",
          "NewYorkCoin",
          "FrazCoin",
          "Kronecoin",
          "AdCoin",
          "Linx",
          "CoinonatX",
          "Ethereum Dark",
          "Sumokoin",
          "Obsidian",
          "Cardano",
          "Regalcoin",
          "BitcoinZ",
          "TrezarCoin",
          "Elements",
          "TerraNovaCoin",
          "VIVO Coin",
          "Rupee",
          "Bitcoin Gold",
          "WomenCoin",
          "Theresa May Coin",
          "NamoCoin",
          "LUXCoin",
          "Pirl",
          "Xios",
          "Bitcloud 2.0",
          "eBoost",
          "KekCoin",
          "BlackholeCoin",
          "Infinity Economics",
          "Pura",
          "Innova",
          "Ellaism",
          "GoByte",
          "Magnet",
          "Lamden Tau",
          "Electra",
          "Bitcoin Diamond",
          "SHIELD",
          "Cash & Back Coin",
          "UltraNote",
          "BitCoal",
          "DaxxCoin",
          "Bulwark",
          "Kalkulus",
          "AC3",
          "Lethean",
          "GermanCoin",
          "LiteCoin Ultra",
          "PopularCoin",
          "PhantomX",
          "Photon",
          "Sucre",
          "SparksPay",
          "Digiwage",
          "GunCoin",
          "IrishCoin",
          "Trollcoin",
          "Litecoin Plus",
          "Monkey Project",
          "Pioneer Coin",
          "UnitedBitcoin",
          "Interzone",
          "TokenPay",
          "1717 Masonic Commemorative Token",
          "My Big Coin",
          "TurtleCoin",
          "MUNcoin",
          "Unified Society USDEX",
          "Niobio Cash",
          "ShareChain",
          "Travelflex",
          "KREDS",
          "Tokyo Coin",
          "BiblePay",
          "LitecoinCash",
          "BitFlip",
          "LottoCoin",
          "Crypto Improvement Fund",
          "Stipend",
          "Poa Network",
          "Pushi",
          "Ellerium",
          "Velox",
          "Ontology",
          "Callisto Network",
          "BitTube",
          "Poseidon",
          "Aidos Kuneen",
          "Bitspace",
          "Briacoin",
          "Ignition",
          "Bitrolium",
          "MedicCoin",
          "Alpenschillling",
          "Bitcoin Green",
          "Deviant Coin",
          "Abjcoin",
          "Semux",
          "FuturoCoin",
          "Carebit",
          "Zealium",
          "Monero Classic",
          "Proton",
          "iDealCash",
          "Jumpcoin",
          "Infinex",
          "Bitcoin Incognito",
          "KEYCO",
          "HollyWoodCoin",
          "GINcoin",
          "PlatinCoin",
          "Loki",
          "Newton Coin",
          "Swisscoin",
          "Xt3ch",
          "MassGrid",
          "TheVig",
          "PluraCoin",
          "EmaratCoin",
          "Dekado",
          "Lynx",
          "Poseidon Quark",
          "BitcoinWSpectrum",
          "Muse",
          "Motion",
          "PlusOneCoin",
          "Axe",
          "Trivechain",
          "Dystem",
          "Giant",
          "Peony Coin",
          "Absolute Coin",
          "Vitae",
          "HexCoin",
          "TPCash",
          "Webchain",
          "Ryo",
          "Urals Coin",
          "Qwertycoin",
          "ARENON",
          "EUNO",
          "MMOCoin",
          "Ketan",
          "Project Pai",
          "XDNA",
          "PAXEX",
          "Azart",
          "ThunderStake",
          "Kcash",
          "Xchange",
          "Acute Angle Cloud",
          "CrypticCoin",
          "Bettex coin",
          "Actinium",
          "Bitcoin SV",
          "BitMoney",
          "Junson Ming Chan Coin",
          "FREDEnergy",
          "HerbCoin",
          "Universal Molecule",
          "Lithium",
          "PirateCash",
          "Exosis",
          "Block-Logic",
          "Oduwa",
          "Beam",
          "Galilel",
          "Bithereum",
          "Crypto Sports",
          "Credit",
          "SLICE",
          "Dash Platinum",
          "Nasdacoin",
          "Beetle Coin",
          "Titan Coin",
          "Award",
          "BLAST",
          "Bitcoin Rhodium",
          "GlobalToken",
          "Insane Coin",
          "ALAX",
          "LiteDoge",
          "SolarCoin",
          "TruckCoin",
          "UFO Coin",
          "OrangeCoin",
          "BlakeCoin",
          "BitstarCoin",
          "NeosCoin",
          "HyperCoin",
          "PinkCoin",
          "Crypto Escudo",
          "AudioCoin",
          "IncaKoin",
          "Piggy Coin",
          "Crown Coin",
          "Genstake",
          "SmileyCoin",
          "XiaoMiCoin",
          "Groestlcoin",
          "CapriCoin",
          " ClubCoin",
          "Radium",
          "Bata",
          "Pakcoin",
          "Creditbit ",
          "OKCash",
          "Lisk",
          "HiCoin",
          "WhiteCoin",
          "FriendshipCoin",
          "JoinCoin",
          "Triangles Coin",
          "Vollar",
          "EOS",
          "Reality Clash",
          "Oxycoin",
          "TigerCash",
          "Waves",
          "Particl",
          "BitTorrent",
          "Nxt",
          "ZEPHYR",
          "Gapcoin",
          "Beldex",
          "Horizen",
          "BitcoinPlus"
         ],
         "legendgroup": "",
         "marker": {
          "color": [
           0,
           0,
           0,
           1,
           1,
           1,
           0,
           1,
           1,
           1,
           0,
           1,
           0,
           0,
           1,
           0,
           1,
           1,
           0,
           0,
           1,
           1,
           1,
           1,
           1,
           0,
           1,
           1,
           1,
           0,
           1,
           0,
           1,
           1,
           0,
           0,
           1,
           1,
           1,
           1,
           1,
           1,
           0,
           0,
           1,
           1,
           1,
           1,
           1,
           0,
           0,
           1,
           0,
           1,
           1,
           1,
           1,
           0,
           1,
           1,
           0,
           1,
           0,
           0,
           0,
           1,
           1,
           1,
           0,
           0,
           0,
           0,
           0,
           1,
           1,
           1,
           0,
           0,
           1,
           0,
           1,
           0,
           0,
           1,
           1,
           1,
           1,
           0,
           0,
           1,
           0,
           1,
           1,
           0,
           0,
           1,
           0,
           0,
           1,
           1,
           0,
           0,
           1,
           0,
           0,
           1,
           0,
           1,
           0,
           1,
           0,
           1,
           0,
           0,
           1,
           1,
           0,
           1,
           1,
           1,
           0,
           1,
           1,
           1,
           1,
           1,
           0,
           0,
           1,
           1,
           1,
           0,
           1,
           0,
           1,
           1,
           0,
           1,
           0,
           1,
           0,
           0,
           1,
           1,
           0,
           1,
           1,
           0,
           0,
           1,
           0,
           1,
           0,
           0,
           0,
           1,
           1,
           1,
           1,
           0,
           0,
           0,
           0,
           0,
           1,
           1,
           0,
           0,
           0,
           0,
           0,
           1,
           0,
           0,
           0,
           0,
           0,
           1,
           0,
           1,
           0,
           0,
           1,
           0,
           1,
           0,
           0,
           1,
           0,
           1,
           0,
           1,
           0,
           1,
           0,
           0,
           0,
           0,
           1,
           0,
           0,
           0,
           0,
           0,
           1,
           1,
           0,
           0,
           1,
           1,
           0,
           0,
           0,
           0,
           0,
           1,
           0,
           0,
           0,
           0,
           0,
           0,
           0,
           0,
           1,
           0,
           0,
           0,
           0,
           0,
           0,
           1,
           1,
           1,
           0,
           0,
           0,
           0,
           1,
           0,
           1,
           0,
           0,
           1,
           0,
           1,
           1,
           0,
           1,
           1,
           0,
           1,
           0,
           0,
           0,
           1,
           0,
           0,
           1,
           0,
           0,
           0,
           0,
           0,
           0,
           0,
           1,
           0,
           1,
           0,
           0,
           0,
           0,
           1,
           0,
           1,
           0,
           1,
           1,
           1,
           1,
           0,
           1,
           0,
           0,
           1,
           0,
           1,
           1,
           1,
           0,
           1,
           0,
           1,
           1,
           1,
           0,
           1,
           0,
           1,
           0,
           0,
           0,
           1,
           0,
           1,
           1,
           1,
           1,
           1,
           0,
           0,
           1,
           0,
           0,
           0,
           1,
           0,
           1,
           0,
           1,
           0,
           1,
           0,
           0,
           0,
           0,
           1,
           0,
           0,
           1,
           0,
           0,
           0,
           1,
           1,
           1,
           1,
           0,
           0,
           0,
           0,
           1,
           0,
           1,
           1,
           1,
           0,
           0,
           1,
           1,
           0,
           0,
           1,
           0,
           1,
           1,
           1,
           0,
           1,
           1,
           0,
           0,
           0,
           1,
           1,
           1,
           0,
           0,
           0,
           1,
           1,
           0,
           1,
           1,
           1,
           1,
           0,
           3,
           3,
           1,
           1,
           1,
           0,
           0,
           0,
           0,
           0,
           0,
           1,
           1,
           1,
           1,
           0,
           0,
           0,
           1,
           0,
           1,
           0,
           0,
           0,
           0,
           1,
           0,
           0,
           1,
           0,
           0,
           1,
           1,
           0,
           1,
           0,
           1,
           1,
           1,
           1,
           0,
           0,
           1,
           0,
           1,
           0,
           0,
           0,
           0,
           0,
           0,
           1,
           1,
           1,
           0,
           0,
           0,
           0,
           0,
           0,
           1,
           0,
           1,
           1,
           1,
           1,
           0,
           0,
           0,
           0,
           1,
           0,
           0,
           1,
           0,
           0,
           1,
           3,
           1,
           0,
           1,
           1,
           0,
           0,
           1,
           0,
           1,
           1,
           0,
           1,
           1,
           0,
           1,
           0,
           1,
           0,
           0,
           1,
           0,
           0,
           0,
           0,
           0,
           1,
           1,
           1,
           0,
           0,
           0,
           1,
           0,
           1,
           0,
           1,
           0,
           0,
           0,
           0,
           1,
           0,
           0,
           0,
           1,
           0,
           1,
           0,
           1,
           0,
           0,
           0,
           1,
           1,
           0,
           0,
           0,
           0,
           0,
           0,
           1,
           0,
           1,
           0,
           1,
           0,
           0,
           3,
           0,
           2,
           0,
           0,
           0,
           1,
           1,
           0
          ],
          "coloraxis": "coloraxis",
          "symbol": "circle"
         },
         "mode": "markers",
         "name": "",
         "scene": "scene",
         "showlegend": false,
         "type": "scatter3d",
         "x": [
          -0.3274147222126776,
          -0.3107709746514543,
          2.308918756991103,
          -0.14866510358651597,
          -0.1504993790213807,
          -0.15622475878828387,
          -0.41935501984567547,
          -0.1490554758250697,
          -0.1489425352921834,
          -0.14130752417170783,
          -0.3007245022333839,
          0.16357700609801526,
          -0.31868677104671683,
          -0.27359055485716316,
          -0.15736984640251725,
          -0.25623805538037747,
          -0.24951760510159196,
          -0.15698669505975787,
          -0.3270746568634138,
          -0.3196613923082377,
          -0.0895915968420932,
          2.5625801840182487,
          -0.1457530094830788,
          -0.15424473126962543,
          -0.15679083365147384,
          -0.3259131323588668,
          -0.22572443007047946,
          -0.19706517630921339,
          -0.1568397270414197,
          -0.32741066158843224,
          -0.15735213366535244,
          -0.32739496013008546,
          -0.15743851285886865,
          -0.24960684739621203,
          0.6748652335960657,
          -0.36801918219636764,
          0.18728228319783696,
          0.22880195314357285,
          0.09104081674748361,
          -0.15718508432087608,
          -0.15279469117181965,
          -0.15712441243541814,
          -0.3676344739442218,
          -0.2659622950339614,
          -0.1574954541831302,
          -0.17443711060619832,
          -0.13673776467320073,
          -0.15629179839724888,
          -0.15656890585662636,
          -0.32547545072538764,
          -0.354107180547427,
          1.58963437534482,
          -0.4192498447627401,
          -0.14862651929531936,
          -0.15386087102963372,
          -0.15721149773245477,
          -0.1575659514497564,
          -0.45281144483222996,
          -0.15682594705895098,
          -0.16333417460029723,
          -0.02255711486318869,
          -0.15744732993215918,
          -0.28202953038802764,
          -0.2820698085041378,
          -0.27297045175448126,
          -0.022462056171027683,
          -0.1487040368620983,
          -0.15111769465883093,
          -0.2735918995907536,
          -0.3491231324619237,
          -0.32172246962712236,
          -0.32581807511551475,
          0.030288673627988535,
          -0.15742675757227673,
          -0.15552257669679825,
          -0.1569140100547233,
          -0.3739694616219433,
          -0.419621039692049,
          -0.13586848242711871,
          -0.2474640846291886,
          -0.14816835654501295,
          -0.3122288418519855,
          -0.41953275220433306,
          -0.14845523490274395,
          -0.1484381075790063,
          -0.14902838464189513,
          -0.24978059628897578,
          -0.3026714584749806,
          -0.3260933844194529,
          -0.15714357964314823,
          -0.2595579041152929,
          -0.18738715209222653,
          -0.15424938576052166,
          -0.41949728756196675,
          -0.2479316036667253,
          -0.1482355777300976,
          -0.27337303106438804,
          -0.3185251982701745,
          3.8529383432340687,
          0.4553723257060806,
          -0.0003013659795371711,
          -0.3391210001529876,
          -0.15601224381413742,
          -0.3178992878832236,
          -0.36744146813062845,
          -0.14062409680661525,
          -0.2820501491085548,
          -0.15473238251442986,
          -0.2736671518360643,
          -0.15756815365423496,
          -0.27670896135983264,
          -0.1545976058547152,
          -0.32739681268484483,
          -0.2736194028240413,
          -0.1408348154827537,
          -0.15266471362874945,
          -0.3744136915048703,
          -0.12356442509992288,
          -0.19389330130355115,
          -0.1574413807300519,
          -0.32713144876730527,
          -0.03049668473155193,
          -0.11065900776985722,
          -0.15757704255491065,
          -0.14873178112590674,
          0.4941192843797544,
          -0.41960259118728505,
          -0.5007663050126039,
          -0.2491684011439612,
          -0.1600640909381614,
          -0.1484718406498654,
          -0.41936428968933165,
          -0.24945300066555207,
          -0.3520759171435998,
          -0.15570234087137058,
          -0.15489541125168,
          -0.28045328967328,
          -0.15156550034414645,
          -0.2731414843864454,
          0.38081556058132854,
          -0.31124915860712854,
          -0.25867765521307595,
          -0.24948837246644878,
          -0.1486276403029462,
          -0.06877561121894187,
          -0.153539013962357,
          -0.1284603163746037,
          -0.31865772057952063,
          -0.09737172425471904,
          -0.15614182473778074,
          -0.3187213775868444,
          0.2694303858457897,
          -0.2271899360884018,
          -0.32700740343645734,
          -0.28032206886863087,
          -0.24864986242421674,
          -0.15037560755510218,
          -0.15638866101164092,
          -0.14598080229668434,
          -0.4167739042886053,
          0.8700282876644452,
          -0.3185215812040176,
          -0.05514315006403395,
          -0.36731806474453693,
          -0.1573671382410825,
          -0.2494516286120344,
          -0.4174479623599359,
          -0.317266019414968,
          -0.31493604244906065,
          -0.34839979607825905,
          -0.41833884184033915,
          -0.15757710099027286,
          -0.3455971825925095,
          -0.30332596548303054,
          -0.3270454463063712,
          -0.32548616321491475,
          -0.22726619744375393,
          -0.24960142022518786,
          -0.3619175496588036,
          -0.2234756840050656,
          -0.4190769648009599,
          -0.32625048553075364,
          0.30042790474631303,
          -0.3187023159681576,
          -0.14888745321520808,
          -0.41959178545264053,
          -0.3272344590270395,
          -0.10365657330854196,
          -0.32739105283813913,
          -0.1547465098517018,
          -0.2803124369855982,
          -0.1488461292549693,
          -0.20575777153583485,
          -0.15724080181849243,
          0.029322848164875653,
          -0.3662762299437819,
          -0.3270056817949973,
          -0.4057658402921511,
          -0.15524256816365406,
          -0.3656058100301164,
          -0.2286957449554453,
          -0.43362086313862264,
          -0.36535414033908864,
          -0.2848621827303216,
          -0.15130793348216423,
          -0.1413291153758751,
          3.744460271098259,
          -0.4191847321413778,
          -0.084356057360216,
          -0.23619913759676125,
          0.8571649874391812,
          -0.4195467474258858,
          -0.3667394968022111,
          -0.3269331900823814,
          -0.3270873152064608,
          -0.24743146456743895,
          -0.36731806474453693,
          -0.41912197595093104,
          -0.31856516045305705,
          -0.3269339444670264,
          -0.4625857390147248,
          -0.3270811723274878,
          -0.32267242007893854,
          -0.41957570179562104,
          0.3004223134635427,
          -0.32629243424953935,
          0.3605285060221867,
          -0.32728025723415594,
          -0.32735077604870294,
          -0.3551994604145048,
          -0.3628694184337776,
          -0.15755885342227466,
          0.30055288694848037,
          -0.16060408237890442,
          -0.32358041482349253,
          -0.3186787585226867,
          -0.41948574821028195,
          -0.327128800898245,
          0.4651342218599058,
          -0.3272555919051353,
          -0.14782101728444993,
          -0.28195658069549284,
          -0.2744391961113669,
          -0.15752717624795215,
          -0.2284638408942221,
          -0.24234079476959033,
          -0.1413414892176133,
          -0.30812912494514527,
          -0.15566234045508415,
          -0.1603227611956274,
          -0.2816981002690275,
          -0.16156009550266595,
          -0.4187520741984847,
          -0.4394804205719119,
          -0.4174919534671191,
          -0.12847180525390098,
          -0.3655664471285906,
          -0.41865008436117884,
          -0.17976452164586054,
          -0.359972193789972,
          -0.41459463374295435,
          -0.327198950365085,
          -0.3271981154419444,
          -0.3203248482238444,
          0.2586844160100189,
          -0.4191281879976239,
          -0.15708996567960945,
          -0.26461311063456255,
          -0.11524424903604824,
          -0.36735228195465397,
          -0.32641031088129985,
          0.8746248218460605,
          -0.2722819109206022,
          -0.15691211733741325,
          -0.34437679527085935,
          -0.1476791995512565,
          0.5761573565624384,
          -0.14200813625759215,
          -0.019007679053337615,
          -0.1607467513812586,
          0.3365079667899578,
          -0.34993384666545746,
          -0.24865819068947217,
          -0.3484375218743602,
          -0.4141921372009653,
          -0.15723117900876948,
          -0.27330481214762853,
          -0.15699465023512446,
          -0.2490525368885372,
          -0.24962944035303591,
          0.13713862850100086,
          0.30081694267891235,
          -0.27337553679468335,
          -0.13680852911794214,
          3.2487354208946333,
          -0.11007535072044387,
          -0.3465684365138167,
          -0.24050875019065304,
          -0.413697628497357,
          -0.14866426880302222,
          -0.4194003458476548,
          -0.2820308238104225,
          4.39495757969137,
          -0.08320344325208137,
          -0.36721860918583377,
          1.5873532527404717,
          -0.15732890706647787,
          -0.15678098497045054,
          -0.1564822624971285,
          -0.15646920904738754,
          -0.326834498147548,
          -0.3273337235107413,
          0.301000453329235,
          -0.35872986044554767,
          0.6515913704192877,
          -0.41934118468950105,
          0.0708033380588463,
          -0.344127104481123,
          -0.2040647649927955,
          -0.3272893526023071,
          -0.17912130792019512,
          -0.3129366074484458,
          -0.14118771074038683,
          0.4409735874078734,
          -0.31702677547286023,
          -0.3347151603517834,
          -0.3928233659063955,
          -0.14913575145270075,
          -0.3272397336560045,
          -0.39867543486075063,
          -0.1556605517509033,
          -0.3291428343019583,
          -0.3271103133220658,
          -0.10025508442244403,
          -0.24517805370602808,
          -0.17896684260419188,
          -0.1496742153389923,
          -0.17906697342635794,
          -0.41813490515917884,
          3.7493116539553224,
          0.20897907173367283,
          -0.27004979246274086,
          -0.1138056437175969,
          -0.3245730089402946,
          1.1376557943961192,
          0.3004050744410409,
          -0.07461975418546415,
          -0.304664734850579,
          -0.35508548629655795,
          -0.24491924779815433,
          -0.1368012023144839,
          0.08670323411405928,
          -0.3262494248727455,
          -0.07379963343642998,
          -0.4187156646245322,
          1.105463422292741,
          -0.24960346694165764,
          -0.17911889016079433,
          -0.3542508942744157,
          -0.1721634333604419,
          -0.1565806518581803,
          -0.31382777086075625,
          -0.327355828626481,
          -0.37438565183004546,
          -0.24952895253532065,
          -0.1486436937048935,
          -0.18604478386885404,
          -0.34587878392357096,
          -0.2765749781630047,
          -0.23966035120950352,
          8.032438432591713,
          -0.15147288167355866,
          -0.32290573463400774,
          0.3042759875097576,
          0.035266991216579655,
          -0.14863975474295352,
          -0.17295896607714634,
          -0.22026687523849273,
          -0.1941094019293422,
          -0.3306698754120697,
          -0.15715377347907247,
          0.14961870387677673,
          -0.24367522409306305,
          -0.35590455695114664,
          -0.3747134916262204,
          -0.4194175153450516,
          -0.25226905689101314,
          -0.28119146071425105,
          -0.32499433040560805,
          -0.10274746909204094,
          0.3083221377815752,
          -0.1573905662939503,
          -0.14296430704152235,
          -0.34953315720164857,
          -0.32738315337707763,
          -0.3273648797240598,
          -0.14017983902020736,
          -0.27557844328469566,
          -0.15302777160160613,
          -0.3180364524371358,
          -0.3668134703373799,
          -0.3270816496532078,
          3.9439843690014813,
          -0.2486989144462553,
          -0.3973450938118697,
          -0.3670019364918378,
          0.3005873954567301,
          -0.3175725018972549,
          -0.27399869541068717,
          -0.17982400569968476,
          -0.16044944982837553,
          -0.18487625240156338,
          -0.17874939610906604,
          -0.28172537767588013,
          -0.1553268813153345,
          0.3045129156738086,
          0.5670631779731167,
          2.107544487507033,
          -0.1307016226319464,
          -0.2819770635112526,
          -0.14908158060543647,
          -0.35012340388588403,
          0.3141794632683004,
          -0.3265561346708571,
          -0.21298910613807037,
          2.2637604807420737,
          -0.35079645662286274,
          -0.2724098325380091,
          1.030024047383132,
          -0.19289661654955792,
          -0.1430931296857631,
          -0.2495856443389699,
          -0.36194260903627334,
          -0.3551988756799728,
          -0.4003582094855419,
          -0.16279503182033508,
          -0.3578977549547642,
          -0.3539196978460672,
          -0.15741511500016903,
          -0.3202650128879231,
          -0.13667864999500925,
          -0.172203900937194,
          -0.08120594330087662,
          3.0872402238435375,
          -0.3739634568594347,
          -0.41889140857372065,
          -0.27922515250003166,
          -0.3661023761699225,
          -0.1085328511129294,
          -0.34001467883188535,
          -0.3738248453939416,
          -0.24955703042349428,
          -0.18697341972180698,
          -0.39279631211334504,
          -0.19232475521764805,
          -0.376386240420305,
          -0.03603360263833798,
          -0.20722931828800026,
          -0.15472510071301074,
          -0.14866430632363145,
          0.7317804834843454,
          -0.1645957239257076,
          0.38027998738172913,
          -0.3996535297061615,
          -0.1258400524377929,
          -0.12623188264877075,
          -0.2654310030353228,
          -0.1392163873488105,
          -0.15630839877665087,
          -0.32708565071136814,
          -0.13924930155540524,
          -0.4001092134095602,
          -0.1410206952500821,
          -0.3553157360900793,
          0.5785814576812883,
          -0.19310487378110802,
          -0.3744399048994703,
          -0.3265689808912811,
          -0.24672990404296244,
          -0.3048812369317353,
          -0.4164577211141198,
          -0.1479411653461797,
          -0.10392194579115867,
          -0.14681009889231653,
          -0.4191184378329671,
          3.761540134633893,
          0.10743572997395108,
          0.5380072240224856,
          -0.41666121455218935,
          -0.10436017257057228,
          -0.32595480856288506,
          -0.07673254401592343,
          -0.3267793137177793,
          -0.2736231141835751,
          -0.3272972048136047,
          -0.41075486398295974,
          -0.14098522187873275,
          -0.24106837131523032,
          -0.09861505246691445,
          -0.4065066495358211,
          -0.14845460610509562,
          -0.3265763569629182,
          0.5575783413583422,
          -0.3196478149159286,
          -0.19662662838505415,
          -0.41569062404736273,
          -0.32501694328548003,
          -0.3675933965723791,
          -0.1574919202901552,
          -0.15544946523715794,
          -0.5082173774252057,
          -0.31720336006588246,
          3.7448517293753403,
          -0.08946029355104913,
          -0.32221466326726905,
          -0.34874924740788077,
          -0.12429842386213957,
          -0.273774267085425,
          -0.1300406529132909,
          3.754707041405778,
          -0.15134105832782507,
          3.7559496478529146,
          -0.25453986892059877,
          -0.36678305347131207,
          -0.3675293431982255,
          34.03012509166735,
          -0.4334699242501843,
          2.477326317108285,
          -0.3254615935508213,
          0.3221409831909556,
          -0.14130857985828477,
          -0.28237319988369713
         ],
         "y": [
          1.0171186045151162,
          1.0170699407488413,
          1.5177833300776953,
          -1.305365980927962,
          -1.9896652834630124,
          -1.0921471670066356,
          1.1508654673094454,
          -2.2029968243893037,
          -1.9897832836898404,
          -1.917439943522174,
          1.5654718768709348,
          -1.8619205808396435,
          0.8038626336909588,
          0.5891491397253046,
          -1.0921251287651306,
          1.7651603559284061,
          -0.9583660703212802,
          -1.09214802221428,
          1.0171134339162593,
          1.0172713971387486,
          -1.8534576558838514,
          -1.3103818983743032,
          -1.3054139407678178,
          -1.0922256755724957,
          -1.0921696505148395,
          1.017148195934817,
          -0.46234869628154857,
          -1.1817000824909942,
          -1.0921339154498875,
          1.0171183305652167,
          -1.0921247797054245,
          1.017118285988079,
          -1.092120917056516,
          -0.9583664129883,
          0.8034688275428314,
          0.9275672379561432,
          -1.8583063575666885,
          -1.3127805293886137,
          -1.0967729361946446,
          -1.0921214877130851,
          -1.0922323532345541,
          -1.0921280800956659,
          1.4519254748184915,
          0.4285300690565943,
          -1.0921206910136323,
          -1.6292609919305623,
          -1.0927094652574274,
          -1.0921385761039293,
          -1.092145626940021,
          1.0170718609189007,
          0.9365579454873666,
          -1.121827572751564,
          1.1508675399638923,
          -1.3053652205586734,
          -1.0922290289138379,
          -1.0921213002320977,
          -1.0921150811039397,
          1.9577463078257575,
          -1.0921292783494743,
          -2.2607037965590133,
          0.8075174259546297,
          -1.0921188676846818,
          0.802887803981549,
          0.8023918300883595,
          1.6893282891289834,
          -1.100071707445828,
          -1.305366748174581,
          -1.0922256481834232,
          1.6893160424391034,
          0.4801116312424671,
          1.016933419116382,
          1.0170806849719287,
          1.024167760245675,
          -1.0921262502968285,
          -1.0922508576967989,
          -1.0921375274024612,
          0.9361665253513104,
          1.1508758002776984,
          -1.3057276396929383,
          0.0417473736047365,
          -1.3053746082138715,
          1.5708476069604729,
          1.1508704608180056,
          -1.3053767131563532,
          -1.3054032797216444,
          -1.3053584489526737,
          -0.9583570929647828,
          1.0164734090486094,
          1.0170738435277293,
          -1.0921220857972527,
          0.5247752619573353,
          -1.3104986272383214,
          -1.0922366852594643,
          1.1508743457197619,
          0.04180896057715924,
          -1.3053745084439852,
          1.6893203556168324,
          1.0165857854537363,
          -2.3427318668519024,
          -2.286163347861455,
          1.7462434564634748,
          1.3407593400063629,
          -1.0921579320456394,
          0.8038455842831951,
          0.9275817238476517,
          -1.0929697010595691,
          0.8024036729879418,
          -1.0921760866656962,
          1.6893060634372958,
          -1.0921160293291103,
          0.8021549290417411,
          -1.0921689093588103,
          1.0171189574826534,
          1.6893084204176976,
          -1.0924924120482216,
          -2.116325581201251,
          0.9361436109970163,
          -1.852711143772438,
          -1.371349057333538,
          -1.0921140573366752,
          1.0171100268848514,
          -1.0966900318745796,
          -2.1376693409038596,
          -1.0921147824618143,
          -1.305367294922635,
          -1.1444077699597133,
          1.1508761645449628,
          2.1692069673395173,
          -0.9583683926917616,
          -2.2588986367646986,
          -1.3053853665082975,
          1.8785592852431148,
          -0.9583655051829723,
          0.8118241844420176,
          -1.0922262500840358,
          -1.0922384983316815,
          0.8023643415948494,
          -1.9896982629710336,
          1.6892895185228174,
          -2.0947923923226717,
          0.8033167782577338,
          1.7653414612207068,
          -0.958362662233022,
          -1.3053652426500415,
          0.8851094217244245,
          -1.092183448115835,
          -2.342203742740254,
          0.8038632061799786,
          1.1384288117608268,
          -1.092145532649674,
          0.8038700937368033,
          -1.3124232845025017,
          1.4758335961460642,
          1.017096895358538,
          0.8022812219795364,
          -0.9583942821202762,
          -2.2066284225887562,
          -1.0922101178962706,
          -1.9685074473241004,
          1.150660035752812,
          0.7550151137965453,
          0.8038531449967569,
          0.8158824365205795,
          1.4519175501550643,
          -1.0921243673938623,
          -0.9583683101536246,
          1.15086552500754,
          0.8037485182587478,
          0.8035804230266873,
          1.4733812288466728,
          1.1508026565585,
          -1.0921147814681356,
          1.3902046122008735,
          1.0161773099405398,
          1.0170944936536868,
          1.0170858098575584,
          1.4744784511043831,
          -0.9583712620529247,
          0.9359388713097302,
          -0.9460687023375615,
          1.1508511227933373,
          1.0170778276055676,
          -2.2821438487836985,
          0.803863035354087,
          -1.3053623877685387,
          1.1508742534834189,
          1.0171072888896082,
          -1.8531684283800793,
          1.01711907099026,
          -1.0922001638592,
          0.8024379175700745,
          -1.3053622122384823,
          0.4759485963366523,
          -1.0921289577423798,
          1.8439294422378183,
          1.4518998491616517,
          1.0171266653841546,
          1.1500868378380138,
          -2.1323738133196617,
          1.4519371330812039,
          1.474590109803477,
          1.764237611012836,
          1.4517573039822775,
          1.846583671239676,
          -1.9896997709907527,
          -1.917440369013686,
          2.0900258269030654,
          1.1508631591005702,
          -1.0977514227029102,
          -0.9584434483131303,
          1.7109977341297369,
          1.1508745368772324,
          1.4519077117536652,
          1.0171008075473484,
          1.0170953205607707,
          -0.9584722238468634,
          1.4519175501550643,
          1.1508431557485626,
          0.8038664462398434,
          1.0171047150138037,
          0.5722283308727975,
          1.0171053536492598,
          1.0167513910234833,
          1.1508731544346669,
          -2.282151746995063,
          1.0170387688088354,
          0.7920461448785366,
          1.017112050376416,
          1.0171175171267848,
          1.4322350056740252,
          0.737845054135747,
          -1.0921159071428617,
          -2.282152005831076,
          -2.258869779403999,
          1.016840164950244,
          0.8038634995937424,
          1.1508718444814061,
          1.0171100790656291,
          -1.0150687094428361,
          1.017106211628254,
          -2.2031034777081224,
          0.8023665767851746,
          0.4749822856649764,
          -1.0921157400571102,
          1.4745861663336204,
          -0.9589184813096495,
          -1.9174377808520406,
          1.0167906578155796,
          -1.092147411631057,
          -2.2588720235164192,
          0.8023862367233681,
          -2.2709930757188816,
          1.1508221252006112,
          1.8212984336218168,
          1.1508398780062725,
          -1.0943727848199092,
          1.451888143217314,
          1.1508241350843622,
          -0.6358458573333949,
          1.4517932721909126,
          1.1506208537270821,
          1.0171078384662129,
          1.0171026242842736,
          1.0165503202809758,
          0.5465472016551831,
          1.150857193376124,
          -1.0921298937149644,
          0.8013312949267565,
          -1.3064625037376545,
          1.4519097958232905,
          1.0170640579394479,
          1.723973529697428,
          0.5890421187366693,
          -1.0921522165516389,
          1.3901815798604304,
          -2.2030440427615705,
          1.8785623244428682,
          -2.1680107110182174,
          -2.1029125121147447,
          -2.146995978550708,
          -2.2828417542348944,
          1.4734076379487355,
          -0.9584057742801845,
          1.4733592453256852,
          1.8198869196960603,
          -1.0921211760579437,
          1.6893004599171666,
          -1.0921559670101813,
          -0.9583852254517594,
          -0.9583674954231547,
          0.9908733045546126,
          -2.28216733422988,
          1.689306926276329,
          -2.1512270809256346,
          -1.16658761059537,
          -1.0935363779015486,
          1.4794465613541303,
          -0.958953177978231,
          1.8198966648337571,
          -1.305365964477128,
          1.150873418964444,
          0.8023917304144416,
          3.2987558846417784,
          -1.0980827096389179,
          1.4518900572245084,
          -1.0577275153364576,
          -1.0921236139833392,
          -1.0921581283925446,
          -1.092163569593783,
          -1.0921633123532848,
          1.0170958763217046,
          1.0171172271526936,
          -2.282188419253315,
          1.5668132910307007,
          1.4912354109660102,
          1.1508621999431634,
          -1.928113117913347,
          0.4799295547356294,
          -0.95873058870092,
          1.017109935930544,
          -1.6291345293114001,
          0.5840406584696518,
          -1.9174375823940901,
          1.0145609489749765,
          0.8038401225543899,
          1.4728650253583362,
          1.7864541974398198,
          -2.206693414569589,
          1.0171071849440454,
          1.6468561748591712,
          -1.092147376381589,
          1.4576736873318092,
          1.0171141333075857,
          0.5862018399876713,
          -0.9585141928251406,
          -1.6291442293506977,
          -1.9898472628563906,
          -1.6291368569686673,
          1.1508031354671076,
          2.0898559308066846,
          1.4631889807923575,
          1.689237165214656,
          -1.852986111871456,
          1.0170259248645204,
          -2.325817962578202,
          -2.282146068699633,
          -1.9952499692658836,
          1.2586782821093587,
          1.4322337117168378,
          -0.9586506930785753,
          -2.2034629682616287,
          0.9898793890592608,
          1.0170353683680218,
          -1.0940033787231391,
          1.1508582428297365,
          -1.2680354257638375,
          -0.9583676207748641,
          -1.6291302336513642,
          1.4321793585438483,
          -1.629332297622894,
          -1.0921400204402343,
          1.0167491565079265,
          1.0171169331341392,
          0.9361434555643208,
          -0.9583684179488032,
          -1.305364968535775,
          -1.2448305871331367,
          1.390205080785978,
          -0.09517999202675057,
          0.33853124751854113,
          -2.8377666365714953,
          -2.18265803350073,
          1.017043205298106,
          -2.2822988245061535,
          -1.0953940464391398,
          -2.2066437748104066,
          -1.3109336255808937,
          1.4741915832939272,
          3.6737220256516485,
          3.333459233137272,
          -1.092134322723741,
          -1.0990927121330694,
          -0.9585907773526589,
          0.8644045167610026,
          5.56417088096421,
          1.150862111722021,
          1.5206338214018027,
          0.8023328026192287,
          1.454264399257224,
          -1.9933262657328774,
          -2.2826892017569596,
          -1.0921255370859417,
          -2.3887453213445706,
          1.473387214125164,
          1.0171171026556363,
          1.0171160467644922,
          -1.9174524126763157,
          0.8021772078292139,
          -2.132527416423,
          1.6260351845330165,
          1.4518793498905198,
          1.0171039282380878,
          2.2233534488271918,
          -0.9584065768112918,
          1.6468823914992636,
          1.4518812998620156,
          -2.282146652966687,
          0.5567452255821445,
          1.0145449051046291,
          -0.6358277350887467,
          -2.2588782583843607,
          1.1816068152616495,
          -2.027415198946997,
          0.8023916651026202,
          -2.132367757628799,
          -2.28248106841353,
          -2.303480884903924,
          -2.376796881506466,
          1.0137735480531278,
          0.8023739611619408,
          -2.27268430736255,
          1.8505410527670743,
          -2.282573773164929,
          1.017076052281749,
          1.5505878129988102,
          0.4163963537036691,
          1.4318721928981457,
          0.589110272027696,
          1.7613625724431523,
          -1.3377525647158979,
          -2.368318032849697,
          -0.9583681191528629,
          0.7714531717328935,
          1.432230769183255,
          1.646960966459587,
          0.7928027192578585,
          0.7987433621499398,
          1.4322000453810708,
          -1.0921268033888571,
          1.0165514994383567,
          -2.203991921992227,
          -2.417287509556629,
          -0.5886811780956712,
          -2.384315485400589,
          0.9361277035574151,
          1.1508547794953767,
          0.802275263760878,
          1.4518069869304076,
          -1.3060470432603057,
          1.017793047773107,
          0.9360985750281143,
          -0.9583703872761478,
          1.007142198134151,
          1.8712700229035513,
          -1.3377964657984185,
          3.704409427431478,
          -1.9207312909246341,
          1.3059195684501117,
          -2.1324079366863553,
          -1.305365965216536,
          1.4398972354659356,
          0.940292592069843,
          -2.286283806036981,
          1.6469402681712375,
          -2.349920913338635,
          -2.3498720718649246,
          -0.02297450884961045,
          -2.338313158986431,
          -1.0921743033590783,
          1.017110221411354,
          -1.9175705776966103,
          1.6469560427404795,
          -1.91744129037991,
          1.4322338683072506,
          0.9820142309490522,
          -1.3714043202567565,
          0.9361433068180511,
          1.0170757991250583,
          1.5204314588352588,
          1.8479634154531888,
          1.1506407785979398,
          -1.3053821585898697,
          -0.41992169810477875,
          -1.3054335012376685,
          1.1508644655430242,
          2.089742912718232,
          1.0009079931676377,
          -1.1478616974256701,
          1.1509341293899058,
          -1.6304741268329324,
          1.0170057741687084,
          -2.353834757185258,
          1.017092712894821,
          0.5891424800684476,
          1.0171209204256992,
          1.1506965229413202,
          -1.0924953760628657,
          1.0113861822730337,
          0.8080805779839274,
          1.1504262400914658,
          -1.305376700764823,
          1.0171245059275464,
          -1.1134211032382426,
          1.016988463773621,
          -1.1817063082047996,
          1.1508059920477298,
          1.0170525764971932,
          1.4519199122972437,
          -1.0921162064021273,
          -1.0922012727525117,
          0.5793326491094973,
          0.8038331026420744,
          2.090008818947836,
          0.7991127057532443,
          1.017008679880202,
          0.48007906926745086,
          -1.8527275908768548,
          1.6893123636162002,
          -2.1425384964653267,
          2.0903162572850986,
          -1.9896992077110942,
          2.090340744965177,
          0.5888254136965558,
          3.7228720166179747,
          1.4519214336079966,
          1.3878867524425416,
          1.468190891379855,
          0.9171998513046468,
          1.0169800936956552,
          -2.282700236370731,
          -1.917439964326276,
          0.8023965987189265
         ],
         "z": [
          -0.4698193815033948,
          -0.470020363043858,
          -0.49441836897719077,
          0.17962740495924534,
          0.2587260616156346,
          -0.0335589414907384,
          -0.3361769299164564,
          0.33953052735132994,
          0.2587163744301525,
          0.39730257773504735,
          0.021403105810191288,
          0.3048187187269351,
          -0.25664443263970743,
          -0.015134760117574534,
          -0.033546615234606385,
          -0.4959005320376699,
          0.1000974106822254,
          -0.03354949309632113,
          -0.46982315250987033,
          -0.4699271004305498,
          0.30725554714198416,
          -0.04949916269147994,
          0.17959540833026513,
          -0.0335770102960953,
          -0.033550166973728236,
          -0.4698402434639976,
          0.07486090605655715,
          0.11258291923537762,
          -0.03355243541835554,
          -0.4698194094866833,
          -0.03354686132203278,
          -0.4698195991965633,
          -0.03354610822262753,
          0.10009853681002298,
          -0.5302246937631306,
          -0.323680549910995,
          0.3042365940629581,
          0.17557621063769846,
          -0.03623131254938507,
          -0.033549182179779334,
          -0.03359432442813517,
          -0.033549399553473164,
          -0.06422977087028492,
          -0.2967407789622212,
          -0.03354542541141725,
          0.20623617724839116,
          -0.03375366784618145,
          -0.033558806254812446,
          -0.033554828622473915,
          -0.46983950003805997,
          -0.09494793972352503,
          -0.05266706519385131,
          -0.33617839113982356,
          0.17962686889817261,
          -0.03358146640013551,
          -0.03354887208044423,
          -0.03354500816890528,
          -0.3934913663782585,
          -0.03355297751949757,
          0.2727728584997286,
          -0.2319180978100168,
          -0.03354616429259317,
          -0.25701739506171944,
          -0.22831170381123012,
          -0.4764133765440705,
          -0.0345690860794134,
          0.179627945868848,
          -0.03361550740953082,
          -0.47640474261599736,
          -0.22998980768365668,
          -0.46987458051808273,
          -0.4698359909844494,
          -0.4747890430138751,
          -0.03354582455368738,
          -0.033559256874387454,
          -0.0335512308464727,
          -0.09467198815340667,
          -0.33617448509179654,
          0.179498923514001,
          0.11284355621096255,
          0.17962198279705804,
          -0.13442830101419442,
          -0.3361751430614396,
          0.17962568344470312,
          0.1796276065014322,
          0.1796312720868867,
          0.10009992710952191,
          -0.4700721558409204,
          -0.4698320523069694,
          -0.03354964507709051,
          -0.2262797493601258,
          0.1705862531825146,
          -0.033576068669149875,
          -0.3361758916896444,
          0.1128443646975771,
          0.17962280229954455,
          -0.4764077834104192,
          -0.4698860171476673,
          0.273253513787704,
          0.31053499874799256,
          -0.7924373427740308,
          -0.11519288703446255,
          -0.0335606929466029,
          -0.2566527573770177,
          -0.3236888253199432,
          -0.033684922879430285,
          -0.2283128970797398,
          -0.03357499025712815,
          -0.4764030146935089,
          -0.03354490489492779,
          -0.2283586691651176,
          -0.033577225906067355,
          -0.46981963032727025,
          -0.47640379181972425,
          -0.033720666033581405,
          0.3025871648741849,
          -0.09466467898393312,
          0.3076138026107661,
          0.19785096507068858,
          -0.03354662390981887,
          -0.46982217971949203,
          -0.03474180253754491,
          0.30536175515455394,
          -0.033544895621287124,
          0.1796283313267483,
          -0.03736718763007251,
          -0.3361747414582924,
          -0.14464014832739047,
          0.10009329839869852,
          0.33062620400484977,
          0.17962658292843697,
          -0.5675460941734657,
          0.10009656998556726,
          -0.2077852010661664,
          -0.033559020466156636,
          -0.033567970238610516,
          -0.22832939577105887,
          0.25874183494707426,
          -0.47640815691018307,
          0.3547302076300417,
          -0.2566921476285117,
          -0.4958850465896144,
          0.10009677707118733,
          0.17962688447260805,
          -0.36519374866838505,
          -0.033589089748990685,
          0.262142295052533,
          -0.2566448362450135,
          -0.33914171020449496,
          -0.033560093713958516,
          -0.25664460583263904,
          0.17504736553467978,
          -0.42358070965123135,
          -0.4698226520003182,
          -0.22832433474741506,
          0.10008899451641638,
          0.33989908117001205,
          -0.03355186740736566,
          0.3636052473549705,
          -0.3361922035196377,
          -0.2386890049855144,
          -0.25664570402621284,
          -0.5222351308860116,
          -0.06423302944720266,
          -0.03354670972846804,
          0.10009677839811693,
          -0.3362004110950249,
          -0.25665275652137126,
          -0.25666793747768235,
          -0.4218915929856352,
          -0.3361843942894213,
          -0.03354489498174244,
          -0.039600883895061896,
          -0.47004031513085837,
          -0.4698219907677127,
          -0.4698404885809389,
          -0.234900237651435,
          0.10009885948994547,
          -0.09480206559855163,
          0.7013439215002716,
          -0.33617920067998136,
          -0.4698304383495492,
          0.3121195614243982,
          -0.2566442735389864,
          0.17962985354836805,
          -0.3361747209789082,
          -0.46982069170383867,
          0.30740546036372096,
          -0.46981971035024117,
          -0.03357288239783292,
          -0.22833703954288104,
          0.179629330736916,
          -0.36404068667906286,
          -0.03354789626447969,
          -0.5259111372066223,
          -0.06424443300489124,
          -0.46982506440519756,
          -0.33628167579104196,
          0.3086038220917506,
          -0.06425568085595106,
          -0.23489160815781016,
          -0.5717587894451419,
          -0.06424433462674152,
          -0.5222566047008205,
          0.2587387853373112,
          0.3973028777069716,
          -0.19256769323505057,
          -0.3361788408158776,
          -0.03399352098887901,
          0.09993967090741439,
          -0.4920662885545742,
          -0.3361752981757325,
          -0.06423936157312536,
          -0.4698238798304774,
          -0.4698215417663868,
          0.10008025610826109,
          -0.06423302944720266,
          -0.33617800664190334,
          -0.2566462359430949,
          -0.4698241844022619,
          0.017603972190886073,
          -0.4698224232728161,
          -0.46984826529570767,
          -0.3361748306957087,
          0.31212026466124465,
          -0.46982678463547933,
          -0.2353913195523045,
          -0.4698205103677058,
          -0.46982008136097847,
          -0.1198507607520102,
          -0.2384309722297161,
          -0.03354502919837112,
          0.3121186780464393,
          0.33063053358509514,
          -0.4698442181306441,
          -0.256644600828387,
          -0.33617583283670743,
          -0.4698222165069899,
          0.09585430989321111,
          -0.4698203450221096,
          0.33952389742511563,
          -0.22831106926990183,
          -0.38774459057427674,
          -0.033545432576247154,
          -0.23489414622743052,
          0.10005343281884414,
          0.39730282214497925,
          -0.47003045235862556,
          -0.033565845408055454,
          0.33062725067633914,
          -0.22831583039494302,
          0.3034322364020887,
          -0.3361808710299128,
          -0.47560323809172067,
          -0.3361978095109807,
          -0.03372182226339388,
          -0.0642522304255357,
          -0.3361822879998787,
          0.01439718882754767,
          -0.06431347733565412,
          -0.3362158838928577,
          -0.46982117297139053,
          -0.46982076443205817,
          -0.46986101416696674,
          -0.018265345417788154,
          -0.3361790577105445,
          -0.03354967793015248,
          -0.22844141674240387,
          0.17930405830793542,
          -0.06423198537199327,
          -0.46982736482592863,
          -0.5065136093512574,
          -0.015142273759680608,
          -0.03355007427335752,
          -0.03961405726812897,
          0.3395173776198159,
          -0.6121533350762397,
          0.4354135951621931,
          0.360304401935268,
          0.4501413245679359,
          0.31173146094979903,
          -0.42187482953899696,
          0.1000900201223703,
          -0.42188936279063777,
          -0.5551090170768069,
          -0.03354863977106662,
          -0.4764070251314494,
          -0.03354875701733164,
          0.10009322412310556,
          0.10009890188138093,
          -0.47343010044698525,
          0.3121166586475459,
          -0.47640667388219715,
          0.39942873136380697,
          -0.06949592871173048,
          0.1391705200923899,
          0.024333795093862447,
          0.1000336666423144,
          -0.5551158874081995,
          0.17962739336139416,
          -0.33617701063647304,
          -0.22831217572034856,
          3.832070299962782,
          -0.03398110018753135,
          -0.06423204547159407,
          -0.05778767784021357,
          -0.0335472408836068,
          -0.033551213703193465,
          -0.03355445402888656,
          -0.03355463538368361,
          -0.46982469867298965,
          -0.46982026799215826,
          0.31211609317476285,
          0.02200942594182522,
          -0.06493986534477511,
          -0.3361768377881571,
          0.3955487178097724,
          -0.2300366856449581,
          0.09956714946166573,
          -0.4698202285623995,
          0.20628368352662713,
          -0.024170171190037136,
          0.3973009131374925,
          -0.4790730721463449,
          -0.25666305960852437,
          -0.4220185927405188,
          -0.3755727129454682,
          0.3398890384439257,
          -0.4698206184221174,
          -0.36137296323426343,
          -0.03356587025896367,
          -0.10061495969149546,
          -0.46982276974345105,
          -0.01703184505926732,
          0.10005588689758818,
          0.20628256113861623,
          0.2587305206509978,
          0.20628320161389538,
          -0.33618694328850024,
          -0.19261376892861679,
          -0.4279344520535213,
          -0.47644201155555904,
          0.3075157548005153,
          -0.4698469197007517,
          0.3053210192458709,
          0.31212002078322804,
          0.25824053434065214,
          -0.18036601135282407,
          -0.11985205987900883,
          0.10006366498465477,
          0.33941711492824556,
          -0.47272938907257633,
          -0.46982704096311834,
          -0.034424527524826075,
          -0.33618422031244943,
          0.062243295614885154,
          0.10009859220820637,
          0.20628330872385786,
          -0.11985796820113936,
          0.2062139149575318,
          -0.03355513435467353,
          -0.46995696653600527,
          -0.46981997225407407,
          -0.09466501167734474,
          0.1000977389410418,
          0.1796270600779794,
          0.15075725907765516,
          -0.03959745492231958,
          0.06398045122632984,
          -0.3728212046451939,
          0.261564970229813,
          0.22437453157826592,
          -0.46986883244238037,
          0.3120846382598632,
          -0.035655473508495704,
          0.3398789453482175,
          0.17044357744162184,
          -0.2349633597371159,
          12.310830037209216,
          12.887430332244337,
          -0.033548536683596315,
          -0.036766095985561055,
          0.10004353802112888,
          -0.28551709273421805,
          -9.412882602480417,
          -0.33617589104494583,
          -0.528018636392707,
          -0.2283177753297466,
          -0.036053669379188476,
          0.25843227914755984,
          0.31206618491751315,
          -0.03354632736804405,
          0.37944440725691225,
          -0.42187812166827393,
          -0.4698196494932814,
          -0.4698197896362364,
          0.39728969709372475,
          -0.22837437573158467,
          0.3085888949985643,
          -0.09080545968306074,
          -0.06423617282969299,
          -0.46982230290379856,
          -0.28492402818034296,
          0.10009058590756806,
          -0.3613914459905923,
          -0.06423400937257852,
          0.31211782327775695,
          -0.0313461355609338,
          -0.47027022479882596,
          0.014396465468179033,
          0.3306293110595351,
          -0.3996294539974143,
          0.3068096953381415,
          -0.2283159306229812,
          0.3086043736062581,
          0.31209635992652074,
          0.34633428912808145,
          0.2974761183869817,
          -0.47197230430831355,
          -0.22831141025286614,
          0.40921396090833007,
          -0.5217710841015555,
          0.3119848076497814,
          -0.4698265331028969,
          -0.2543794405912786,
          -0.3567088453322524,
          -0.11987582114083173,
          -0.015146173260873416,
          -0.1319774272756732,
          0.1634177097375062,
          0.2690469113611798,
          0.1000984128368393,
          -0.2728643011233771,
          -0.11985042766362965,
          -0.36136066484200624,
          -0.2290097940666994,
          -0.26568063974927075,
          -0.11986370696894773,
          -0.03354592345193594,
          -0.46986184547404736,
          0.3394580932943343,
          0.4381812472156362,
          -0.09175268068697226,
          0.32180288786933947,
          -0.09466894380017354,
          -0.33618177865841486,
          -0.2283373595906297,
          -0.06423911425411509,
          0.1791880677184221,
          -0.29653245312458115,
          -0.09466831047164247,
          0.10009824277148156,
          -0.4707469304377307,
          0.20152791492255384,
          0.1634141961811461,
          15.01980795705734,
          0.39627098910635555,
          -0.28650820764788715,
          0.3086001927698746,
          0.1796273938826773,
          -0.6661261094591033,
          -0.09758086913450278,
          0.31146908720905386,
          -0.36136767715253126,
          0.341438847047353,
          0.3414397475318025,
          0.20253453101315094,
          0.2723510242711287,
          -0.03355573218630168,
          -0.4698227591344726,
          0.3972877331938944,
          -0.3613633345839677,
          0.39729915495412677,
          -0.11984923800136188,
          -0.47815283062611685,
          0.19784569812333921,
          -0.09466433185538828,
          -0.46982635462718797,
          -0.5280705709784531,
          -0.5221209880224785,
          -0.3361945490570206,
          0.17961979246110735,
          -0.04012784227941222,
          0.17960999262139743,
          -0.336179761859056,
          -0.1927552278734598,
          -0.4738704613548874,
          -0.03763003448864671,
          -0.3362156067293918,
          0.20547094800545748,
          -0.4698282907048349,
          0.3411486872299531,
          -0.4698251239174003,
          -0.015133824378813247,
          -0.4698210142039943,
          -0.33626923076123555,
          -0.033718576400423195,
          -0.47042189123416855,
          -0.25969238936518035,
          -0.3362998178989457,
          0.1796256747086624,
          -0.4698301760903815,
          -0.04063732565113207,
          -0.46990454158184936,
          0.11257802062374168,
          -0.33621726269164165,
          -0.46984359544674026,
          -0.06422982974998204,
          -0.03354582913128562,
          -0.03356413970199895,
          0.03377619819689616,
          -0.25666032193168353,
          -0.19257114609719359,
          -0.2304194059062769,
          -0.46987456659526594,
          -0.22999179487135563,
          0.30762415946899413,
          -0.4764022021151668,
          0.38867099868214855,
          -0.19271716273072084,
          0.2587391478715558,
          -0.19273442656858736,
          -0.015343278148190753,
          19.31018001705656,
          -0.06423074046529355,
          -0.5305681063332187,
          -0.05015967294162313,
          -0.07612491446573057,
          -0.46983229962730677,
          0.31189695643204346,
          0.39730259240196053,
          -0.22830835198693145
         ]
        }
       ],
       "layout": {
        "autosize": true,
        "coloraxis": {
         "colorbar": {
          "title": {
           "text": "class"
          }
         },
         "colorscale": [
          [
           0,
           "#0d0887"
          ],
          [
           0.1111111111111111,
           "#46039f"
          ],
          [
           0.2222222222222222,
           "#7201a8"
          ],
          [
           0.3333333333333333,
           "#9c179e"
          ],
          [
           0.4444444444444444,
           "#bd3786"
          ],
          [
           0.5555555555555556,
           "#d8576b"
          ],
          [
           0.6666666666666666,
           "#ed7953"
          ],
          [
           0.7777777777777778,
           "#fb9f3a"
          ],
          [
           0.8888888888888888,
           "#fdca26"
          ],
          [
           1,
           "#f0f921"
          ]
         ]
        },
        "legend": {
         "tracegroupgap": 0
        },
        "margin": {
         "t": 60
        },
        "scene": {
         "aspectmode": "auto",
         "aspectratio": {
          "x": 1,
          "y": 1,
          "z": 1
         },
         "domain": {
          "x": [
           0,
           1
          ],
          "y": [
           0,
           1
          ]
         },
         "xaxis": {
          "title": {
           "text": "principal component 1"
          },
          "type": "linear"
         },
         "yaxis": {
          "title": {
           "text": "principal component 2"
          },
          "type": "linear"
         },
         "zaxis": {
          "title": {
           "text": "principal component 3"
          },
          "type": "linear"
         }
        },
        "template": {
         "data": {
          "bar": [
           {
            "error_x": {
             "color": "#2a3f5f"
            },
            "error_y": {
             "color": "#2a3f5f"
            },
            "marker": {
             "line": {
              "color": "#E5ECF6",
              "width": 0.5
             }
            },
            "type": "bar"
           }
          ],
          "barpolar": [
           {
            "marker": {
             "line": {
              "color": "#E5ECF6",
              "width": 0.5
             }
            },
            "type": "barpolar"
           }
          ],
          "carpet": [
           {
            "aaxis": {
             "endlinecolor": "#2a3f5f",
             "gridcolor": "white",
             "linecolor": "white",
             "minorgridcolor": "white",
             "startlinecolor": "#2a3f5f"
            },
            "baxis": {
             "endlinecolor": "#2a3f5f",
             "gridcolor": "white",
             "linecolor": "white",
             "minorgridcolor": "white",
             "startlinecolor": "#2a3f5f"
            },
            "type": "carpet"
           }
          ],
          "choropleth": [
           {
            "colorbar": {
             "outlinewidth": 0,
             "ticks": ""
            },
            "type": "choropleth"
           }
          ],
          "contour": [
           {
            "colorbar": {
             "outlinewidth": 0,
             "ticks": ""
            },
            "colorscale": [
             [
              0,
              "#0d0887"
             ],
             [
              0.1111111111111111,
              "#46039f"
             ],
             [
              0.2222222222222222,
              "#7201a8"
             ],
             [
              0.3333333333333333,
              "#9c179e"
             ],
             [
              0.4444444444444444,
              "#bd3786"
             ],
             [
              0.5555555555555556,
              "#d8576b"
             ],
             [
              0.6666666666666666,
              "#ed7953"
             ],
             [
              0.7777777777777778,
              "#fb9f3a"
             ],
             [
              0.8888888888888888,
              "#fdca26"
             ],
             [
              1,
              "#f0f921"
             ]
            ],
            "type": "contour"
           }
          ],
          "contourcarpet": [
           {
            "colorbar": {
             "outlinewidth": 0,
             "ticks": ""
            },
            "type": "contourcarpet"
           }
          ],
          "heatmap": [
           {
            "colorbar": {
             "outlinewidth": 0,
             "ticks": ""
            },
            "colorscale": [
             [
              0,
              "#0d0887"
             ],
             [
              0.1111111111111111,
              "#46039f"
             ],
             [
              0.2222222222222222,
              "#7201a8"
             ],
             [
              0.3333333333333333,
              "#9c179e"
             ],
             [
              0.4444444444444444,
              "#bd3786"
             ],
             [
              0.5555555555555556,
              "#d8576b"
             ],
             [
              0.6666666666666666,
              "#ed7953"
             ],
             [
              0.7777777777777778,
              "#fb9f3a"
             ],
             [
              0.8888888888888888,
              "#fdca26"
             ],
             [
              1,
              "#f0f921"
             ]
            ],
            "type": "heatmap"
           }
          ],
          "heatmapgl": [
           {
            "colorbar": {
             "outlinewidth": 0,
             "ticks": ""
            },
            "colorscale": [
             [
              0,
              "#0d0887"
             ],
             [
              0.1111111111111111,
              "#46039f"
             ],
             [
              0.2222222222222222,
              "#7201a8"
             ],
             [
              0.3333333333333333,
              "#9c179e"
             ],
             [
              0.4444444444444444,
              "#bd3786"
             ],
             [
              0.5555555555555556,
              "#d8576b"
             ],
             [
              0.6666666666666666,
              "#ed7953"
             ],
             [
              0.7777777777777778,
              "#fb9f3a"
             ],
             [
              0.8888888888888888,
              "#fdca26"
             ],
             [
              1,
              "#f0f921"
             ]
            ],
            "type": "heatmapgl"
           }
          ],
          "histogram": [
           {
            "marker": {
             "colorbar": {
              "outlinewidth": 0,
              "ticks": ""
             }
            },
            "type": "histogram"
           }
          ],
          "histogram2d": [
           {
            "colorbar": {
             "outlinewidth": 0,
             "ticks": ""
            },
            "colorscale": [
             [
              0,
              "#0d0887"
             ],
             [
              0.1111111111111111,
              "#46039f"
             ],
             [
              0.2222222222222222,
              "#7201a8"
             ],
             [
              0.3333333333333333,
              "#9c179e"
             ],
             [
              0.4444444444444444,
              "#bd3786"
             ],
             [
              0.5555555555555556,
              "#d8576b"
             ],
             [
              0.6666666666666666,
              "#ed7953"
             ],
             [
              0.7777777777777778,
              "#fb9f3a"
             ],
             [
              0.8888888888888888,
              "#fdca26"
             ],
             [
              1,
              "#f0f921"
             ]
            ],
            "type": "histogram2d"
           }
          ],
          "histogram2dcontour": [
           {
            "colorbar": {
             "outlinewidth": 0,
             "ticks": ""
            },
            "colorscale": [
             [
              0,
              "#0d0887"
             ],
             [
              0.1111111111111111,
              "#46039f"
             ],
             [
              0.2222222222222222,
              "#7201a8"
             ],
             [
              0.3333333333333333,
              "#9c179e"
             ],
             [
              0.4444444444444444,
              "#bd3786"
             ],
             [
              0.5555555555555556,
              "#d8576b"
             ],
             [
              0.6666666666666666,
              "#ed7953"
             ],
             [
              0.7777777777777778,
              "#fb9f3a"
             ],
             [
              0.8888888888888888,
              "#fdca26"
             ],
             [
              1,
              "#f0f921"
             ]
            ],
            "type": "histogram2dcontour"
           }
          ],
          "mesh3d": [
           {
            "colorbar": {
             "outlinewidth": 0,
             "ticks": ""
            },
            "type": "mesh3d"
           }
          ],
          "parcoords": [
           {
            "line": {
             "colorbar": {
              "outlinewidth": 0,
              "ticks": ""
             }
            },
            "type": "parcoords"
           }
          ],
          "pie": [
           {
            "automargin": true,
            "type": "pie"
           }
          ],
          "scatter": [
           {
            "marker": {
             "colorbar": {
              "outlinewidth": 0,
              "ticks": ""
             }
            },
            "type": "scatter"
           }
          ],
          "scatter3d": [
           {
            "line": {
             "colorbar": {
              "outlinewidth": 0,
              "ticks": ""
             }
            },
            "marker": {
             "colorbar": {
              "outlinewidth": 0,
              "ticks": ""
             }
            },
            "type": "scatter3d"
           }
          ],
          "scattercarpet": [
           {
            "marker": {
             "colorbar": {
              "outlinewidth": 0,
              "ticks": ""
             }
            },
            "type": "scattercarpet"
           }
          ],
          "scattergeo": [
           {
            "marker": {
             "colorbar": {
              "outlinewidth": 0,
              "ticks": ""
             }
            },
            "type": "scattergeo"
           }
          ],
          "scattergl": [
           {
            "marker": {
             "colorbar": {
              "outlinewidth": 0,
              "ticks": ""
             }
            },
            "type": "scattergl"
           }
          ],
          "scattermapbox": [
           {
            "marker": {
             "colorbar": {
              "outlinewidth": 0,
              "ticks": ""
             }
            },
            "type": "scattermapbox"
           }
          ],
          "scatterpolar": [
           {
            "marker": {
             "colorbar": {
              "outlinewidth": 0,
              "ticks": ""
             }
            },
            "type": "scatterpolar"
           }
          ],
          "scatterpolargl": [
           {
            "marker": {
             "colorbar": {
              "outlinewidth": 0,
              "ticks": ""
             }
            },
            "type": "scatterpolargl"
           }
          ],
          "scatterternary": [
           {
            "marker": {
             "colorbar": {
              "outlinewidth": 0,
              "ticks": ""
             }
            },
            "type": "scatterternary"
           }
          ],
          "surface": [
           {
            "colorbar": {
             "outlinewidth": 0,
             "ticks": ""
            },
            "colorscale": [
             [
              0,
              "#0d0887"
             ],
             [
              0.1111111111111111,
              "#46039f"
             ],
             [
              0.2222222222222222,
              "#7201a8"
             ],
             [
              0.3333333333333333,
              "#9c179e"
             ],
             [
              0.4444444444444444,
              "#bd3786"
             ],
             [
              0.5555555555555556,
              "#d8576b"
             ],
             [
              0.6666666666666666,
              "#ed7953"
             ],
             [
              0.7777777777777778,
              "#fb9f3a"
             ],
             [
              0.8888888888888888,
              "#fdca26"
             ],
             [
              1,
              "#f0f921"
             ]
            ],
            "type": "surface"
           }
          ],
          "table": [
           {
            "cells": {
             "fill": {
              "color": "#EBF0F8"
             },
             "line": {
              "color": "white"
             }
            },
            "header": {
             "fill": {
              "color": "#C8D4E3"
             },
             "line": {
              "color": "white"
             }
            },
            "type": "table"
           }
          ]
         },
         "layout": {
          "annotationdefaults": {
           "arrowcolor": "#2a3f5f",
           "arrowhead": 0,
           "arrowwidth": 1
          },
          "autotypenumbers": "strict",
          "coloraxis": {
           "colorbar": {
            "outlinewidth": 0,
            "ticks": ""
           }
          },
          "colorscale": {
           "diverging": [
            [
             0,
             "#8e0152"
            ],
            [
             0.1,
             "#c51b7d"
            ],
            [
             0.2,
             "#de77ae"
            ],
            [
             0.3,
             "#f1b6da"
            ],
            [
             0.4,
             "#fde0ef"
            ],
            [
             0.5,
             "#f7f7f7"
            ],
            [
             0.6,
             "#e6f5d0"
            ],
            [
             0.7,
             "#b8e186"
            ],
            [
             0.8,
             "#7fbc41"
            ],
            [
             0.9,
             "#4d9221"
            ],
            [
             1,
             "#276419"
            ]
           ],
           "sequential": [
            [
             0,
             "#0d0887"
            ],
            [
             0.1111111111111111,
             "#46039f"
            ],
            [
             0.2222222222222222,
             "#7201a8"
            ],
            [
             0.3333333333333333,
             "#9c179e"
            ],
            [
             0.4444444444444444,
             "#bd3786"
            ],
            [
             0.5555555555555556,
             "#d8576b"
            ],
            [
             0.6666666666666666,
             "#ed7953"
            ],
            [
             0.7777777777777778,
             "#fb9f3a"
            ],
            [
             0.8888888888888888,
             "#fdca26"
            ],
            [
             1,
             "#f0f921"
            ]
           ],
           "sequentialminus": [
            [
             0,
             "#0d0887"
            ],
            [
             0.1111111111111111,
             "#46039f"
            ],
            [
             0.2222222222222222,
             "#7201a8"
            ],
            [
             0.3333333333333333,
             "#9c179e"
            ],
            [
             0.4444444444444444,
             "#bd3786"
            ],
            [
             0.5555555555555556,
             "#d8576b"
            ],
            [
             0.6666666666666666,
             "#ed7953"
            ],
            [
             0.7777777777777778,
             "#fb9f3a"
            ],
            [
             0.8888888888888888,
             "#fdca26"
            ],
            [
             1,
             "#f0f921"
            ]
           ]
          },
          "colorway": [
           "#636efa",
           "#EF553B",
           "#00cc96",
           "#ab63fa",
           "#FFA15A",
           "#19d3f3",
           "#FF6692",
           "#B6E880",
           "#FF97FF",
           "#FECB52"
          ],
          "font": {
           "color": "#2a3f5f"
          },
          "geo": {
           "bgcolor": "white",
           "lakecolor": "white",
           "landcolor": "#E5ECF6",
           "showlakes": true,
           "showland": true,
           "subunitcolor": "white"
          },
          "hoverlabel": {
           "align": "left"
          },
          "hovermode": "closest",
          "mapbox": {
           "style": "light"
          },
          "paper_bgcolor": "white",
          "plot_bgcolor": "#E5ECF6",
          "polar": {
           "angularaxis": {
            "gridcolor": "white",
            "linecolor": "white",
            "ticks": ""
           },
           "bgcolor": "#E5ECF6",
           "radialaxis": {
            "gridcolor": "white",
            "linecolor": "white",
            "ticks": ""
           }
          },
          "scene": {
           "xaxis": {
            "backgroundcolor": "#E5ECF6",
            "gridcolor": "white",
            "gridwidth": 2,
            "linecolor": "white",
            "showbackground": true,
            "ticks": "",
            "zerolinecolor": "white"
           },
           "yaxis": {
            "backgroundcolor": "#E5ECF6",
            "gridcolor": "white",
            "gridwidth": 2,
            "linecolor": "white",
            "showbackground": true,
            "ticks": "",
            "zerolinecolor": "white"
           },
           "zaxis": {
            "backgroundcolor": "#E5ECF6",
            "gridcolor": "white",
            "gridwidth": 2,
            "linecolor": "white",
            "showbackground": true,
            "ticks": "",
            "zerolinecolor": "white"
           }
          },
          "shapedefaults": {
           "line": {
            "color": "#2a3f5f"
           }
          },
          "ternary": {
           "aaxis": {
            "gridcolor": "white",
            "linecolor": "white",
            "ticks": ""
           },
           "baxis": {
            "gridcolor": "white",
            "linecolor": "white",
            "ticks": ""
           },
           "bgcolor": "#E5ECF6",
           "caxis": {
            "gridcolor": "white",
            "linecolor": "white",
            "ticks": ""
           }
          },
          "title": {
           "x": 0.05
          },
          "xaxis": {
           "automargin": true,
           "gridcolor": "white",
           "linecolor": "white",
           "ticks": "",
           "title": {
            "standoff": 15
           },
           "zerolinecolor": "white",
           "zerolinewidth": 2
          },
          "yaxis": {
           "automargin": true,
           "gridcolor": "white",
           "linecolor": "white",
           "ticks": "",
           "title": {
            "standoff": 15
           },
           "zerolinecolor": "white",
           "zerolinewidth": 2
          }
         }
        }
       }
      },
      "image/png": "[encoded data removed]",
      "text/html": [
       "<div>                            <div id=\"c7c046fd-8667-468a-a0d6-164c8be55dbc\" class=\"plotly-graph-div\" style=\"height:525px; width:100%;\"></div>            <script type=\"text/javascript\">                require([\"plotly\"], function(Plotly) {                    window.PLOTLYENV=window.PLOTLYENV || {};                                    if (document.getElementById(\"c7c046fd-8667-468a-a0d6-164c8be55dbc\")) {                    Plotly.newPlot(                        \"c7c046fd-8667-468a-a0d6-164c8be55dbc\",                        [{\"customdata\": [[\"Scrypt\"], [\"Scrypt\"], [\"X13\"], [\"SHA-256\"], [\"Ethash\"], [\"Scrypt\"], [\"X11\"], [\"CryptoNight-V7\"], [\"Ethash\"], [\"Equihash\"], [\"SHA-512\"], [\"Multiple\"], [\"SHA-256\"], [\"SHA-256\"], [\"Scrypt\"], [\"X15\"], [\"X11\"], [\"Scrypt\"], [\"Scrypt\"], [\"Scrypt\"], [\"Multiple\"], [\"Scrypt\"], [\"SHA-256\"], [\"Scrypt\"], [\"Scrypt\"], [\"Scrypt\"], [\"Quark\"], [\"Groestl\"], [\"Scrypt\"], [\"Scrypt\"], [\"Scrypt\"], [\"Scrypt\"], [\"Scrypt\"], [\"X11\"], [\"Scrypt\"], [\"Groestl\"], [\"Multiple\"], [\"SHA-256\"], [\"Scrypt\"], [\"Scrypt\"], [\"Scrypt\"], [\"Scrypt\"], [\"PoS\"], [\"Scrypt\"], [\"Scrypt\"], [\"NeoScrypt\"], [\"Scrypt\"], [\"Scrypt\"], [\"Scrypt\"], [\"Scrypt\"], [\"X11\"], [\"Scrypt\"], [\"X11\"], [\"SHA-256\"], [\"Scrypt\"], [\"Scrypt\"], [\"Scrypt\"], [\"SHA3\"], [\"Scrypt\"], [\"HybridScryptHash256\"], [\"Scrypt\"], [\"Scrypt\"], [\"SHA-256\"], [\"Scrypt\"], [\"X13\"], [\"Scrypt\"], [\"SHA-256\"], [\"Scrypt\"], [\"X13\"], [\"NeoScrypt\"], [\"Scrypt\"], [\"Scrypt\"], [\"Scrypt\"], [\"Scrypt\"], [\"Scrypt\"], [\"Scrypt\"], [\"X11\"], [\"X11\"], [\"SHA-256\"], [\"Multiple\"], [\"SHA-256\"], [\"PHI1612\"], [\"X11\"], [\"SHA-256\"], [\"SHA-256\"], [\"SHA-256\"], [\"X11\"], [\"Scrypt\"], [\"Scrypt\"], [\"Scrypt\"], [\"Scrypt\"], [\"Lyra2REv2\"], [\"Scrypt\"], [\"X11\"], [\"Multiple\"], [\"SHA-256\"], [\"X13\"], [\"Scrypt\"], [\"CryptoNight\"], [\"CryptoNight\"], [\"Shabal256\"], [\"Counterparty\"], [\"Scrypt\"], [\"SHA-256\"], [\"Groestl\"], [\"Scrypt\"], [\"Scrypt\"], [\"Scrypt\"], [\"X13\"], [\"Scrypt\"], [\"Scrypt\"], [\"Scrypt\"], [\"Scrypt\"], [\"X13\"], [\"Scrypt\"], [\"Stanford Folding\"], [\"X11\"], [\"Multiple\"], [\"QuBit\"], [\"Scrypt\"], [\"Scrypt\"], [\"Scrypt\"], [\"M7 POW\"], [\"Scrypt\"], [\"SHA-256\"], [\"Scrypt\"], [\"X11\"], [\"SHA3\"], [\"X11\"], [\"Lyra2RE\"], [\"SHA-256\"], [\"QUAIT\"], [\"X11\"], [\"X11\"], [\"Scrypt\"], [\"Scrypt\"], [\"Scrypt\"], [\"Ethash\"], [\"X13\"], [\"Blake2b\"], [\"SHA-256\"], [\"X15\"], [\"X11\"], [\"SHA-256\"], [\"BLAKE256\"], [\"Scrypt\"], [\"1GB AES Pattern Search\"], [\"SHA-256\"], [\"X11\"], [\"Scrypt\"], [\"SHA-256\"], [\"SHA-256\"], [\"NIST5\"], [\"Scrypt\"], [\"Scrypt\"], [\"X11\"], [\"Dagger\"], [\"Scrypt\"], [\"X11GOST\"], [\"X11\"], [\"Scrypt\"], [\"SHA-256\"], [\"Scrypt\"], [\"PoS\"], [\"Scrypt\"], [\"X11\"], [\"X11\"], [\"SHA-256\"], [\"SHA-256\"], [\"NIST5\"], [\"X11\"], [\"Scrypt\"], [\"POS 3.0\"], [\"Scrypt\"], [\"Scrypt\"], [\"Scrypt\"], [\"X13\"], [\"X11\"], [\"X11\"], [\"Equihash\"], [\"X11\"], [\"Scrypt\"], [\"CryptoNight\"], [\"SHA-256\"], [\"SHA-256\"], [\"X11\"], [\"Scrypt\"], [\"Multiple\"], [\"Scrypt\"], [\"Scrypt\"], [\"Scrypt\"], [\"SHA-256\"], [\"Scrypt\"], [\"Scrypt\"], [\"SHA-256D\"], [\"PoS\"], [\"Scrypt\"], [\"X11\"], [\"Lyra2Z\"], [\"PoS\"], [\"X13\"], [\"X14\"], [\"PoS\"], [\"SHA-256D\"], [\"Ethash\"], [\"Equihash\"], [\"DPoS\"], [\"X11\"], [\"Scrypt\"], [\"X11\"], [\"X13\"], [\"X11\"], [\"PoS\"], [\"Scrypt\"], [\"Scrypt\"], [\"X11\"], [\"PoS\"], [\"X11\"], [\"SHA-256\"], [\"Scrypt\"], [\"X11\"], [\"Scrypt\"], [\"Scrypt\"], [\"X11\"], [\"CryptoNight\"], [\"Scrypt\"], [\"Scrypt\"], [\"Scrypt\"], [\"Scrypt\"], [\"Quark\"], [\"QuBit\"], [\"Scrypt\"], [\"CryptoNight\"], [\"Lyra2RE\"], [\"Scrypt\"], [\"SHA-256\"], [\"X11\"], [\"Scrypt\"], [\"X11\"], [\"Scrypt\"], [\"CryptoNight-V7\"], [\"Scrypt\"], [\"Scrypt\"], [\"Scrypt\"], [\"X13\"], [\"X11\"], [\"Equihash\"], [\"Scrypt\"], [\"Scrypt\"], [\"Lyra2RE\"], [\"Scrypt\"], [\"Dagger-Hashimoto\"], [\"X11\"], [\"Blake2S\"], [\"X11\"], [\"Scrypt\"], [\"PoS\"], [\"X11\"], [\"NIST5\"], [\"PoS\"], [\"X11\"], [\"Scrypt\"], [\"Scrypt\"], [\"Scrypt\"], [\"SHA-256\"], [\"X11\"], [\"Scrypt\"], [\"Scrypt\"], [\"SHA-256\"], [\"PoS\"], [\"Scrypt\"], [\"X15\"], [\"SHA-256\"], [\"Scrypt\"], [\"POS 3.0\"], [\"CryptoNight-V7\"], [\"536\"], [\"Argon2d\"], [\"Blake2b\"], [\"Cloverhash\"], [\"CryptoNight\"], [\"NIST5\"], [\"X11\"], [\"NIST5\"], [\"Skein\"], [\"Scrypt\"], [\"X13\"], [\"Scrypt\"], [\"X11\"], [\"X11\"], [\"Scrypt\"], [\"CryptoNight\"], [\"X13\"], [\"Time Travel\"], [\"Scrypt\"], [\"Keccak\"], [\"SkunkHash v2 Raptor\"], [\"X11\"], [\"Skein\"], [\"SHA-256\"], [\"X11\"], [\"Scrypt\"], [\"VeChainThor Authority\"], [\"Scrypt\"], [\"PoS\"], [\"Scrypt\"], [\"Scrypt\"], [\"Scrypt\"], [\"Scrypt\"], [\"Scrypt\"], [\"Scrypt\"], [\"Scrypt\"], [\"CryptoNight\"], [\"SHA-512\"], [\"Ouroboros\"], [\"X11\"], [\"Equihash\"], [\"NeoScrypt\"], [\"X11\"], [\"Scrypt\"], [\"NeoScrypt\"], [\"Lyra2REv2\"], [\"Equihash\"], [\"Scrypt\"], [\"SHA-256\"], [\"NIST5\"], [\"PHI1612\"], [\"Dagger\"], [\"Scrypt\"], [\"Quark\"], [\"Scrypt\"], [\"POS 2.0\"], [\"Scrypt\"], [\"SHA-256\"], [\"X11\"], [\"NeoScrypt\"], [\"Ethash\"], [\"NeoScrypt\"], [\"X11\"], [\"DPoS\"], [\"NIST5\"], [\"X13\"], [\"Multiple\"], [\"Scrypt\"], [\"CryptoNight\"], [\"CryptoNight\"], [\"Ethash\"], [\"NIST5\"], [\"Quark\"], [\"X11\"], [\"CryptoNight-V7\"], [\"Scrypt\"], [\"Scrypt\"], [\"Scrypt\"], [\"X11\"], [\"BLAKE256\"], [\"X11\"], [\"NeoScrypt\"], [\"Quark\"], [\"NeoScrypt\"], [\"Scrypt\"], [\"Scrypt\"], [\"Scrypt\"], [\"X11\"], [\"X11\"], [\"SHA-256\"], [\"C11\"], [\"POS 3.0\"], [\"Ethash\"], [\"Scrypt\"], [\"CryptoNight\"], [\"SkunkHash\"], [\"Scrypt\"], [\"CryptoNight\"], [\"Scrypt\"], [\"Dagger\"], [\"Lyra2REv2\"], [\"X13\"], [\"Proof-of-BibleHash\"], [\"SHA-256 + Hive\"], [\"Scrypt\"], [\"Scrypt\"], [\"X11\"], [\"C11\"], [\"Proof-of-Authority\"], [\"X11\"], [\"XEVAN\"], [\"Scrypt\"], [\"VBFT\"], [\"Ethash\"], [\"CryptoNight\"], [\"Scrypt\"], [\"IMesh\"], [\"NIST5\"], [\"Scrypt\"], [\"Scrypt\"], [\"Equihash\"], [\"Scrypt\"], [\"Lyra2Z\"], [\"Green Protocol\"], [\"PoS\"], [\"Scrypt\"], [\"Semux BFT consensus\"], [\"X11\"], [\"Quark\"], [\"PoS\"], [\"CryptoNight\"], [\"X16R\"], [\"Scrypt\"], [\"NIST5\"], [\"Lyra2RE\"], [\"XEVAN\"], [\"Tribus\"], [\"Scrypt\"], [\"Lyra2Z\"], [\"CryptoNight\"], [\"CryptoNight Heavy\"], [\"CryptoNight\"], [\"Scrypt\"], [\"Scrypt\"], [\"Jump Consistent Hash\"], [\"SHA-256D\"], [\"CryptoNight\"], [\"Scrypt\"], [\"X15\"], [\"Scrypt\"], [\"Quark\"], [\"SHA-256\"], [\"DPoS\"], [\"X16R\"], [\"HMQ1725\"], [\"X11\"], [\"X16R\"], [\"Quark\"], [\"Quark\"], [\"Scrypt\"], [\"Lyra2REv2\"], [\"Quark\"], [\"Scrypt\"], [\"Scrypt\"], [\"CryptoNight-V7\"], [\"Cryptonight-GPU\"], [\"XEVAN\"], [\"CryptoNight Heavy\"], [\"X11\"], [\"X11\"], [\"Scrypt\"], [\"PoS\"], [\"SHA-256\"], [\"Keccak\"], [\"X11\"], [\"X11\"], [\"Scrypt\"], [\"SHA-512\"], [\"X16R\"], [\"ECC 256K1\"], [\"Equihash\"], [\"XEVAN\"], [\"Lyra2Z\"], [\"SHA-256\"], [\"XEVAN\"], [\"X11\"], [\"CryptoNight\"], [\"Quark\"], [\"Blake\"], [\"Blake\"], [\"Equihash\"], [\"Exosis\"], [\"Scrypt\"], [\"Scrypt\"], [\"Equihash\"], [\"Quark\"], [\"Equihash\"], [\"Quark\"], [\"Scrypt\"], [\"QuBit\"], [\"X11\"], [\"Scrypt\"], [\"XEVAN\"], [\"SHA-256D\"], [\"X11\"], [\"SHA-256\"], [\"X13\"], [\"SHA-256\"], [\"X11\"], [\"DPoS\"], [\"Scrypt\"], [\"Scrypt\"], [\"X11\"], [\"NeoScrypt\"], [\"Scrypt\"], [\"Blake\"], [\"Scrypt\"], [\"SHA-256\"], [\"Scrypt\"], [\"X11\"], [\"Scrypt\"], [\"Scrypt\"], [\"SHA-256\"], [\"X11\"], [\"SHA-256\"], [\"Scrypt\"], [\"Scrypt\"], [\"Scrypt\"], [\"Groestl\"], [\"X11\"], [\"Scrypt\"], [\"PoS\"], [\"Scrypt\"], [\"Scrypt\"], [\"X11\"], [\"SHA-256\"], [\"DPoS\"], [\"Scrypt\"], [\"Scrypt\"], [\"NeoScrypt\"], [\"Multiple\"], [\"X13\"], [\"Equihash+Scrypt\"], [\"DPoS\"], [\"Ethash\"], [\"DPoS\"], [\"SHA-256\"], [\"Leased POS\"], [\"PoS\"], [\"TRC10\"], [\"PoS\"], [\"SHA-256\"], [\"Scrypt\"], [\"CryptoNight\"], [\"Equihash\"], [\"Scrypt\"]], \"hovertemplate\": \"<b>%{hovertext}</b><br><br>principal component 1=%{x}<br>principal component 2=%{y}<br>principal component 3=%{z}<br>Algorithm=%{customdata[0]}<br>class=%{marker.color}<extra></extra>\", \"hovertext\": [\"42 Coin\", \"404Coin\", \"EliteCoin\", \"Bitcoin\", \"Ethereum\", \"Litecoin\", \"Dash\", \"Monero\", \"Ethereum Classic\", \"ZCash\", \"Bitshares\", \"DigiByte\", \"BitcoinDark\", \"PayCoin\", \"ProsperCoin\", \"KoboCoin\", \"Spreadcoin\", \"Argentum\", \"Aurora Coin\", \"BlueCoin\", \"MyriadCoin\", \"MoonCoin\", \"ZetaCoin\", \"SexCoin\", \"Quatloo\", \"EnergyCoin\", \"QuarkCoin\", \"Riecoin\", \"Digitalcoin \", \"BitBar\", \"Catcoin\", \"CryptoBullion\", \"CannaCoin\", \"CryptCoin\", \"CasinoCoin\", \"Diamond\", \"Verge\", \"DevCoin\", \"EarthCoin\", \"E-Gulden\", \"Einsteinium\", \"Emerald\", \"Exclusive Coin\", \"FlutterCoin\", \"Franko\", \"FeatherCoin\", \"GrandCoin\", \"GlobalCoin\", \"GoldCoin\", \"HoboNickels\", \"HyperStake\", \"Infinite Coin\", \"IOCoin\", \"IXcoin\", \"KrugerCoin\", \"LuckyCoin\", \"Litebar \", \"MaxCoin\", \"MegaCoin\", \"MediterraneanCoin\", \"MintCoin\", \"MinCoin\", \"MazaCoin\", \"Nautilus Coin\", \"NavCoin\", \"NobleCoin\", \"Namecoin\", \"NyanCoin\", \"OpalCoin\", \"Orbitcoin\", \"PotCoin\", \"PhoenixCoin\", \"Reddcoin\", \"RonPaulCoin\", \"StableCoin\", \"SmartCoin\", \"SuperCoin\", \"SyncCoin\", \"SysCoin\", \"TeslaCoin\", \"TigerCoin\", \"TittieCoin\", \"TorCoin\", \"TerraCoin\", \"UnbreakableCoin\", \"Unobtanium\", \"UroCoin\", \"UnitaryStatus Dollar\", \"UltraCoin\", \"ViaCoin\", \"VeriCoin\", \"Vertcoin\", \"WorldCoin\", \"X11 Coin\", \"Crypti\", \"JouleCoin\", \"StealthCoin\", \"ZCC Coin\", \"ByteCoin\", \"DigitalNote \", \"BurstCoin\", \"StorjCoin\", \"MonaCoin\", \"Neutron\", \"FairCoin\", \"Gulden\", \"RubyCoin\", \"PesetaCoin\", \"Kore\", \"Wild Beast Coin\", \"Dnotes\", \"Flo\", \"8BIT Coin\", \"Sativa Coin\", \"ArtByte\", \"Folding Coin\", \"Ucoin\", \"Unitus\", \"CypherPunkCoin\", \"OmniCron\", \"Vtorrent\", \"GreenCoin\", \"Cryptonite\", \"MasterCoin\", \"SoonCoin\", \"1Credit\", \"IslaCoin\", \"Nexus\", \"MarsCoin \", \"Crypto\", \"Anarchists Prime\", \"Droidz\", \"BowsCoin\", \"Squall Coin\", \"Song Coin\", \"BitZeny\", \"Diggits\", \"Expanse\", \"Paycon\", \"Siacoin\", \"Emercoin\", \"EverGreenCoin\", \"MindCoin\", \"I0coin\", \"Decred\", \"Revolution VR\", \"HOdlcoin\", \"EDRCoin\", \"Hitcoin\", \"Gamecredits\", \"DubaiCoin\", \"CarpeDiemCoin\", \"PWR Coin\", \"BillaryCoin\", \"GPU Coin\", \"Adzcoin\", \"SoilCoin\", \"YoCoin\", \"SibCoin\", \"EuropeCoin\", \"ZeitCoin\", \"SwingCoin\", \"SafeExchangeCoin\", \"Nebuchadnezzar\", \"Francs\", \"BolivarCoin\", \"Ratecoin\", \"Revenu\", \"Clockcoin\", \"VIP Tokens\", \"BitSend\", \"Omni\", \"Let it Ride\", \"PutinCoin\", \"iBankCoin\", \"Frankywillcoin\", \"MudraCoin\", \"PizzaCoin\", \"Lutetium Coin\", \"Komodo\", \"GoldBlocks\", \"CarterCoin\", \"Karbo\", \"BitTokens\", \"ZayedCoin\", \"MustangCoin\", \"ZoneCoin\", \"Circuits of Value\", \"RootCoin\", \"DopeCoin\", \"BitCurrency\", \"DollarCoin\", \"Swiscoin\", \"Shilling\", \"BuzzCoin\", \"Opair\", \"PesoBit\", \"Halloween Coin\", \"ZCoin\", \"CoffeeCoin\", \"RoyalCoin\", \"GanjaCoin V2\", \"TeamUP\", \"LanaCoin\", \"Elementrem\", \"ZClassic\", \"ARK\", \"InsaneCoin\", \"KiloCoin\", \"ArtexCoin\", \"EmberCoin\", \"XenixCoin\", \"FreeCoin\", \"PLNCoin\", \"AquariusCoin\", \"Kurrent\", \"Creatio\", \"Eternity\", \"Eurocoin\", \"BitcoinFast\", \"Stakenet\", \"BitConnect Coin\", \"MoneyCoin\", \"Enigma\", \"Cannabis Industry Coin\", \"Russiacoin\", \"PandaCoin\", \"GameUnits\", \"GAKHcoin\", \"Allsafe\", \"LiteCreed\", \"OsmiumCoin\", \"Bikercoins\", \"HexxCoin\", \"Klingon Empire Darsek\", \"Internet of People\", \"KushCoin\", \"Printerium\", \"PacCoin\", \"Impeach\", \"Citadel\", \"Zilbercoin\", \"FirstCoin\", \"BeaverCoin\", \"FindCoin\", \"VaultCoin\", \"Zero\", \"OpenChat\", \"Canada eCoin\", \"Zoin\", \"RenosCoin\", \"DubaiCoin\", \"VirtacoinPlus\", \"TajCoin\", \"Impact\", \"EB3coin\", \"Atmos\", \"HappyCoin\", \"Coinonat\", \"MacronCoin\", \"Condensate\", \"Independent Money System\", \"ArgusCoin\", \"LomoCoin\", \"ProCurrency\", \"GoldReserve\", \"BenjiRolls\", \"GrowthCoin\", \"ILCoin\", \"Phreak\", \"Degas Coin\", \"HTML5 Coin\", \"Ultimate Secure Cash\", \"EquiTrader\", \"QTUM\", \"Quantum Resistant Ledger\", \"Espers\", \"Dynamic\", \"Nano\", \"ChanCoin\", \"Dinastycoin\", \"Denarius\", \"DigitalPrice\", \"Virta Unique Coin\", \"Bitcoin Planet\", \"Unify\", \"BritCoin\", \"SocialCoin\", \"ArcticCoin\", \"DAS\", \"Linda\", \"LeviarCoin\", \"DeepOnion\", \"Bitcore\", \"gCn Coin\", \"SmartCash\", \"Signatum\", \"Onix\", \"Cream\", \"Bitcoin Cash\", \"Monoeci\", \"Draftcoin\", \"Vechain\", \"Sojourn Coin\", \"Stakecoin\", \"NewYorkCoin\", \"FrazCoin\", \"Kronecoin\", \"AdCoin\", \"Linx\", \"CoinonatX\", \"Ethereum Dark\", \"Sumokoin\", \"Obsidian\", \"Cardano\", \"Regalcoin\", \"BitcoinZ\", \"TrezarCoin\", \"Elements\", \"TerraNovaCoin\", \"VIVO Coin\", \"Rupee\", \"Bitcoin Gold\", \"WomenCoin\", \"Theresa May Coin\", \"NamoCoin\", \"LUXCoin\", \"Pirl\", \"Xios\", \"Bitcloud 2.0\", \"eBoost\", \"KekCoin\", \"BlackholeCoin\", \"Infinity Economics\", \"Pura\", \"Innova\", \"Ellaism\", \"GoByte\", \"Magnet\", \"Lamden Tau\", \"Electra\", \"Bitcoin Diamond\", \"SHIELD\", \"Cash & Back Coin\", \"UltraNote\", \"BitCoal\", \"DaxxCoin\", \"Bulwark\", \"Kalkulus\", \"AC3\", \"Lethean\", \"GermanCoin\", \"LiteCoin Ultra\", \"PopularCoin\", \"PhantomX\", \"Photon\", \"Sucre\", \"SparksPay\", \"Digiwage\", \"GunCoin\", \"IrishCoin\", \"Trollcoin\", \"Litecoin Plus\", \"Monkey Project\", \"Pioneer Coin\", \"UnitedBitcoin\", \"Interzone\", \"TokenPay\", \"1717 Masonic Commemorative Token\", \"My Big Coin\", \"TurtleCoin\", \"MUNcoin\", \"Unified Society USDEX\", \"Niobio Cash\", \"ShareChain\", \"Travelflex\", \"KREDS\", \"Tokyo Coin\", \"BiblePay\", \"LitecoinCash\", \"BitFlip\", \"LottoCoin\", \"Crypto Improvement Fund\", \"Stipend\", \"Poa Network\", \"Pushi\", \"Ellerium\", \"Velox\", \"Ontology\", \"Callisto Network\", \"BitTube\", \"Poseidon\", \"Aidos Kuneen\", \"Bitspace\", \"Briacoin\", \"Ignition\", \"Bitrolium\", \"MedicCoin\", \"Alpenschillling\", \"Bitcoin Green\", \"Deviant Coin\", \"Abjcoin\", \"Semux\", \"FuturoCoin\", \"Carebit\", \"Zealium\", \"Monero Classic\", \"Proton\", \"iDealCash\", \"Jumpcoin\", \"Infinex\", \"Bitcoin Incognito\", \"KEYCO\", \"HollyWoodCoin\", \"GINcoin\", \"PlatinCoin\", \"Loki\", \"Newton Coin\", \"Swisscoin\", \"Xt3ch\", \"MassGrid\", \"TheVig\", \"PluraCoin\", \"EmaratCoin\", \"Dekado\", \"Lynx\", \"Poseidon Quark\", \"BitcoinWSpectrum\", \"Muse\", \"Motion\", \"PlusOneCoin\", \"Axe\", \"Trivechain\", \"Dystem\", \"Giant\", \"Peony Coin\", \"Absolute Coin\", \"Vitae\", \"HexCoin\", \"TPCash\", \"Webchain\", \"Ryo\", \"Urals Coin\", \"Qwertycoin\", \"ARENON\", \"EUNO\", \"MMOCoin\", \"Ketan\", \"Project Pai\", \"XDNA\", \"PAXEX\", \"Azart\", \"ThunderStake\", \"Kcash\", \"Xchange\", \"Acute Angle Cloud\", \"CrypticCoin\", \"Bettex coin\", \"Actinium\", \"Bitcoin SV\", \"BitMoney\", \"Junson Ming Chan Coin\", \"FREDEnergy\", \"HerbCoin\", \"Universal Molecule\", \"Lithium\", \"PirateCash\", \"Exosis\", \"Block-Logic\", \"Oduwa\", \"Beam\", \"Galilel\", \"Bithereum\", \"Crypto Sports\", \"Credit\", \"SLICE\", \"Dash Platinum\", \"Nasdacoin\", \"Beetle Coin\", \"Titan Coin\", \"Award\", \"BLAST\", \"Bitcoin Rhodium\", \"GlobalToken\", \"Insane Coin\", \"ALAX\", \"LiteDoge\", \"SolarCoin\", \"TruckCoin\", \"UFO Coin\", \"OrangeCoin\", \"BlakeCoin\", \"BitstarCoin\", \"NeosCoin\", \"HyperCoin\", \"PinkCoin\", \"Crypto Escudo\", \"AudioCoin\", \"IncaKoin\", \"Piggy Coin\", \"Crown Coin\", \"Genstake\", \"SmileyCoin\", \"XiaoMiCoin\", \"Groestlcoin\", \"CapriCoin\", \" ClubCoin\", \"Radium\", \"Bata\", \"Pakcoin\", \"Creditbit \", \"OKCash\", \"Lisk\", \"HiCoin\", \"WhiteCoin\", \"FriendshipCoin\", \"JoinCoin\", \"Triangles Coin\", \"Vollar\", \"EOS\", \"Reality Clash\", \"Oxycoin\", \"TigerCash\", \"Waves\", \"Particl\", \"BitTorrent\", \"Nxt\", \"ZEPHYR\", \"Gapcoin\", \"Beldex\", \"Horizen\", \"BitcoinPlus\"], \"legendgroup\": \"\", \"marker\": {\"color\": [0, 0, 0, 1, 1, 1, 0, 1, 1, 1, 0, 1, 0, 0, 1, 0, 1, 1, 0, 0, 1, 1, 1, 1, 1, 0, 1, 1, 1, 0, 1, 0, 1, 1, 0, 0, 1, 1, 1, 1, 1, 1, 0, 0, 1, 1, 1, 1, 1, 0, 0, 1, 0, 1, 1, 1, 1, 0, 1, 1, 0, 1, 0, 0, 0, 1, 1, 1, 0, 0, 0, 0, 0, 1, 1, 1, 0, 0, 1, 0, 1, 0, 0, 1, 1, 1, 1, 0, 0, 1, 0, 1, 1, 0, 0, 1, 0, 0, 1, 1, 0, 0, 1, 0, 0, 1, 0, 1, 0, 1, 0, 1, 0, 0, 1, 1, 0, 1, 1, 1, 0, 1, 1, 1, 1, 1, 0, 0, 1, 1, 1, 0, 1, 0, 1, 1, 0, 1, 0, 1, 0, 0, 1, 1, 0, 1, 1, 0, 0, 1, 0, 1, 0, 0, 0, 1, 1, 1, 1, 0, 0, 0, 0, 0, 1, 1, 0, 0, 0, 0, 0, 1, 0, 0, 0, 0, 0, 1, 0, 1, 0, 0, 1, 0, 1, 0, 0, 1, 0, 1, 0, 1, 0, 1, 0, 0, 0, 0, 1, 0, 0, 0, 0, 0, 1, 1, 0, 0, 1, 1, 0, 0, 0, 0, 0, 1, 0, 0, 0, 0, 0, 0, 0, 0, 1, 0, 0, 0, 0, 0, 0, 1, 1, 1, 0, 0, 0, 0, 1, 0, 1, 0, 0, 1, 0, 1, 1, 0, 1, 1, 0, 1, 0, 0, 0, 1, 0, 0, 1, 0, 0, 0, 0, 0, 0, 0, 1, 0, 1, 0, 0, 0, 0, 1, 0, 1, 0, 1, 1, 1, 1, 0, 1, 0, 0, 1, 0, 1, 1, 1, 0, 1, 0, 1, 1, 1, 0, 1, 0, 1, 0, 0, 0, 1, 0, 1, 1, 1, 1, 1, 0, 0, 1, 0, 0, 0, 1, 0, 1, 0, 1, 0, 1, 0, 0, 0, 0, 1, 0, 0, 1, 0, 0, 0, 1, 1, 1, 1, 0, 0, 0, 0, 1, 0, 1, 1, 1, 0, 0, 1, 1, 0, 0, 1, 0, 1, 1, 1, 0, 1, 1, 0, 0, 0, 1, 1, 1, 0, 0, 0, 1, 1, 0, 1, 1, 1, 1, 0, 3, 3, 1, 1, 1, 0, 0, 0, 0, 0, 0, 1, 1, 1, 1, 0, 0, 0, 1, 0, 1, 0, 0, 0, 0, 1, 0, 0, 1, 0, 0, 1, 1, 0, 1, 0, 1, 1, 1, 1, 0, 0, 1, 0, 1, 0, 0, 0, 0, 0, 0, 1, 1, 1, 0, 0, 0, 0, 0, 0, 1, 0, 1, 1, 1, 1, 0, 0, 0, 0, 1, 0, 0, 1, 0, 0, 1, 3, 1, 0, 1, 1, 0, 0, 1, 0, 1, 1, 0, 1, 1, 0, 1, 0, 1, 0, 0, 1, 0, 0, 0, 0, 0, 1, 1, 1, 0, 0, 0, 1, 0, 1, 0, 1, 0, 0, 0, 0, 1, 0, 0, 0, 1, 0, 1, 0, 1, 0, 0, 0, 1, 1, 0, 0, 0, 0, 0, 0, 1, 0, 1, 0, 1, 0, 0, 3, 0, 2, 0, 0, 0, 1, 1, 0], \"coloraxis\": \"coloraxis\", \"symbol\": \"circle\"}, \"mode\": \"markers\", \"name\": \"\", \"scene\": \"scene\", \"showlegend\": false, \"type\": \"scatter3d\", \"x\": [-0.3274147222126776, -0.3107709746514543, 2.308918756991103, -0.14866510358651597, -0.1504993790213807, -0.15622475878828387, -0.41935501984567547, -0.1490554758250697, -0.1489425352921834, -0.14130752417170783, -0.3007245022333839, 0.16357700609801526, -0.31868677104671683, -0.27359055485716316, -0.15736984640251725, -0.25623805538037747, -0.24951760510159196, -0.15698669505975787, -0.3270746568634138, -0.3196613923082377, -0.0895915968420932, 2.5625801840182487, -0.1457530094830788, -0.15424473126962543, -0.15679083365147384, -0.3259131323588668, -0.22572443007047946, -0.19706517630921339, -0.1568397270414197, -0.32741066158843224, -0.15735213366535244, -0.32739496013008546, -0.15743851285886865, -0.24960684739621203, 0.6748652335960657, -0.36801918219636764, 0.18728228319783696, 0.22880195314357285, 0.09104081674748361, -0.15718508432087608, -0.15279469117181965, -0.15712441243541814, -0.3676344739442218, -0.2659622950339614, -0.1574954541831302, -0.17443711060619832, -0.13673776467320073, -0.15629179839724888, -0.15656890585662636, -0.32547545072538764, -0.354107180547427, 1.58963437534482, -0.4192498447627401, -0.14862651929531936, -0.15386087102963372, -0.15721149773245477, -0.1575659514497564, -0.45281144483222996, -0.15682594705895098, -0.16333417460029723, -0.02255711486318869, -0.15744732993215918, -0.28202953038802764, -0.2820698085041378, -0.27297045175448126, -0.022462056171027683, -0.1487040368620983, -0.15111769465883093, -0.2735918995907536, -0.3491231324619237, -0.32172246962712236, -0.32581807511551475, 0.030288673627988535, -0.15742675757227673, -0.15552257669679825, -0.1569140100547233, -0.3739694616219433, -0.419621039692049, -0.13586848242711871, -0.2474640846291886, -0.14816835654501295, -0.3122288418519855, -0.41953275220433306, -0.14845523490274395, -0.1484381075790063, -0.14902838464189513, -0.24978059628897578, -0.3026714584749806, -0.3260933844194529, -0.15714357964314823, -0.2595579041152929, -0.18738715209222653, -0.15424938576052166, -0.41949728756196675, -0.2479316036667253, -0.1482355777300976, -0.27337303106438804, -0.3185251982701745, 3.8529383432340687, 0.4553723257060806, -0.0003013659795371711, -0.3391210001529876, -0.15601224381413742, -0.3178992878832236, -0.36744146813062845, -0.14062409680661525, -0.2820501491085548, -0.15473238251442986, -0.2736671518360643, -0.15756815365423496, -0.27670896135983264, -0.1545976058547152, -0.32739681268484483, -0.2736194028240413, -0.1408348154827537, -0.15266471362874945, -0.3744136915048703, -0.12356442509992288, -0.19389330130355115, -0.1574413807300519, -0.32713144876730527, -0.03049668473155193, -0.11065900776985722, -0.15757704255491065, -0.14873178112590674, 0.4941192843797544, -0.41960259118728505, -0.5007663050126039, -0.2491684011439612, -0.1600640909381614, -0.1484718406498654, -0.41936428968933165, -0.24945300066555207, -0.3520759171435998, -0.15570234087137058, -0.15489541125168, -0.28045328967328, -0.15156550034414645, -0.2731414843864454, 0.38081556058132854, -0.31124915860712854, -0.25867765521307595, -0.24948837246644878, -0.1486276403029462, -0.06877561121894187, -0.153539013962357, -0.1284603163746037, -0.31865772057952063, -0.09737172425471904, -0.15614182473778074, -0.3187213775868444, 0.2694303858457897, -0.2271899360884018, -0.32700740343645734, -0.28032206886863087, -0.24864986242421674, -0.15037560755510218, -0.15638866101164092, -0.14598080229668434, -0.4167739042886053, 0.8700282876644452, -0.3185215812040176, -0.05514315006403395, -0.36731806474453693, -0.1573671382410825, -0.2494516286120344, -0.4174479623599359, -0.317266019414968, -0.31493604244906065, -0.34839979607825905, -0.41833884184033915, -0.15757710099027286, -0.3455971825925095, -0.30332596548303054, -0.3270454463063712, -0.32548616321491475, -0.22726619744375393, -0.24960142022518786, -0.3619175496588036, -0.2234756840050656, -0.4190769648009599, -0.32625048553075364, 0.30042790474631303, -0.3187023159681576, -0.14888745321520808, -0.41959178545264053, -0.3272344590270395, -0.10365657330854196, -0.32739105283813913, -0.1547465098517018, -0.2803124369855982, -0.1488461292549693, -0.20575777153583485, -0.15724080181849243, 0.029322848164875653, -0.3662762299437819, -0.3270056817949973, -0.4057658402921511, -0.15524256816365406, -0.3656058100301164, -0.2286957449554453, -0.43362086313862264, -0.36535414033908864, -0.2848621827303216, -0.15130793348216423, -0.1413291153758751, 3.744460271098259, -0.4191847321413778, -0.084356057360216, -0.23619913759676125, 0.8571649874391812, -0.4195467474258858, -0.3667394968022111, -0.3269331900823814, -0.3270873152064608, -0.24743146456743895, -0.36731806474453693, -0.41912197595093104, -0.31856516045305705, -0.3269339444670264, -0.4625857390147248, -0.3270811723274878, -0.32267242007893854, -0.41957570179562104, 0.3004223134635427, -0.32629243424953935, 0.3605285060221867, -0.32728025723415594, -0.32735077604870294, -0.3551994604145048, -0.3628694184337776, -0.15755885342227466, 0.30055288694848037, -0.16060408237890442, -0.32358041482349253, -0.3186787585226867, -0.41948574821028195, -0.327128800898245, 0.4651342218599058, -0.3272555919051353, -0.14782101728444993, -0.28195658069549284, -0.2744391961113669, -0.15752717624795215, -0.2284638408942221, -0.24234079476959033, -0.1413414892176133, -0.30812912494514527, -0.15566234045508415, -0.1603227611956274, -0.2816981002690275, -0.16156009550266595, -0.4187520741984847, -0.4394804205719119, -0.4174919534671191, -0.12847180525390098, -0.3655664471285906, -0.41865008436117884, -0.17976452164586054, -0.359972193789972, -0.41459463374295435, -0.327198950365085, -0.3271981154419444, -0.3203248482238444, 0.2586844160100189, -0.4191281879976239, -0.15708996567960945, -0.26461311063456255, -0.11524424903604824, -0.36735228195465397, -0.32641031088129985, 0.8746248218460605, -0.2722819109206022, -0.15691211733741325, -0.34437679527085935, -0.1476791995512565, 0.5761573565624384, -0.14200813625759215, -0.019007679053337615, -0.1607467513812586, 0.3365079667899578, -0.34993384666545746, -0.24865819068947217, -0.3484375218743602, -0.4141921372009653, -0.15723117900876948, -0.27330481214762853, -0.15699465023512446, -0.2490525368885372, -0.24962944035303591, 0.13713862850100086, 0.30081694267891235, -0.27337553679468335, -0.13680852911794214, 3.2487354208946333, -0.11007535072044387, -0.3465684365138167, -0.24050875019065304, -0.413697628497357, -0.14866426880302222, -0.4194003458476548, -0.2820308238104225, 4.39495757969137, -0.08320344325208137, -0.36721860918583377, 1.5873532527404717, -0.15732890706647787, -0.15678098497045054, -0.1564822624971285, -0.15646920904738754, -0.326834498147548, -0.3273337235107413, 0.301000453329235, -0.35872986044554767, 0.6515913704192877, -0.41934118468950105, 0.0708033380588463, -0.344127104481123, -0.2040647649927955, -0.3272893526023071, -0.17912130792019512, -0.3129366074484458, -0.14118771074038683, 0.4409735874078734, -0.31702677547286023, -0.3347151603517834, -0.3928233659063955, -0.14913575145270075, -0.3272397336560045, -0.39867543486075063, -0.1556605517509033, -0.3291428343019583, -0.3271103133220658, -0.10025508442244403, -0.24517805370602808, -0.17896684260419188, -0.1496742153389923, -0.17906697342635794, -0.41813490515917884, 3.7493116539553224, 0.20897907173367283, -0.27004979246274086, -0.1138056437175969, -0.3245730089402946, 1.1376557943961192, 0.3004050744410409, -0.07461975418546415, -0.304664734850579, -0.35508548629655795, -0.24491924779815433, -0.1368012023144839, 0.08670323411405928, -0.3262494248727455, -0.07379963343642998, -0.4187156646245322, 1.105463422292741, -0.24960346694165764, -0.17911889016079433, -0.3542508942744157, -0.1721634333604419, -0.1565806518581803, -0.31382777086075625, -0.327355828626481, -0.37438565183004546, -0.24952895253532065, -0.1486436937048935, -0.18604478386885404, -0.34587878392357096, -0.2765749781630047, -0.23966035120950352, 8.032438432591713, -0.15147288167355866, -0.32290573463400774, 0.3042759875097576, 0.035266991216579655, -0.14863975474295352, -0.17295896607714634, -0.22026687523849273, -0.1941094019293422, -0.3306698754120697, -0.15715377347907247, 0.14961870387677673, -0.24367522409306305, -0.35590455695114664, -0.3747134916262204, -0.4194175153450516, -0.25226905689101314, -0.28119146071425105, -0.32499433040560805, -0.10274746909204094, 0.3083221377815752, -0.1573905662939503, -0.14296430704152235, -0.34953315720164857, -0.32738315337707763, -0.3273648797240598, -0.14017983902020736, -0.27557844328469566, -0.15302777160160613, -0.3180364524371358, -0.3668134703373799, -0.3270816496532078, 3.9439843690014813, -0.2486989144462553, -0.3973450938118697, -0.3670019364918378, 0.3005873954567301, -0.3175725018972549, -0.27399869541068717, -0.17982400569968476, -0.16044944982837553, -0.18487625240156338, -0.17874939610906604, -0.28172537767588013, -0.1553268813153345, 0.3045129156738086, 0.5670631779731167, 2.107544487507033, -0.1307016226319464, -0.2819770635112526, -0.14908158060543647, -0.35012340388588403, 0.3141794632683004, -0.3265561346708571, -0.21298910613807037, 2.2637604807420737, -0.35079645662286274, -0.2724098325380091, 1.030024047383132, -0.19289661654955792, -0.1430931296857631, -0.2495856443389699, -0.36194260903627334, -0.3551988756799728, -0.4003582094855419, -0.16279503182033508, -0.3578977549547642, -0.3539196978460672, -0.15741511500016903, -0.3202650128879231, -0.13667864999500925, -0.172203900937194, -0.08120594330087662, 3.0872402238435375, -0.3739634568594347, -0.41889140857372065, -0.27922515250003166, -0.3661023761699225, -0.1085328511129294, -0.34001467883188535, -0.3738248453939416, -0.24955703042349428, -0.18697341972180698, -0.39279631211334504, -0.19232475521764805, -0.376386240420305, -0.03603360263833798, -0.20722931828800026, -0.15472510071301074, -0.14866430632363145, 0.7317804834843454, -0.1645957239257076, 0.38027998738172913, -0.3996535297061615, -0.1258400524377929, -0.12623188264877075, -0.2654310030353228, -0.1392163873488105, -0.15630839877665087, -0.32708565071136814, -0.13924930155540524, -0.4001092134095602, -0.1410206952500821, -0.3553157360900793, 0.5785814576812883, -0.19310487378110802, -0.3744399048994703, -0.3265689808912811, -0.24672990404296244, -0.3048812369317353, -0.4164577211141198, -0.1479411653461797, -0.10392194579115867, -0.14681009889231653, -0.4191184378329671, 3.761540134633893, 0.10743572997395108, 0.5380072240224856, -0.41666121455218935, -0.10436017257057228, -0.32595480856288506, -0.07673254401592343, -0.3267793137177793, -0.2736231141835751, -0.3272972048136047, -0.41075486398295974, -0.14098522187873275, -0.24106837131523032, -0.09861505246691445, -0.4065066495358211, -0.14845460610509562, -0.3265763569629182, 0.5575783413583422, -0.3196478149159286, -0.19662662838505415, -0.41569062404736273, -0.32501694328548003, -0.3675933965723791, -0.1574919202901552, -0.15544946523715794, -0.5082173774252057, -0.31720336006588246, 3.7448517293753403, -0.08946029355104913, -0.32221466326726905, -0.34874924740788077, -0.12429842386213957, -0.273774267085425, -0.1300406529132909, 3.754707041405778, -0.15134105832782507, 3.7559496478529146, -0.25453986892059877, -0.36678305347131207, -0.3675293431982255, 34.03012509166735, -0.4334699242501843, 2.477326317108285, -0.3254615935508213, 0.3221409831909556, -0.14130857985828477, -0.28237319988369713], \"y\": [1.0171186045151162, 1.0170699407488413, 1.5177833300776953, -1.305365980927962, -1.9896652834630124, -1.0921471670066356, 1.1508654673094454, -2.2029968243893037, -1.9897832836898404, -1.917439943522174, 1.5654718768709348, -1.8619205808396435, 0.8038626336909588, 0.5891491397253046, -1.0921251287651306, 1.7651603559284061, -0.9583660703212802, -1.09214802221428, 1.0171134339162593, 1.0172713971387486, -1.8534576558838514, -1.3103818983743032, -1.3054139407678178, -1.0922256755724957, -1.0921696505148395, 1.017148195934817, -0.46234869628154857, -1.1817000824909942, -1.0921339154498875, 1.0171183305652167, -1.0921247797054245, 1.017118285988079, -1.092120917056516, -0.9583664129883, 0.8034688275428314, 0.9275672379561432, -1.8583063575666885, -1.3127805293886137, -1.0967729361946446, -1.0921214877130851, -1.0922323532345541, -1.0921280800956659, 1.4519254748184915, 0.4285300690565943, -1.0921206910136323, -1.6292609919305623, -1.0927094652574274, -1.0921385761039293, -1.092145626940021, 1.0170718609189007, 0.9365579454873666, -1.121827572751564, 1.1508675399638923, -1.3053652205586734, -1.0922290289138379, -1.0921213002320977, -1.0921150811039397, 1.9577463078257575, -1.0921292783494743, -2.2607037965590133, 0.8075174259546297, -1.0921188676846818, 0.802887803981549, 0.8023918300883595, 1.6893282891289834, -1.100071707445828, -1.305366748174581, -1.0922256481834232, 1.6893160424391034, 0.4801116312424671, 1.016933419116382, 1.0170806849719287, 1.024167760245675, -1.0921262502968285, -1.0922508576967989, -1.0921375274024612, 0.9361665253513104, 1.1508758002776984, -1.3057276396929383, 0.0417473736047365, -1.3053746082138715, 1.5708476069604729, 1.1508704608180056, -1.3053767131563532, -1.3054032797216444, -1.3053584489526737, -0.9583570929647828, 1.0164734090486094, 1.0170738435277293, -1.0921220857972527, 0.5247752619573353, -1.3104986272383214, -1.0922366852594643, 1.1508743457197619, 0.04180896057715924, -1.3053745084439852, 1.6893203556168324, 1.0165857854537363, -2.3427318668519024, -2.286163347861455, 1.7462434564634748, 1.3407593400063629, -1.0921579320456394, 0.8038455842831951, 0.9275817238476517, -1.0929697010595691, 0.8024036729879418, -1.0921760866656962, 1.6893060634372958, -1.0921160293291103, 0.8021549290417411, -1.0921689093588103, 1.0171189574826534, 1.6893084204176976, -1.0924924120482216, -2.116325581201251, 0.9361436109970163, -1.852711143772438, -1.371349057333538, -1.0921140573366752, 1.0171100268848514, -1.0966900318745796, -2.1376693409038596, -1.0921147824618143, -1.305367294922635, -1.1444077699597133, 1.1508761645449628, 2.1692069673395173, -0.9583683926917616, -2.2588986367646986, -1.3053853665082975, 1.8785592852431148, -0.9583655051829723, 0.8118241844420176, -1.0922262500840358, -1.0922384983316815, 0.8023643415948494, -1.9896982629710336, 1.6892895185228174, -2.0947923923226717, 0.8033167782577338, 1.7653414612207068, -0.958362662233022, -1.3053652426500415, 0.8851094217244245, -1.092183448115835, -2.342203742740254, 0.8038632061799786, 1.1384288117608268, -1.092145532649674, 0.8038700937368033, -1.3124232845025017, 1.4758335961460642, 1.017096895358538, 0.8022812219795364, -0.9583942821202762, -2.2066284225887562, -1.0922101178962706, -1.9685074473241004, 1.150660035752812, 0.7550151137965453, 0.8038531449967569, 0.8158824365205795, 1.4519175501550643, -1.0921243673938623, -0.9583683101536246, 1.15086552500754, 0.8037485182587478, 0.8035804230266873, 1.4733812288466728, 1.1508026565585, -1.0921147814681356, 1.3902046122008735, 1.0161773099405398, 1.0170944936536868, 1.0170858098575584, 1.4744784511043831, -0.9583712620529247, 0.9359388713097302, -0.9460687023375615, 1.1508511227933373, 1.0170778276055676, -2.2821438487836985, 0.803863035354087, -1.3053623877685387, 1.1508742534834189, 1.0171072888896082, -1.8531684283800793, 1.01711907099026, -1.0922001638592, 0.8024379175700745, -1.3053622122384823, 0.4759485963366523, -1.0921289577423798, 1.8439294422378183, 1.4518998491616517, 1.0171266653841546, 1.1500868378380138, -2.1323738133196617, 1.4519371330812039, 1.474590109803477, 1.764237611012836, 1.4517573039822775, 1.846583671239676, -1.9896997709907527, -1.917440369013686, 2.0900258269030654, 1.1508631591005702, -1.0977514227029102, -0.9584434483131303, 1.7109977341297369, 1.1508745368772324, 1.4519077117536652, 1.0171008075473484, 1.0170953205607707, -0.9584722238468634, 1.4519175501550643, 1.1508431557485626, 0.8038664462398434, 1.0171047150138037, 0.5722283308727975, 1.0171053536492598, 1.0167513910234833, 1.1508731544346669, -2.282151746995063, 1.0170387688088354, 0.7920461448785366, 1.017112050376416, 1.0171175171267848, 1.4322350056740252, 0.737845054135747, -1.0921159071428617, -2.282152005831076, -2.258869779403999, 1.016840164950244, 0.8038634995937424, 1.1508718444814061, 1.0171100790656291, -1.0150687094428361, 1.017106211628254, -2.2031034777081224, 0.8023665767851746, 0.4749822856649764, -1.0921157400571102, 1.4745861663336204, -0.9589184813096495, -1.9174377808520406, 1.0167906578155796, -1.092147411631057, -2.2588720235164192, 0.8023862367233681, -2.2709930757188816, 1.1508221252006112, 1.8212984336218168, 1.1508398780062725, -1.0943727848199092, 1.451888143217314, 1.1508241350843622, -0.6358458573333949, 1.4517932721909126, 1.1506208537270821, 1.0171078384662129, 1.0171026242842736, 1.0165503202809758, 0.5465472016551831, 1.150857193376124, -1.0921298937149644, 0.8013312949267565, -1.3064625037376545, 1.4519097958232905, 1.0170640579394479, 1.723973529697428, 0.5890421187366693, -1.0921522165516389, 1.3901815798604304, -2.2030440427615705, 1.8785623244428682, -2.1680107110182174, -2.1029125121147447, -2.146995978550708, -2.2828417542348944, 1.4734076379487355, -0.9584057742801845, 1.4733592453256852, 1.8198869196960603, -1.0921211760579437, 1.6893004599171666, -1.0921559670101813, -0.9583852254517594, -0.9583674954231547, 0.9908733045546126, -2.28216733422988, 1.689306926276329, -2.1512270809256346, -1.16658761059537, -1.0935363779015486, 1.4794465613541303, -0.958953177978231, 1.8198966648337571, -1.305365964477128, 1.150873418964444, 0.8023917304144416, 3.2987558846417784, -1.0980827096389179, 1.4518900572245084, -1.0577275153364576, -1.0921236139833392, -1.0921581283925446, -1.092163569593783, -1.0921633123532848, 1.0170958763217046, 1.0171172271526936, -2.282188419253315, 1.5668132910307007, 1.4912354109660102, 1.1508621999431634, -1.928113117913347, 0.4799295547356294, -0.95873058870092, 1.017109935930544, -1.6291345293114001, 0.5840406584696518, -1.9174375823940901, 1.0145609489749765, 0.8038401225543899, 1.4728650253583362, 1.7864541974398198, -2.206693414569589, 1.0171071849440454, 1.6468561748591712, -1.092147376381589, 1.4576736873318092, 1.0171141333075857, 0.5862018399876713, -0.9585141928251406, -1.6291442293506977, -1.9898472628563906, -1.6291368569686673, 1.1508031354671076, 2.0898559308066846, 1.4631889807923575, 1.689237165214656, -1.852986111871456, 1.0170259248645204, -2.325817962578202, -2.282146068699633, -1.9952499692658836, 1.2586782821093587, 1.4322337117168378, -0.9586506930785753, -2.2034629682616287, 0.9898793890592608, 1.0170353683680218, -1.0940033787231391, 1.1508582428297365, -1.2680354257638375, -0.9583676207748641, -1.6291302336513642, 1.4321793585438483, -1.629332297622894, -1.0921400204402343, 1.0167491565079265, 1.0171169331341392, 0.9361434555643208, -0.9583684179488032, -1.305364968535775, -1.2448305871331367, 1.390205080785978, -0.09517999202675057, 0.33853124751854113, -2.8377666365714953, -2.18265803350073, 1.017043205298106, -2.2822988245061535, -1.0953940464391398, -2.2066437748104066, -1.3109336255808937, 1.4741915832939272, 3.6737220256516485, 3.333459233137272, -1.092134322723741, -1.0990927121330694, -0.9585907773526589, 0.8644045167610026, 5.56417088096421, 1.150862111722021, 1.5206338214018027, 0.8023328026192287, 1.454264399257224, -1.9933262657328774, -2.2826892017569596, -1.0921255370859417, -2.3887453213445706, 1.473387214125164, 1.0171171026556363, 1.0171160467644922, -1.9174524126763157, 0.8021772078292139, -2.132527416423, 1.6260351845330165, 1.4518793498905198, 1.0171039282380878, 2.2233534488271918, -0.9584065768112918, 1.6468823914992636, 1.4518812998620156, -2.282146652966687, 0.5567452255821445, 1.0145449051046291, -0.6358277350887467, -2.2588782583843607, 1.1816068152616495, -2.027415198946997, 0.8023916651026202, -2.132367757628799, -2.28248106841353, -2.303480884903924, -2.376796881506466, 1.0137735480531278, 0.8023739611619408, -2.27268430736255, 1.8505410527670743, -2.282573773164929, 1.017076052281749, 1.5505878129988102, 0.4163963537036691, 1.4318721928981457, 0.589110272027696, 1.7613625724431523, -1.3377525647158979, -2.368318032849697, -0.9583681191528629, 0.7714531717328935, 1.432230769183255, 1.646960966459587, 0.7928027192578585, 0.7987433621499398, 1.4322000453810708, -1.0921268033888571, 1.0165514994383567, -2.203991921992227, -2.417287509556629, -0.5886811780956712, -2.384315485400589, 0.9361277035574151, 1.1508547794953767, 0.802275263760878, 1.4518069869304076, -1.3060470432603057, 1.017793047773107, 0.9360985750281143, -0.9583703872761478, 1.007142198134151, 1.8712700229035513, -1.3377964657984185, 3.704409427431478, -1.9207312909246341, 1.3059195684501117, -2.1324079366863553, -1.305365965216536, 1.4398972354659356, 0.940292592069843, -2.286283806036981, 1.6469402681712375, -2.349920913338635, -2.3498720718649246, -0.02297450884961045, -2.338313158986431, -1.0921743033590783, 1.017110221411354, -1.9175705776966103, 1.6469560427404795, -1.91744129037991, 1.4322338683072506, 0.9820142309490522, -1.3714043202567565, 0.9361433068180511, 1.0170757991250583, 1.5204314588352588, 1.8479634154531888, 1.1506407785979398, -1.3053821585898697, -0.41992169810477875, -1.3054335012376685, 1.1508644655430242, 2.089742912718232, 1.0009079931676377, -1.1478616974256701, 1.1509341293899058, -1.6304741268329324, 1.0170057741687084, -2.353834757185258, 1.017092712894821, 0.5891424800684476, 1.0171209204256992, 1.1506965229413202, -1.0924953760628657, 1.0113861822730337, 0.8080805779839274, 1.1504262400914658, -1.305376700764823, 1.0171245059275464, -1.1134211032382426, 1.016988463773621, -1.1817063082047996, 1.1508059920477298, 1.0170525764971932, 1.4519199122972437, -1.0921162064021273, -1.0922012727525117, 0.5793326491094973, 0.8038331026420744, 2.090008818947836, 0.7991127057532443, 1.017008679880202, 0.48007906926745086, -1.8527275908768548, 1.6893123636162002, -2.1425384964653267, 2.0903162572850986, -1.9896992077110942, 2.090340744965177, 0.5888254136965558, 3.7228720166179747, 1.4519214336079966, 1.3878867524425416, 1.468190891379855, 0.9171998513046468, 1.0169800936956552, -2.282700236370731, -1.917439964326276, 0.8023965987189265], \"z\": [-0.4698193815033948, -0.470020363043858, -0.49441836897719077, 0.17962740495924534, 0.2587260616156346, -0.0335589414907384, -0.3361769299164564, 0.33953052735132994, 0.2587163744301525, 0.39730257773504735, 0.021403105810191288, 0.3048187187269351, -0.25664443263970743, -0.015134760117574534, -0.033546615234606385, -0.4959005320376699, 0.1000974106822254, -0.03354949309632113, -0.46982315250987033, -0.4699271004305498, 0.30725554714198416, -0.04949916269147994, 0.17959540833026513, -0.0335770102960953, -0.033550166973728236, -0.4698402434639976, 0.07486090605655715, 0.11258291923537762, -0.03355243541835554, -0.4698194094866833, -0.03354686132203278, -0.4698195991965633, -0.03354610822262753, 0.10009853681002298, -0.5302246937631306, -0.323680549910995, 0.3042365940629581, 0.17557621063769846, -0.03623131254938507, -0.033549182179779334, -0.03359432442813517, -0.033549399553473164, -0.06422977087028492, -0.2967407789622212, -0.03354542541141725, 0.20623617724839116, -0.03375366784618145, -0.033558806254812446, -0.033554828622473915, -0.46983950003805997, -0.09494793972352503, -0.05266706519385131, -0.33617839113982356, 0.17962686889817261, -0.03358146640013551, -0.03354887208044423, -0.03354500816890528, -0.3934913663782585, -0.03355297751949757, 0.2727728584997286, -0.2319180978100168, -0.03354616429259317, -0.25701739506171944, -0.22831170381123012, -0.4764133765440705, -0.0345690860794134, 0.179627945868848, -0.03361550740953082, -0.47640474261599736, -0.22998980768365668, -0.46987458051808273, -0.4698359909844494, -0.4747890430138751, -0.03354582455368738, -0.033559256874387454, -0.0335512308464727, -0.09467198815340667, -0.33617448509179654, 0.179498923514001, 0.11284355621096255, 0.17962198279705804, -0.13442830101419442, -0.3361751430614396, 0.17962568344470312, 0.1796276065014322, 0.1796312720868867, 0.10009992710952191, -0.4700721558409204, -0.4698320523069694, -0.03354964507709051, -0.2262797493601258, 0.1705862531825146, -0.033576068669149875, -0.3361758916896444, 0.1128443646975771, 0.17962280229954455, -0.4764077834104192, -0.4698860171476673, 0.273253513787704, 0.31053499874799256, -0.7924373427740308, -0.11519288703446255, -0.0335606929466029, -0.2566527573770177, -0.3236888253199432, -0.033684922879430285, -0.2283128970797398, -0.03357499025712815, -0.4764030146935089, -0.03354490489492779, -0.2283586691651176, -0.033577225906067355, -0.46981963032727025, -0.47640379181972425, -0.033720666033581405, 0.3025871648741849, -0.09466467898393312, 0.3076138026107661, 0.19785096507068858, -0.03354662390981887, -0.46982217971949203, -0.03474180253754491, 0.30536175515455394, -0.033544895621287124, 0.1796283313267483, -0.03736718763007251, -0.3361747414582924, -0.14464014832739047, 0.10009329839869852, 0.33062620400484977, 0.17962658292843697, -0.5675460941734657, 0.10009656998556726, -0.2077852010661664, -0.033559020466156636, -0.033567970238610516, -0.22832939577105887, 0.25874183494707426, -0.47640815691018307, 0.3547302076300417, -0.2566921476285117, -0.4958850465896144, 0.10009677707118733, 0.17962688447260805, -0.36519374866838505, -0.033589089748990685, 0.262142295052533, -0.2566448362450135, -0.33914171020449496, -0.033560093713958516, -0.25664460583263904, 0.17504736553467978, -0.42358070965123135, -0.4698226520003182, -0.22832433474741506, 0.10008899451641638, 0.33989908117001205, -0.03355186740736566, 0.3636052473549705, -0.3361922035196377, -0.2386890049855144, -0.25664570402621284, -0.5222351308860116, -0.06423302944720266, -0.03354670972846804, 0.10009677839811693, -0.3362004110950249, -0.25665275652137126, -0.25666793747768235, -0.4218915929856352, -0.3361843942894213, -0.03354489498174244, -0.039600883895061896, -0.47004031513085837, -0.4698219907677127, -0.4698404885809389, -0.234900237651435, 0.10009885948994547, -0.09480206559855163, 0.7013439215002716, -0.33617920067998136, -0.4698304383495492, 0.3121195614243982, -0.2566442735389864, 0.17962985354836805, -0.3361747209789082, -0.46982069170383867, 0.30740546036372096, -0.46981971035024117, -0.03357288239783292, -0.22833703954288104, 0.179629330736916, -0.36404068667906286, -0.03354789626447969, -0.5259111372066223, -0.06424443300489124, -0.46982506440519756, -0.33628167579104196, 0.3086038220917506, -0.06425568085595106, -0.23489160815781016, -0.5717587894451419, -0.06424433462674152, -0.5222566047008205, 0.2587387853373112, 0.3973028777069716, -0.19256769323505057, -0.3361788408158776, -0.03399352098887901, 0.09993967090741439, -0.4920662885545742, -0.3361752981757325, -0.06423936157312536, -0.4698238798304774, -0.4698215417663868, 0.10008025610826109, -0.06423302944720266, -0.33617800664190334, -0.2566462359430949, -0.4698241844022619, 0.017603972190886073, -0.4698224232728161, -0.46984826529570767, -0.3361748306957087, 0.31212026466124465, -0.46982678463547933, -0.2353913195523045, -0.4698205103677058, -0.46982008136097847, -0.1198507607520102, -0.2384309722297161, -0.03354502919837112, 0.3121186780464393, 0.33063053358509514, -0.4698442181306441, -0.256644600828387, -0.33617583283670743, -0.4698222165069899, 0.09585430989321111, -0.4698203450221096, 0.33952389742511563, -0.22831106926990183, -0.38774459057427674, -0.033545432576247154, -0.23489414622743052, 0.10005343281884414, 0.39730282214497925, -0.47003045235862556, -0.033565845408055454, 0.33062725067633914, -0.22831583039494302, 0.3034322364020887, -0.3361808710299128, -0.47560323809172067, -0.3361978095109807, -0.03372182226339388, -0.0642522304255357, -0.3361822879998787, 0.01439718882754767, -0.06431347733565412, -0.3362158838928577, -0.46982117297139053, -0.46982076443205817, -0.46986101416696674, -0.018265345417788154, -0.3361790577105445, -0.03354967793015248, -0.22844141674240387, 0.17930405830793542, -0.06423198537199327, -0.46982736482592863, -0.5065136093512574, -0.015142273759680608, -0.03355007427335752, -0.03961405726812897, 0.3395173776198159, -0.6121533350762397, 0.4354135951621931, 0.360304401935268, 0.4501413245679359, 0.31173146094979903, -0.42187482953899696, 0.1000900201223703, -0.42188936279063777, -0.5551090170768069, -0.03354863977106662, -0.4764070251314494, -0.03354875701733164, 0.10009322412310556, 0.10009890188138093, -0.47343010044698525, 0.3121166586475459, -0.47640667388219715, 0.39942873136380697, -0.06949592871173048, 0.1391705200923899, 0.024333795093862447, 0.1000336666423144, -0.5551158874081995, 0.17962739336139416, -0.33617701063647304, -0.22831217572034856, 3.832070299962782, -0.03398110018753135, -0.06423204547159407, -0.05778767784021357, -0.0335472408836068, -0.033551213703193465, -0.03355445402888656, -0.03355463538368361, -0.46982469867298965, -0.46982026799215826, 0.31211609317476285, 0.02200942594182522, -0.06493986534477511, -0.3361768377881571, 0.3955487178097724, -0.2300366856449581, 0.09956714946166573, -0.4698202285623995, 0.20628368352662713, -0.024170171190037136, 0.3973009131374925, -0.4790730721463449, -0.25666305960852437, -0.4220185927405188, -0.3755727129454682, 0.3398890384439257, -0.4698206184221174, -0.36137296323426343, -0.03356587025896367, -0.10061495969149546, -0.46982276974345105, -0.01703184505926732, 0.10005588689758818, 0.20628256113861623, 0.2587305206509978, 0.20628320161389538, -0.33618694328850024, -0.19261376892861679, -0.4279344520535213, -0.47644201155555904, 0.3075157548005153, -0.4698469197007517, 0.3053210192458709, 0.31212002078322804, 0.25824053434065214, -0.18036601135282407, -0.11985205987900883, 0.10006366498465477, 0.33941711492824556, -0.47272938907257633, -0.46982704096311834, -0.034424527524826075, -0.33618422031244943, 0.062243295614885154, 0.10009859220820637, 0.20628330872385786, -0.11985796820113936, 0.2062139149575318, -0.03355513435467353, -0.46995696653600527, -0.46981997225407407, -0.09466501167734474, 0.1000977389410418, 0.1796270600779794, 0.15075725907765516, -0.03959745492231958, 0.06398045122632984, -0.3728212046451939, 0.261564970229813, 0.22437453157826592, -0.46986883244238037, 0.3120846382598632, -0.035655473508495704, 0.3398789453482175, 0.17044357744162184, -0.2349633597371159, 12.310830037209216, 12.887430332244337, -0.033548536683596315, -0.036766095985561055, 0.10004353802112888, -0.28551709273421805, -9.412882602480417, -0.33617589104494583, -0.528018636392707, -0.2283177753297466, -0.036053669379188476, 0.25843227914755984, 0.31206618491751315, -0.03354632736804405, 0.37944440725691225, -0.42187812166827393, -0.4698196494932814, -0.4698197896362364, 0.39728969709372475, -0.22837437573158467, 0.3085888949985643, -0.09080545968306074, -0.06423617282969299, -0.46982230290379856, -0.28492402818034296, 0.10009058590756806, -0.3613914459905923, -0.06423400937257852, 0.31211782327775695, -0.0313461355609338, -0.47027022479882596, 0.014396465468179033, 0.3306293110595351, -0.3996294539974143, 0.3068096953381415, -0.2283159306229812, 0.3086043736062581, 0.31209635992652074, 0.34633428912808145, 0.2974761183869817, -0.47197230430831355, -0.22831141025286614, 0.40921396090833007, -0.5217710841015555, 0.3119848076497814, -0.4698265331028969, -0.2543794405912786, -0.3567088453322524, -0.11987582114083173, -0.015146173260873416, -0.1319774272756732, 0.1634177097375062, 0.2690469113611798, 0.1000984128368393, -0.2728643011233771, -0.11985042766362965, -0.36136066484200624, -0.2290097940666994, -0.26568063974927075, -0.11986370696894773, -0.03354592345193594, -0.46986184547404736, 0.3394580932943343, 0.4381812472156362, -0.09175268068697226, 0.32180288786933947, -0.09466894380017354, -0.33618177865841486, -0.2283373595906297, -0.06423911425411509, 0.1791880677184221, -0.29653245312458115, -0.09466831047164247, 0.10009824277148156, -0.4707469304377307, 0.20152791492255384, 0.1634141961811461, 15.01980795705734, 0.39627098910635555, -0.28650820764788715, 0.3086001927698746, 0.1796273938826773, -0.6661261094591033, -0.09758086913450278, 0.31146908720905386, -0.36136767715253126, 0.341438847047353, 0.3414397475318025, 0.20253453101315094, 0.2723510242711287, -0.03355573218630168, -0.4698227591344726, 0.3972877331938944, -0.3613633345839677, 0.39729915495412677, -0.11984923800136188, -0.47815283062611685, 0.19784569812333921, -0.09466433185538828, -0.46982635462718797, -0.5280705709784531, -0.5221209880224785, -0.3361945490570206, 0.17961979246110735, -0.04012784227941222, 0.17960999262139743, -0.336179761859056, -0.1927552278734598, -0.4738704613548874, -0.03763003448864671, -0.3362156067293918, 0.20547094800545748, -0.4698282907048349, 0.3411486872299531, -0.4698251239174003, -0.015133824378813247, -0.4698210142039943, -0.33626923076123555, -0.033718576400423195, -0.47042189123416855, -0.25969238936518035, -0.3362998178989457, 0.1796256747086624, -0.4698301760903815, -0.04063732565113207, -0.46990454158184936, 0.11257802062374168, -0.33621726269164165, -0.46984359544674026, -0.06422982974998204, -0.03354582913128562, -0.03356413970199895, 0.03377619819689616, -0.25666032193168353, -0.19257114609719359, -0.2304194059062769, -0.46987456659526594, -0.22999179487135563, 0.30762415946899413, -0.4764022021151668, 0.38867099868214855, -0.19271716273072084, 0.2587391478715558, -0.19273442656858736, -0.015343278148190753, 19.31018001705656, -0.06423074046529355, -0.5305681063332187, -0.05015967294162313, -0.07612491446573057, -0.46983229962730677, 0.31189695643204346, 0.39730259240196053, -0.22830835198693145]}],                        {\"coloraxis\": {\"colorbar\": {\"title\": {\"text\": \"class\"}}, \"colorscale\": [[0.0, \"#0d0887\"], [0.1111111111111111, \"#46039f\"], [0.2222222222222222, \"#7201a8\"], [0.3333333333333333, \"#9c179e\"], [0.4444444444444444, \"#bd3786\"], [0.5555555555555556, \"#d8576b\"], [0.6666666666666666, \"#ed7953\"], [0.7777777777777778, \"#fb9f3a\"], [0.8888888888888888, \"#fdca26\"], [1.0, \"#f0f921\"]]}, \"legend\": {\"tracegroupgap\": 0}, \"margin\": {\"t\": 60}, \"scene\": {\"domain\": {\"x\": [0.0, 1.0], \"y\": [0.0, 1.0]}, \"xaxis\": {\"title\": {\"text\": \"principal component 1\"}}, \"yaxis\": {\"title\": {\"text\": \"principal component 2\"}}, \"zaxis\": {\"title\": {\"text\": \"principal component 3\"}}}, \"template\": {\"data\": {\"bar\": [{\"error_x\": {\"color\": \"#2a3f5f\"}, \"error_y\": {\"color\": \"#2a3f5f\"}, \"marker\": {\"line\": {\"color\": \"#E5ECF6\", \"width\": 0.5}}, \"type\": \"bar\"}], \"barpolar\": [{\"marker\": {\"line\": {\"color\": \"#E5ECF6\", \"width\": 0.5}}, \"type\": \"barpolar\"}], \"carpet\": [{\"aaxis\": {\"endlinecolor\": \"#2a3f5f\", \"gridcolor\": \"white\", \"linecolor\": \"white\", \"minorgridcolor\": \"white\", \"startlinecolor\": \"#2a3f5f\"}, \"baxis\": {\"endlinecolor\": \"#2a3f5f\", \"gridcolor\": \"white\", \"linecolor\": \"white\", \"minorgridcolor\": \"white\", \"startlinecolor\": \"#2a3f5f\"}, \"type\": \"carpet\"}], \"choropleth\": [{\"colorbar\": {\"outlinewidth\": 0, \"ticks\": \"\"}, \"type\": \"choropleth\"}], \"contour\": [{\"colorbar\": {\"outlinewidth\": 0, \"ticks\": \"\"}, \"colorscale\": [[0.0, \"#0d0887\"], [0.1111111111111111, \"#46039f\"], [0.2222222222222222, \"#7201a8\"], [0.3333333333333333, \"#9c179e\"], [0.4444444444444444, \"#bd3786\"], [0.5555555555555556, \"#d8576b\"], [0.6666666666666666, \"#ed7953\"], [0.7777777777777778, \"#fb9f3a\"], [0.8888888888888888, \"#fdca26\"], [1.0, \"#f0f921\"]], \"type\": \"contour\"}], \"contourcarpet\": [{\"colorbar\": {\"outlinewidth\": 0, \"ticks\": \"\"}, \"type\": \"contourcarpet\"}], \"heatmap\": [{\"colorbar\": {\"outlinewidth\": 0, \"ticks\": \"\"}, \"colorscale\": [[0.0, \"#0d0887\"], [0.1111111111111111, \"#46039f\"], [0.2222222222222222, \"#7201a8\"], [0.3333333333333333, \"#9c179e\"], [0.4444444444444444, \"#bd3786\"], [0.5555555555555556, \"#d8576b\"], [0.6666666666666666, \"#ed7953\"], [0.7777777777777778, \"#fb9f3a\"], [0.8888888888888888, \"#fdca26\"], [1.0, \"#f0f921\"]], \"type\": \"heatmap\"}], \"heatmapgl\": [{\"colorbar\": {\"outlinewidth\": 0, \"ticks\": \"\"}, \"colorscale\": [[0.0, \"#0d0887\"], [0.1111111111111111, \"#46039f\"], [0.2222222222222222, \"#7201a8\"], [0.3333333333333333, \"#9c179e\"], [0.4444444444444444, \"#bd3786\"], [0.5555555555555556, \"#d8576b\"], [0.6666666666666666, \"#ed7953\"], [0.7777777777777778, \"#fb9f3a\"], [0.8888888888888888, \"#fdca26\"], [1.0, \"#f0f921\"]], \"type\": \"heatmapgl\"}], \"histogram\": [{\"marker\": {\"colorbar\": {\"outlinewidth\": 0, \"ticks\": \"\"}}, \"type\": \"histogram\"}], \"histogram2d\": [{\"colorbar\": {\"outlinewidth\": 0, \"ticks\": \"\"}, \"colorscale\": [[0.0, \"#0d0887\"], [0.1111111111111111, \"#46039f\"], [0.2222222222222222, \"#7201a8\"], [0.3333333333333333, \"#9c179e\"], [0.4444444444444444, \"#bd3786\"], [0.5555555555555556, \"#d8576b\"], [0.6666666666666666, \"#ed7953\"], [0.7777777777777778, \"#fb9f3a\"], [0.8888888888888888, \"#fdca26\"], [1.0, \"#f0f921\"]], \"type\": \"histogram2d\"}], \"histogram2dcontour\": [{\"colorbar\": {\"outlinewidth\": 0, \"ticks\": \"\"}, \"colorscale\": [[0.0, \"#0d0887\"], [0.1111111111111111, \"#46039f\"], [0.2222222222222222, \"#7201a8\"], [0.3333333333333333, \"#9c179e\"], [0.4444444444444444, \"#bd3786\"], [0.5555555555555556, \"#d8576b\"], [0.6666666666666666, \"#ed7953\"], [0.7777777777777778, \"#fb9f3a\"], [0.8888888888888888, \"#fdca26\"], [1.0, \"#f0f921\"]], \"type\": \"histogram2dcontour\"}], \"mesh3d\": [{\"colorbar\": {\"outlinewidth\": 0, \"ticks\": \"\"}, \"type\": \"mesh3d\"}], \"parcoords\": [{\"line\": {\"colorbar\": {\"outlinewidth\": 0, \"ticks\": \"\"}}, \"type\": \"parcoords\"}], \"pie\": [{\"automargin\": true, \"type\": \"pie\"}], \"scatter\": [{\"marker\": {\"colorbar\": {\"outlinewidth\": 0, \"ticks\": \"\"}}, \"type\": \"scatter\"}], \"scatter3d\": [{\"line\": {\"colorbar\": {\"outlinewidth\": 0, \"ticks\": \"\"}}, \"marker\": {\"colorbar\": {\"outlinewidth\": 0, \"ticks\": \"\"}}, \"type\": \"scatter3d\"}], \"scattercarpet\": [{\"marker\": {\"colorbar\": {\"outlinewidth\": 0, \"ticks\": \"\"}}, \"type\": \"scattercarpet\"}], \"scattergeo\": [{\"marker\": {\"colorbar\": {\"outlinewidth\": 0, \"ticks\": \"\"}}, \"type\": \"scattergeo\"}], \"scattergl\": [{\"marker\": {\"colorbar\": {\"outlinewidth\": 0, \"ticks\": \"\"}}, \"type\": \"scattergl\"}], \"scattermapbox\": [{\"marker\": {\"colorbar\": {\"outlinewidth\": 0, \"ticks\": \"\"}}, \"type\": \"scattermapbox\"}], \"scatterpolar\": [{\"marker\": {\"colorbar\": {\"outlinewidth\": 0, \"ticks\": \"\"}}, \"type\": \"scatterpolar\"}], \"scatterpolargl\": [{\"marker\": {\"colorbar\": {\"outlinewidth\": 0, \"ticks\": \"\"}}, \"type\": \"scatterpolargl\"}], \"scatterternary\": [{\"marker\": {\"colorbar\": {\"outlinewidth\": 0, \"ticks\": \"\"}}, \"type\": \"scatterternary\"}], \"surface\": [{\"colorbar\": {\"outlinewidth\": 0, \"ticks\": \"\"}, \"colorscale\": [[0.0, \"#0d0887\"], [0.1111111111111111, \"#46039f\"], [0.2222222222222222, \"#7201a8\"], [0.3333333333333333, \"#9c179e\"], [0.4444444444444444, \"#bd3786\"], [0.5555555555555556, \"#d8576b\"], [0.6666666666666666, \"#ed7953\"], [0.7777777777777778, \"#fb9f3a\"], [0.8888888888888888, \"#fdca26\"], [1.0, \"#f0f921\"]], \"type\": \"surface\"}], \"table\": [{\"cells\": {\"fill\": {\"color\": \"#EBF0F8\"}, \"line\": {\"color\": \"white\"}}, \"header\": {\"fill\": {\"color\": \"#C8D4E3\"}, \"line\": {\"color\": \"white\"}}, \"type\": \"table\"}]}, \"layout\": {\"annotationdefaults\": {\"arrowcolor\": \"#2a3f5f\", \"arrowhead\": 0, \"arrowwidth\": 1}, \"autotypenumbers\": \"strict\", \"coloraxis\": {\"colorbar\": {\"outlinewidth\": 0, \"ticks\": \"\"}}, \"colorscale\": {\"diverging\": [[0, \"#8e0152\"], [0.1, \"#c51b7d\"], [0.2, \"#de77ae\"], [0.3, \"#f1b6da\"], [0.4, \"#fde0ef\"], [0.5, \"#f7f7f7\"], [0.6, \"#e6f5d0\"], [0.7, \"#b8e186\"], [0.8, \"#7fbc41\"], [0.9, \"#4d9221\"], [1, \"#276419\"]], \"sequential\": [[0.0, \"#0d0887\"], [0.1111111111111111, \"#46039f\"], [0.2222222222222222, \"#7201a8\"], [0.3333333333333333, \"#9c179e\"], [0.4444444444444444, \"#bd3786\"], [0.5555555555555556, \"#d8576b\"], [0.6666666666666666, \"#ed7953\"], [0.7777777777777778, \"#fb9f3a\"], [0.8888888888888888, \"#fdca26\"], [1.0, \"#f0f921\"]], \"sequentialminus\": [[0.0, \"#0d0887\"], [0.1111111111111111, \"#46039f\"], [0.2222222222222222, \"#7201a8\"], [0.3333333333333333, \"#9c179e\"], [0.4444444444444444, \"#bd3786\"], [0.5555555555555556, \"#d8576b\"], [0.6666666666666666, \"#ed7953\"], [0.7777777777777778, \"#fb9f3a\"], [0.8888888888888888, \"#fdca26\"], [1.0, \"#f0f921\"]]}, \"colorway\": [\"#636efa\", \"#EF553B\", \"#00cc96\", \"#ab63fa\", \"#FFA15A\", \"#19d3f3\", \"#FF6692\", \"#B6E880\", \"#FF97FF\", \"#FECB52\"], \"font\": {\"color\": \"#2a3f5f\"}, \"geo\": {\"bgcolor\": \"white\", \"lakecolor\": \"white\", \"landcolor\": \"#E5ECF6\", \"showlakes\": true, \"showland\": true, \"subunitcolor\": \"white\"}, \"hoverlabel\": {\"align\": \"left\"}, \"hovermode\": \"closest\", \"mapbox\": {\"style\": \"light\"}, \"paper_bgcolor\": \"white\", \"plot_bgcolor\": \"#E5ECF6\", \"polar\": {\"angularaxis\": {\"gridcolor\": \"white\", \"linecolor\": \"white\", \"ticks\": \"\"}, \"bgcolor\": \"#E5ECF6\", \"radialaxis\": {\"gridcolor\": \"white\", \"linecolor\": \"white\", \"ticks\": \"\"}}, \"scene\": {\"xaxis\": {\"backgroundcolor\": \"#E5ECF6\", \"gridcolor\": \"white\", \"gridwidth\": 2, \"linecolor\": \"white\", \"showbackground\": true, \"ticks\": \"\", \"zerolinecolor\": \"white\"}, \"yaxis\": {\"backgroundcolor\": \"#E5ECF6\", \"gridcolor\": \"white\", \"gridwidth\": 2, \"linecolor\": \"white\", \"showbackground\": true, \"ticks\": \"\", \"zerolinecolor\": \"white\"}, \"zaxis\": {\"backgroundcolor\": \"#E5ECF6\", \"gridcolor\": \"white\", \"gridwidth\": 2, \"linecolor\": \"white\", \"showbackground\": true, \"ticks\": \"\", \"zerolinecolor\": \"white\"}}, \"shapedefaults\": {\"line\": {\"color\": \"#2a3f5f\"}}, \"ternary\": {\"aaxis\": {\"gridcolor\": \"white\", \"linecolor\": \"white\", \"ticks\": \"\"}, \"baxis\": {\"gridcolor\": \"white\", \"linecolor\": \"white\", \"ticks\": \"\"}, \"bgcolor\": \"#E5ECF6\", \"caxis\": {\"gridcolor\": \"white\", \"linecolor\": \"white\", \"ticks\": \"\"}}, \"title\": {\"x\": 0.05}, \"xaxis\": {\"automargin\": true, \"gridcolor\": \"white\", \"linecolor\": \"white\", \"ticks\": \"\", \"title\": {\"standoff\": 15}, \"zerolinecolor\": \"white\", \"zerolinewidth\": 2}, \"yaxis\": {\"automargin\": true, \"gridcolor\": \"white\", \"linecolor\": \"white\", \"ticks\": \"\", \"title\": {\"standoff\": 15}, \"zerolinecolor\": \"white\", \"zerolinewidth\": 2}}}},                        {\"responsive\": true}                    ).then(function(){\n",
       "                            \n",
       "var gd = document.getElementById('c7c046fd-8667-468a-a0d6-164c8be55dbc');\n",
       "var x = new MutationObserver(function (mutations, observer) {{\n",
       "        var display = window.getComputedStyle(gd).display;\n",
       "        if (!display || display === 'none') {{\n",
       "            console.log([gd, 'removed!']);\n",
       "            Plotly.purge(gd);\n",
       "            observer.disconnect();\n",
       "        }}\n",
       "}});\n",
       "\n",
       "// Listen for the removal of the full notebook cells\n",
       "var notebookContainer = gd.closest('#notebook-container');\n",
       "if (notebookContainer) {{\n",
       "    x.observe(notebookContainer, {childList: true});\n",
       "}}\n",
       "\n",
       "// Listen for the clearing of the current output cell\n",
       "var outputEl = gd.closest('.output');\n",
       "if (outputEl) {{\n",
       "    x.observe(outputEl, {childList: true});\n",
       "}}\n",
       "\n",
       "                        })                };                });            </script>        </div>"
      ]
     },
     "metadata": {},
     "output_type": "display_data"
    }
   ],
   "source": [
    "# Create a 3D-Scatter with the PCA data and the clusters\n",
    "# Plotting the clusters\n",
    "# df_crypto_pca_k.hvplot.scatter(\n",
    "#     x=\"principal component 1\",\n",
    "#     y=\"principal component 2\",\n",
    "#     z=\"principal component 3\",\n",
    "#     hover_cols=[\"class\"], --- CoinName.\n",
    "#     by=\"class\",\n",
    "# )\n",
    "\n",
    "#df_crypto_pca_k = px.data.iris()\n",
    "fig = px.scatter_3d(concat_df, x='principal component 1', y='principal component 2', z='principal component 3',\n",
    "              color='class', hover_name=\"CoinName\", hover_data=[\"Algorithm\"],)\n",
    "fig.show()\n"
   ]
  },
  {
   "cell_type": "markdown",
   "metadata": {},
   "source": [
    "## Image stored as \"3d plot.png\" on the main github page"
   ]
  },
  {
   "cell_type": "markdown",
   "metadata": {},
   "source": [
    "#### Table of Tradable Cryptocurrencies"
   ]
  },
  {
   "cell_type": "code",
   "execution_count": 139,
   "metadata": {},
   "outputs": [
    {
     "data": {},
     "metadata": {},
     "output_type": "display_data"
    },
    {
     "data": {
      "application/vnd.holoviews_exec.v0+json": "",
      "text/html": [
       "<div id='1243'>\n",
       "\n",
       "\n",
       "\n",
       "\n",
       "\n",
       "  <div class=\"bk-root\" id=\"4a621980-5cb9-4931-82ca-2847da1f6307\" data-root-id=\"1243\"></div>\n",
       "</div>\n",
       "<script type=\"application/javascript\">(function(root) {\n",
       "  function embed_document(root) {\n",
       "    var docs_json = {\"6367e77b-215d-46a2-89b5-2d7fbe379be2\":{\"roots\":{\"references\":[{\"attributes\":{},\"id\":\"1248\",\"type\":\"StringEditor\"},{\"attributes\":{\"data\":{\"Coin\":[\"42\",\"404\",\"1337\",\"BTC\",\"ETH\",\"LTC\",\"DASH\",\"XMR\",\"ETC\",\"ZEC\",\"BTS\",\"DGB\",\"BTCD\",\"XPY\",\"PRC\",\"KOBO\",\"SPR\",\"ARG\",\"AUR\",\"BLU\",\"XMY\",\"MOON\",\"ZET\",\"SXC\",\"QTL\",\"ENRG\",\"QRK\",\"RIC\",\"DGC\",\"BTB\",\"CAT\",\"CBX\",\"CCN\",\"CRYPT\",\"CSC\",\"DMD\",\"XVG\",\"DVC\",\"EAC\",\"EFL\",\"EMC2\",\"EMD\",\"EXCL\",\"FLT\",\"FRK\",\"FTC\",\"GDC\",\"GLC\",\"GLD\",\"HBN\",\"HYP\",\"IFC\",\"IOC\",\"IXC\",\"KGC\",\"LKY\",\"LTB\",\"MAX\",\"MEC\",\"MED\",\"MINT\",\"MINC\",\"MZC\",\"NAUT\",\"NAV\",\"NOBL\",\"NMC\",\"NYAN\",\"OPAL\",\"ORB\",\"POT\",\"PXC\",\"RDD\",\"RPC\",\"SBC\",\"SMC\",\"SUPER\",\"SYNC\",\"SYS\",\"TES\",\"TGC\",\"TIT\",\"TOR\",\"TRC\",\"UNB\",\"UNO\",\"URO\",\"USDE\",\"UTC\",\"VIA\",\"VRC\",\"VTC\",\"WDC\",\"XC\",\"XCR\",\"XJO\",\"XST\",\"ZCC\",\"BCN\",\"XDN\",\"BURST\",\"SJCX\",\"MONA\",\"NTRN\",\"FAIR\",\"NLG\",\"RBY\",\"PTC\",\"KORE\",\"WBB\",\"NOTE\",\"FLO\",\"8BIT\",\"STV\",\"ABY\",\"FLDC\",\"U\",\"UIS\",\"CYP\",\"OMC\",\"VTR\",\"GRE\",\"XCN\",\"MSC\",\"SOON\",\"1CR\",\"ISL\",\"NXS\",\"MARS\",\"CTO\",\"ACP\",\"DRZ\",\"BSC\",\"SQL\",\"SONG\",\"ZNY\",\"DIGS\",\"EXP\",\"CON\",\"SC\",\"EMC\",\"EGC\",\"MND\",\"I0C\",\"DCR\",\"RVR\",\"HODL\",\"EDRC\",\"HTC\",\"GAME\",\"DBIC\",\"DIEM\",\"PWR\",\"BLRY\",\"GPU\",\"ADZ\",\"SOIL\",\"YOC\",\"SIB\",\"ERC\",\"ZEIT\",\"SWING\",\"SAFEX\",\"NEBU\",\"FRN\",\"BOLI\",\"XRA\",\"REV\",\"CKC\",\"VIP\",\"BSD\",\"OMNI\",\"LIR\",\"PUT\",\"IBANK\",\"FRWC\",\"MUDRA\",\"PIZZA\",\"LC\",\"KMD\",\"GB\",\"CTC\",\"KRB\",\"BXT\",\"ZYD\",\"MST\",\"ZNE\",\"COVAL\",\"ROOT\",\"DOPE\",\"BTCR\",\"DLC\",\"SCN\",\"SH\",\"BUZZ\",\"XPO\",\"PSB\",\"HALLO\",\"XZC\",\"CFC\",\"ROYAL\",\"GNJ\",\"TEAM\",\"LANA\",\"ELE\",\"ZCL\",\"ARK\",\"INSANE\",\"KLC\",\"ATX\",\"EMB\",\"XEN\",\"FRE\",\"PLNC\",\"ARCO\",\"KURT\",\"XCRE\",\"ENT\",\"EUC\",\"BCF\",\"XSN\",\"BCCOIN\",\"MONEY\",\"XNG\",\"XCI\",\"RC\",\"PND\",\"UNITS\",\"GAKH\",\"ASAFE2\",\"LTCR\",\"OS76\",\"BIC\",\"HXX\",\"KED\",\"IOP\",\"KUSH\",\"PRX\",\"PAC\",\"IMPCH\",\"CTL\",\"ZBC\",\"FRST\",\"BVC\",\"FIND\",\"VLTC\",\"ZER\",\"CHAT\",\"CDN\",\"ZOI\",\"RNS\",\"DBIX\",\"XVP\",\"TAJ\",\"IMX\",\"EB3\",\"ATMOS\",\"HPC\",\"CXT\",\"MCRN\",\"RAIN\",\"IMS\",\"ARGUS\",\"LMC\",\"PROC\",\"XGR\",\"BENJI\",\"GRW\",\"ILC\",\"PHR\",\"DEA\",\"HTML5\",\"USC\",\"EQT\",\"QTUM\",\"QRL\",\"ESP\",\"DYN\",\"NANO\",\"CHAN\",\"DCY\",\"DNR\",\"DP\",\"VUC\",\"BTPL\",\"UNIFY\",\"BRIT\",\"SOCC\",\"ARC\",\"DAS\",\"LINDA\",\"XLC\",\"ONION\",\"BTX\",\"GCN\",\"SMART\",\"SIGT\",\"ONX\",\"CRM\",\"BCH\",\"XMCC\",\"DFT\",\"VET\",\"SOJ\",\"STCN\",\"NYC\",\"FRAZ\",\"KRONE\",\"ACC\",\"LINX\",\"XCXT\",\"ETHD\",\"SUMO\",\"ODN\",\"ADA\",\"REC\",\"BTCZ\",\"TZC\",\"ELM\",\"TER\",\"VIVO\",\"RUP\",\"BTG\",\"WOMEN\",\"MAY\",\"NAMO\",\"LUX\",\"PIRL\",\"XIOS\",\"BTDX\",\"EBST\",\"KEK\",\"BLHC\",\"XIN\",\"PURA\",\"INN\",\"ELLA\",\"GBX\",\"MAG\",\"TAU\",\"ECA\",\"BCD\",\"XSH\",\"CNBC\",\"XUN\",\"COAL\",\"DAXX\",\"BWK\",\"KLKS\",\"AC3\",\"LTHN\",\"GER\",\"LTCU\",\"POP\",\"PNX\",\"PHO\",\"SUCR\",\"SPK\",\"WAGE\",\"GUN\",\"IRL\",\"TROLL\",\"LCP\",\"MONK\",\"PCOIN\",\"UBTC\",\"ITZ\",\"TPAY\",\"MCT\",\"MBC\",\"TRTL\",\"MUN\",\"USX\",\"NBR\",\"SSS\",\"TRF\",\"KREDS\",\"TOKC\",\"BBP\",\"LCC\",\"FLIP\",\"LOT\",\"CIF\",\"SPD\",\"POA\",\"PUSHI\",\"ELP\",\"VLX\",\"ONT\",\"CLO\",\"TUBE\",\"PSD\",\"ADK\",\"BSX\",\"BRIA\",\"IC\",\"BTL\",\"MEDIC\",\"ALPS\",\"BITG\",\"DEV\",\"ABJ\",\"SEM\",\"FTO\",\"CARE\",\"NZL\",\"XMC\",\"PROTON\",\"DEAL\",\"JUMP\",\"INFX\",\"XBI\",\"KEC\",\"HWC\",\"GIN\",\"PLTC\",\"LOKI\",\"NCP\",\"SIC\",\"XT3\",\"MGD\",\"VIG\",\"PLURA\",\"EMAR\",\"DKD\",\"LYNX\",\"POSQ\",\"BWS\",\"MUSE\",\"XMN\",\"PLUS1\",\"AXE\",\"TRVC\",\"DTEM\",\"GIC\",\"PNY\",\"ABS\",\"VITAE\",\"HEX\",\"TPC\",\"WEBC\",\"RYO\",\"URALS\",\"QWC\",\"ARE\",\"EUNO\",\"MMO\",\"KETAN\",\"PPAI\",\"XDNA\",\"PAXEX\",\"AZART\",\"TSC\",\"KCASH\",\"XCG\",\"AAC\",\"CRYP\",\"BTXC\",\"ACM\",\"BSV\",\"BITM\",\"JMC\",\"FRED\",\"HERB\",\"UMO\",\"LIT\",\"PIRATE\",\"EXO\",\"BLTG\",\"OWC\",\"BEAM\",\"GALI\",\"BTH\",\"CSPN\",\"CREDIT\",\"SLC\",\"DASHP\",\"NSD\",\"BEET\",\"TTN\",\"AWR\",\"BLAST\",\"XRC\",\"GLT\",\"INSN\",\"ALX\",\"LDOGE\",\"SLR\",\"TRK\",\"UFO\",\"OC\",\"BLC\",\"BITS\",\"NEOS\",\"HYPER\",\"PINK\",\"CESC\",\"ADC\",\"NKA\",\"PIGGY\",\"CRW\",\"GEN\",\"SMLY\",\"MI\",\"GRS\",\"CPC\",\"CLUB\",\"RADS\",\"BTA\",\"PAK\",\"CRB\",\"OK\",\"LSK\",\"XHI\",\"XWC\",\"FSC\",\"J\",\"TRI\",\"VOLLAR\",\"EOS\",\"RCC\",\"OXY\",\"TCH\",\"WAVES\",\"PART\",\"BTT\",\"NXT\",\"ZEPH\",\"GAP\",\"BDX\",\"ZEN\",\"XBC\"],\"CoinName\":[\"42 Coin\",\"404Coin\",\"EliteCoin\",\"Bitcoin\",\"Ethereum\",\"Litecoin\",\"Dash\",\"Monero\",\"Ethereum Classic\",\"ZCash\",\"Bitshares\",\"DigiByte\",\"BitcoinDark\",\"PayCoin\",\"ProsperCoin\",\"KoboCoin\",\"Spreadcoin\",\"Argentum\",\"Aurora Coin\",\"BlueCoin\",\"MyriadCoin\",\"MoonCoin\",\"ZetaCoin\",\"SexCoin\",\"Quatloo\",\"EnergyCoin\",\"QuarkCoin\",\"Riecoin\",\"Digitalcoin \",\"BitBar\",\"Catcoin\",\"CryptoBullion\",\"CannaCoin\",\"CryptCoin\",\"CasinoCoin\",\"Diamond\",\"Verge\",\"DevCoin\",\"EarthCoin\",\"E-Gulden\",\"Einsteinium\",\"Emerald\",\"Exclusive Coin\",\"FlutterCoin\",\"Franko\",\"FeatherCoin\",\"GrandCoin\",\"GlobalCoin\",\"GoldCoin\",\"HoboNickels\",\"HyperStake\",\"Infinite Coin\",\"IOCoin\",\"IXcoin\",\"KrugerCoin\",\"LuckyCoin\",\"Litebar \",\"MaxCoin\",\"MegaCoin\",\"MediterraneanCoin\",\"MintCoin\",\"MinCoin\",\"MazaCoin\",\"Nautilus Coin\",\"NavCoin\",\"NobleCoin\",\"Namecoin\",\"NyanCoin\",\"OpalCoin\",\"Orbitcoin\",\"PotCoin\",\"PhoenixCoin\",\"Reddcoin\",\"RonPaulCoin\",\"StableCoin\",\"SmartCoin\",\"SuperCoin\",\"SyncCoin\",\"SysCoin\",\"TeslaCoin\",\"TigerCoin\",\"TittieCoin\",\"TorCoin\",\"TerraCoin\",\"UnbreakableCoin\",\"Unobtanium\",\"UroCoin\",\"UnitaryStatus Dollar\",\"UltraCoin\",\"ViaCoin\",\"VeriCoin\",\"Vertcoin\",\"WorldCoin\",\"X11 Coin\",\"Crypti\",\"JouleCoin\",\"StealthCoin\",\"ZCC Coin\",\"ByteCoin\",\"DigitalNote \",\"BurstCoin\",\"StorjCoin\",\"MonaCoin\",\"Neutron\",\"FairCoin\",\"Gulden\",\"RubyCoin\",\"PesetaCoin\",\"Kore\",\"Wild Beast Coin\",\"Dnotes\",\"Flo\",\"8BIT Coin\",\"Sativa Coin\",\"ArtByte\",\"Folding Coin\",\"Ucoin\",\"Unitus\",\"CypherPunkCoin\",\"OmniCron\",\"Vtorrent\",\"GreenCoin\",\"Cryptonite\",\"MasterCoin\",\"SoonCoin\",\"1Credit\",\"IslaCoin\",\"Nexus\",\"MarsCoin \",\"Crypto\",\"Anarchists Prime\",\"Droidz\",\"BowsCoin\",\"Squall Coin\",\"Song Coin\",\"BitZeny\",\"Diggits\",\"Expanse\",\"Paycon\",\"Siacoin\",\"Emercoin\",\"EverGreenCoin\",\"MindCoin\",\"I0coin\",\"Decred\",\"Revolution VR\",\"HOdlcoin\",\"EDRCoin\",\"Hitcoin\",\"Gamecredits\",\"DubaiCoin\",\"CarpeDiemCoin\",\"PWR Coin\",\"BillaryCoin\",\"GPU Coin\",\"Adzcoin\",\"SoilCoin\",\"YoCoin\",\"SibCoin\",\"EuropeCoin\",\"ZeitCoin\",\"SwingCoin\",\"SafeExchangeCoin\",\"Nebuchadnezzar\",\"Francs\",\"BolivarCoin\",\"Ratecoin\",\"Revenu\",\"Clockcoin\",\"VIP Tokens\",\"BitSend\",\"Omni\",\"Let it Ride\",\"PutinCoin\",\"iBankCoin\",\"Frankywillcoin\",\"MudraCoin\",\"PizzaCoin\",\"Lutetium Coin\",\"Komodo\",\"GoldBlocks\",\"CarterCoin\",\"Karbo\",\"BitTokens\",\"ZayedCoin\",\"MustangCoin\",\"ZoneCoin\",\"Circuits of Value\",\"RootCoin\",\"DopeCoin\",\"BitCurrency\",\"DollarCoin\",\"Swiscoin\",\"Shilling\",\"BuzzCoin\",\"Opair\",\"PesoBit\",\"Halloween Coin\",\"ZCoin\",\"CoffeeCoin\",\"RoyalCoin\",\"GanjaCoin V2\",\"TeamUP\",\"LanaCoin\",\"Elementrem\",\"ZClassic\",\"ARK\",\"InsaneCoin\",\"KiloCoin\",\"ArtexCoin\",\"EmberCoin\",\"XenixCoin\",\"FreeCoin\",\"PLNCoin\",\"AquariusCoin\",\"Kurrent\",\"Creatio\",\"Eternity\",\"Eurocoin\",\"BitcoinFast\",\"Stakenet\",\"BitConnect Coin\",\"MoneyCoin\",\"Enigma\",\"Cannabis Industry Coin\",\"Russiacoin\",\"PandaCoin\",\"GameUnits\",\"GAKHcoin\",\"Allsafe\",\"LiteCreed\",\"OsmiumCoin\",\"Bikercoins\",\"HexxCoin\",\"Klingon Empire Darsek\",\"Internet of People\",\"KushCoin\",\"Printerium\",\"PacCoin\",\"Impeach\",\"Citadel\",\"Zilbercoin\",\"FirstCoin\",\"BeaverCoin\",\"FindCoin\",\"VaultCoin\",\"Zero\",\"OpenChat\",\"Canada eCoin\",\"Zoin\",\"RenosCoin\",\"DubaiCoin\",\"VirtacoinPlus\",\"TajCoin\",\"Impact\",\"EB3coin\",\"Atmos\",\"HappyCoin\",\"Coinonat\",\"MacronCoin\",\"Condensate\",\"Independent Money System\",\"ArgusCoin\",\"LomoCoin\",\"ProCurrency\",\"GoldReserve\",\"BenjiRolls\",\"GrowthCoin\",\"ILCoin\",\"Phreak\",\"Degas Coin\",\"HTML5 Coin\",\"Ultimate Secure Cash\",\"EquiTrader\",\"QTUM\",\"Quantum Resistant Ledger\",\"Espers\",\"Dynamic\",\"Nano\",\"ChanCoin\",\"Dinastycoin\",\"Denarius\",\"DigitalPrice\",\"Virta Unique Coin\",\"Bitcoin Planet\",\"Unify\",\"BritCoin\",\"SocialCoin\",\"ArcticCoin\",\"DAS\",\"Linda\",\"LeviarCoin\",\"DeepOnion\",\"Bitcore\",\"gCn Coin\",\"SmartCash\",\"Signatum\",\"Onix\",\"Cream\",\"Bitcoin Cash\",\"Monoeci\",\"Draftcoin\",\"Vechain\",\"Sojourn Coin\",\"Stakecoin\",\"NewYorkCoin\",\"FrazCoin\",\"Kronecoin\",\"AdCoin\",\"Linx\",\"CoinonatX\",\"Ethereum Dark\",\"Sumokoin\",\"Obsidian\",\"Cardano\",\"Regalcoin\",\"BitcoinZ\",\"TrezarCoin\",\"Elements\",\"TerraNovaCoin\",\"VIVO Coin\",\"Rupee\",\"Bitcoin Gold\",\"WomenCoin\",\"Theresa May Coin\",\"NamoCoin\",\"LUXCoin\",\"Pirl\",\"Xios\",\"Bitcloud 2.0\",\"eBoost\",\"KekCoin\",\"BlackholeCoin\",\"Infinity Economics\",\"Pura\",\"Innova\",\"Ellaism\",\"GoByte\",\"Magnet\",\"Lamden Tau\",\"Electra\",\"Bitcoin Diamond\",\"SHIELD\",\"Cash & Back Coin\",\"UltraNote\",\"BitCoal\",\"DaxxCoin\",\"Bulwark\",\"Kalkulus\",\"AC3\",\"Lethean\",\"GermanCoin\",\"LiteCoin Ultra\",\"PopularCoin\",\"PhantomX\",\"Photon\",\"Sucre\",\"SparksPay\",\"Digiwage\",\"GunCoin\",\"IrishCoin\",\"Trollcoin\",\"Litecoin Plus\",\"Monkey Project\",\"Pioneer Coin\",\"UnitedBitcoin\",\"Interzone\",\"TokenPay\",\"1717 Masonic Commemorative Token\",\"My Big Coin\",\"TurtleCoin\",\"MUNcoin\",\"Unified Society USDEX\",\"Niobio Cash\",\"ShareChain\",\"Travelflex\",\"KREDS\",\"Tokyo Coin\",\"BiblePay\",\"LitecoinCash\",\"BitFlip\",\"LottoCoin\",\"Crypto Improvement Fund\",\"Stipend\",\"Poa Network\",\"Pushi\",\"Ellerium\",\"Velox\",\"Ontology\",\"Callisto Network\",\"BitTube\",\"Poseidon\",\"Aidos Kuneen\",\"Bitspace\",\"Briacoin\",\"Ignition\",\"Bitrolium\",\"MedicCoin\",\"Alpenschillling\",\"Bitcoin Green\",\"Deviant Coin\",\"Abjcoin\",\"Semux\",\"FuturoCoin\",\"Carebit\",\"Zealium\",\"Monero Classic\",\"Proton\",\"iDealCash\",\"Jumpcoin\",\"Infinex\",\"Bitcoin Incognito\",\"KEYCO\",\"HollyWoodCoin\",\"GINcoin\",\"PlatinCoin\",\"Loki\",\"Newton Coin\",\"Swisscoin\",\"Xt3ch\",\"MassGrid\",\"TheVig\",\"PluraCoin\",\"EmaratCoin\",\"Dekado\",\"Lynx\",\"Poseidon Quark\",\"BitcoinWSpectrum\",\"Muse\",\"Motion\",\"PlusOneCoin\",\"Axe\",\"Trivechain\",\"Dystem\",\"Giant\",\"Peony Coin\",\"Absolute Coin\",\"Vitae\",\"HexCoin\",\"TPCash\",\"Webchain\",\"Ryo\",\"Urals Coin\",\"Qwertycoin\",\"ARENON\",\"EUNO\",\"MMOCoin\",\"Ketan\",\"Project Pai\",\"XDNA\",\"PAXEX\",\"Azart\",\"ThunderStake\",\"Kcash\",\"Xchange\",\"Acute Angle Cloud\",\"CrypticCoin\",\"Bettex coin\",\"Actinium\",\"Bitcoin SV\",\"BitMoney\",\"Junson Ming Chan Coin\",\"FREDEnergy\",\"HerbCoin\",\"Universal Molecule\",\"Lithium\",\"PirateCash\",\"Exosis\",\"Block-Logic\",\"Oduwa\",\"Beam\",\"Galilel\",\"Bithereum\",\"Crypto Sports\",\"Credit\",\"SLICE\",\"Dash Platinum\",\"Nasdacoin\",\"Beetle Coin\",\"Titan Coin\",\"Award\",\"BLAST\",\"Bitcoin Rhodium\",\"GlobalToken\",\"Insane Coin\",\"ALAX\",\"LiteDoge\",\"SolarCoin\",\"TruckCoin\",\"UFO Coin\",\"OrangeCoin\",\"BlakeCoin\",\"BitstarCoin\",\"NeosCoin\",\"HyperCoin\",\"PinkCoin\",\"Crypto Escudo\",\"AudioCoin\",\"IncaKoin\",\"Piggy Coin\",\"Crown Coin\",\"Genstake\",\"SmileyCoin\",\"XiaoMiCoin\",\"Groestlcoin\",\"CapriCoin\",\" ClubCoin\",\"Radium\",\"Bata\",\"Pakcoin\",\"Creditbit \",\"OKCash\",\"Lisk\",\"HiCoin\",\"WhiteCoin\",\"FriendshipCoin\",\"JoinCoin\",\"Triangles Coin\",\"Vollar\",\"EOS\",\"Reality Clash\",\"Oxycoin\",\"TigerCash\",\"Waves\",\"Particl\",\"BitTorrent\",\"Nxt\",\"ZEPHYR\",\"Gapcoin\",\"Beldex\",\"Horizen\",\"BitcoinPlus\"]},\"selected\":{\"id\":\"1246\"},\"selection_policy\":{\"id\":\"1260\"}},\"id\":\"1245\",\"type\":\"ColumnDataSource\"},{\"attributes\":{\"margin\":[5,5,5,5],\"name\":\"HSpacer01981\",\"sizing_mode\":\"stretch_width\"},\"id\":\"1244\",\"type\":\"Spacer\"},{\"attributes\":{\"editor\":{\"id\":\"1253\"},\"field\":\"CoinName\",\"formatter\":{\"id\":\"1252\"},\"title\":\"CoinName\"},\"id\":\"1254\",\"type\":\"TableColumn\"},{\"attributes\":{},\"id\":\"1253\",\"type\":\"StringEditor\"},{\"attributes\":{},\"id\":\"1247\",\"type\":\"StringFormatter\"},{\"attributes\":{\"editor\":{\"id\":\"1248\"},\"field\":\"Coin\",\"formatter\":{\"id\":\"1247\"},\"title\":\"Coin\"},\"id\":\"1249\",\"type\":\"TableColumn\"},{\"attributes\":{\"source\":{\"id\":\"1245\"}},\"id\":\"1258\",\"type\":\"CDSView\"},{\"attributes\":{},\"id\":\"1246\",\"type\":\"Selection\"},{\"attributes\":{\"margin\":[5,5,5,5],\"name\":\"HSpacer01982\",\"sizing_mode\":\"stretch_width\"},\"id\":\"1263\",\"type\":\"Spacer\"},{\"attributes\":{\"children\":[{\"id\":\"1244\"},{\"id\":\"1257\"},{\"id\":\"1263\"}],\"margin\":[0,0,0,0],\"name\":\"Row01977\",\"tags\":[\"embedded\"]},\"id\":\"1243\",\"type\":\"Row\"},{\"attributes\":{},\"id\":\"1252\",\"type\":\"StringFormatter\"},{\"attributes\":{\"columns\":[{\"id\":\"1249\"},{\"id\":\"1254\"}],\"height\":300,\"reorderable\":false,\"source\":{\"id\":\"1245\"},\"view\":{\"id\":\"1258\"},\"width\":700},\"id\":\"1257\",\"type\":\"DataTable\"},{\"attributes\":{},\"id\":\"1260\",\"type\":\"UnionRenderers\"}],\"root_ids\":[\"1243\"]},\"title\":\"Bokeh Application\",\"version\":\"2.2.3\"}};\n",
       "    var render_items = [{\"docid\":\"6367e77b-215d-46a2-89b5-2d7fbe379be2\",\"root_ids\":[\"1243\"],\"roots\":{\"1243\":\"4a621980-5cb9-4931-82ca-2847da1f6307\"}}];\n",
       "    root.Bokeh.embed.embed_items_notebook(docs_json, render_items);\n",
       "  }\n",
       "  if (root.Bokeh !== undefined && root.Bokeh.Panel !== undefined) {\n",
       "    embed_document(root);\n",
       "  } else {\n",
       "    var attempts = 0;\n",
       "    var timer = setInterval(function(root) {\n",
       "      if (root.Bokeh !== undefined && root.Bokeh.Panel !== undefined) {\n",
       "        clearInterval(timer);\n",
       "        embed_document(root);\n",
       "      } else if (document.readyState == \"complete\") {\n",
       "        attempts++;\n",
       "        if (attempts > 100) {\n",
       "          clearInterval(timer);\n",
       "          console.log(\"Bokeh: ERROR: Unable to run BokehJS code because BokehJS library is missing\");\n",
       "        }\n",
       "      }\n",
       "    }, 10, root)\n",
       "  }\n",
       "})(window);</script>"
      ],
      "text/plain": [
       ":Table   [Coin,CoinName]"
      ]
     },
     "execution_count": 139,
     "metadata": {
      "application/vnd.holoviews_exec.v0+json": {
       "id": "1243"
      }
     },
     "output_type": "execute_result"
    }
   ],
   "source": [
    "# Table with tradable cryptos\n",
    "#coin_df.head()\n",
    "concat_df.hvplot.table(columns=['Coin','CoinName'], sortable=True, selectable=True)"
   ]
  },
  {
   "cell_type": "code",
   "execution_count": 140,
   "metadata": {},
   "outputs": [
    {
     "name": "stdout",
     "output_type": "stream",
     "text": [
      "Total number of tradeable cryptocurrencies:  532\n"
     ]
    }
   ],
   "source": [
    "# Print the total number of tradable cryptocurrencies\n",
    "print('Total number of tradeable cryptocurrencies: ', len(coin_df))\n",
    "#coin_df"
   ]
  },
  {
   "cell_type": "markdown",
   "metadata": {},
   "source": [
    "#### Scatter Plot with Tradable Cryptocurrencies"
   ]
  },
  {
   "cell_type": "code",
   "execution_count": 141,
   "metadata": {},
   "outputs": [
    {
     "data": {
      "text/html": [
       "<div>\n",
       "<style scoped>\n",
       "    .dataframe tbody tr th:only-of-type {\n",
       "        vertical-align: middle;\n",
       "    }\n",
       "\n",
       "    .dataframe tbody tr th {\n",
       "        vertical-align: top;\n",
       "    }\n",
       "\n",
       "    .dataframe thead th {\n",
       "        text-align: right;\n",
       "    }\n",
       "</style>\n",
       "<table border=\"1\" class=\"dataframe\">\n",
       "  <thead>\n",
       "    <tr style=\"text-align: right;\">\n",
       "      <th></th>\n",
       "      <th>TotalCoinsMined</th>\n",
       "      <th>TotalCoinSupply</th>\n",
       "    </tr>\n",
       "    <tr>\n",
       "      <th>Coin</th>\n",
       "      <th></th>\n",
       "      <th></th>\n",
       "    </tr>\n",
       "  </thead>\n",
       "  <tbody>\n",
       "    <tr>\n",
       "      <th>42</th>\n",
       "      <td>41.99995</td>\n",
       "      <td>42.00000</td>\n",
       "    </tr>\n",
       "    <tr>\n",
       "      <th>404</th>\n",
       "      <td>1055184902.04000</td>\n",
       "      <td>532000000.00000</td>\n",
       "    </tr>\n",
       "    <tr>\n",
       "      <th>1337</th>\n",
       "      <td>29279424622.50270</td>\n",
       "      <td>314159265359.00000</td>\n",
       "    </tr>\n",
       "    <tr>\n",
       "      <th>BTC</th>\n",
       "      <td>17927175.00000</td>\n",
       "      <td>21000000.00000</td>\n",
       "    </tr>\n",
       "    <tr>\n",
       "      <th>ETH</th>\n",
       "      <td>107684222.68650</td>\n",
       "      <td>0.00000</td>\n",
       "    </tr>\n",
       "  </tbody>\n",
       "</table>\n",
       "</div>"
      ],
      "text/plain": [
       "       TotalCoinsMined    TotalCoinSupply\n",
       "Coin                                     \n",
       "42            41.99995           42.00000\n",
       "404   1055184902.04000    532000000.00000\n",
       "1337 29279424622.50270 314159265359.00000\n",
       "BTC     17927175.00000     21000000.00000\n",
       "ETH    107684222.68650            0.00000"
      ]
     },
     "execution_count": 141,
     "metadata": {},
     "output_type": "execute_result"
    }
   ],
   "source": [
    "crypto_df6.head()\n",
    "crypto_trd_df = crypto_df6.drop(columns=['CoinName', 'Algorithm', 'ProofType'])\n",
    "crypto_trd_df.head()"
   ]
  },
  {
   "cell_type": "code",
   "execution_count": 142,
   "metadata": {},
   "outputs": [
    {
     "data": {
      "text/plain": [
       "array([[-0.11710817, -0.1528703 ],\n",
       "       [-0.09396955, -0.145009  ],\n",
       "       [ 0.52494561,  4.48942416],\n",
       "       ...,\n",
       "       [-0.09561336, -0.13217937],\n",
       "       [-0.11694817, -0.15255998],\n",
       "       [-0.11710536, -0.15285552]])"
      ]
     },
     "execution_count": 142,
     "metadata": {},
     "output_type": "execute_result"
    }
   ],
   "source": [
    "# Scale data to create the scatter plot\n",
    "crypto_trd = StandardScaler().fit_transform(crypto_trd_df)\n",
    "crypto_trd"
   ]
  },
  {
   "cell_type": "code",
   "execution_count": 143,
   "metadata": {},
   "outputs": [
    {
     "data": {
      "text/html": [
       "<div>\n",
       "<style scoped>\n",
       "    .dataframe tbody tr th:only-of-type {\n",
       "        vertical-align: middle;\n",
       "    }\n",
       "\n",
       "    .dataframe tbody tr th {\n",
       "        vertical-align: top;\n",
       "    }\n",
       "\n",
       "    .dataframe thead th {\n",
       "        text-align: right;\n",
       "    }\n",
       "</style>\n",
       "<table border=\"1\" class=\"dataframe\">\n",
       "  <thead>\n",
       "    <tr style=\"text-align: right;\">\n",
       "      <th></th>\n",
       "      <th>TotalCoinsMined</th>\n",
       "      <th>TotalCoinSupply</th>\n",
       "    </tr>\n",
       "  </thead>\n",
       "  <tbody>\n",
       "    <tr>\n",
       "      <th>0</th>\n",
       "      <td>-0.11711</td>\n",
       "      <td>-0.15287</td>\n",
       "    </tr>\n",
       "    <tr>\n",
       "      <th>1</th>\n",
       "      <td>-0.09397</td>\n",
       "      <td>-0.14501</td>\n",
       "    </tr>\n",
       "    <tr>\n",
       "      <th>2</th>\n",
       "      <td>0.52495</td>\n",
       "      <td>4.48942</td>\n",
       "    </tr>\n",
       "    <tr>\n",
       "      <th>3</th>\n",
       "      <td>-0.11672</td>\n",
       "      <td>-0.15256</td>\n",
       "    </tr>\n",
       "    <tr>\n",
       "      <th>4</th>\n",
       "      <td>-0.11475</td>\n",
       "      <td>-0.15287</td>\n",
       "    </tr>\n",
       "  </tbody>\n",
       "</table>\n",
       "</div>"
      ],
      "text/plain": [
       "   TotalCoinsMined  TotalCoinSupply\n",
       "0         -0.11711         -0.15287\n",
       "1         -0.09397         -0.14501\n",
       "2          0.52495          4.48942\n",
       "3         -0.11672         -0.15256\n",
       "4         -0.11475         -0.15287"
      ]
     },
     "execution_count": 143,
     "metadata": {},
     "output_type": "execute_result"
    }
   ],
   "source": [
    "df_crypto_trd = pd.DataFrame(\n",
    "    data=crypto_trd, columns=[\"TotalCoinsMined\", \"TotalCoinSupply\"])\n",
    "df_crypto_trd.head()"
   ]
  },
  {
   "cell_type": "code",
   "execution_count": 144,
   "metadata": {},
   "outputs": [],
   "source": [
    "df_crypto_trd.set_index(keys=coin_df.index, inplace=True)"
   ]
  },
  {
   "cell_type": "code",
   "execution_count": 145,
   "metadata": {},
   "outputs": [
    {
     "data": {
      "text/html": [
       "<div>\n",
       "<style scoped>\n",
       "    .dataframe tbody tr th:only-of-type {\n",
       "        vertical-align: middle;\n",
       "    }\n",
       "\n",
       "    .dataframe tbody tr th {\n",
       "        vertical-align: top;\n",
       "    }\n",
       "\n",
       "    .dataframe thead th {\n",
       "        text-align: right;\n",
       "    }\n",
       "</style>\n",
       "<table border=\"1\" class=\"dataframe\">\n",
       "  <thead>\n",
       "    <tr style=\"text-align: right;\">\n",
       "      <th></th>\n",
       "      <th>TotalCoinsMined</th>\n",
       "      <th>TotalCoinSupply</th>\n",
       "    </tr>\n",
       "    <tr>\n",
       "      <th>Coin</th>\n",
       "      <th></th>\n",
       "      <th></th>\n",
       "    </tr>\n",
       "  </thead>\n",
       "  <tbody>\n",
       "    <tr>\n",
       "      <th>42</th>\n",
       "      <td>-0.11711</td>\n",
       "      <td>-0.15287</td>\n",
       "    </tr>\n",
       "    <tr>\n",
       "      <th>404</th>\n",
       "      <td>-0.09397</td>\n",
       "      <td>-0.14501</td>\n",
       "    </tr>\n",
       "    <tr>\n",
       "      <th>1337</th>\n",
       "      <td>0.52495</td>\n",
       "      <td>4.48942</td>\n",
       "    </tr>\n",
       "    <tr>\n",
       "      <th>BTC</th>\n",
       "      <td>-0.11672</td>\n",
       "      <td>-0.15256</td>\n",
       "    </tr>\n",
       "    <tr>\n",
       "      <th>ETH</th>\n",
       "      <td>-0.11475</td>\n",
       "      <td>-0.15287</td>\n",
       "    </tr>\n",
       "  </tbody>\n",
       "</table>\n",
       "</div>"
      ],
      "text/plain": [
       "      TotalCoinsMined  TotalCoinSupply\n",
       "Coin                                  \n",
       "42           -0.11711         -0.15287\n",
       "404          -0.09397         -0.14501\n",
       "1337          0.52495          4.48942\n",
       "BTC          -0.11672         -0.15256\n",
       "ETH          -0.11475         -0.15287"
      ]
     },
     "execution_count": 145,
     "metadata": {},
     "output_type": "execute_result"
    }
   ],
   "source": [
    "df_crypto_trd.head()"
   ]
  },
  {
   "cell_type": "code",
   "execution_count": 146,
   "metadata": {},
   "outputs": [
    {
     "data": {},
     "metadata": {},
     "output_type": "display_data"
    },
    {
     "data": {
      "application/vnd.holoviews_exec.v0+json": "",
      "text/html": [
       "<div id='1275'>\n",
       "\n",
       "\n",
       "\n",
       "\n",
       "\n",
       "  <div class=\"bk-root\" id=\"13d3828b-acdb-482d-b87a-66b266e8629b\" data-root-id=\"1275\"></div>\n",
       "</div>\n",
       "<script type=\"application/javascript\">(function(root) {\n",
       "  function embed_document(root) {\n",
       "    var docs_json = {\"502feeee-c22b-4af7-9be6-61f6d2fec5c2\":{\"roots\":{\"references\":[{\"attributes\":{\"bottom_units\":\"screen\",\"fill_alpha\":0.5,\"fill_color\":\"lightgrey\",\"left_units\":\"screen\",\"level\":\"overlay\",\"line_alpha\":1.0,\"line_color\":\"black\",\"line_dash\":[4,4],\"line_width\":2,\"right_units\":\"screen\",\"top_units\":\"screen\"},\"id\":\"1302\",\"type\":\"BoxAnnotation\"},{\"attributes\":{\"source\":{\"id\":\"1310\"}},\"id\":\"1317\",\"type\":\"CDSView\"},{\"attributes\":{},\"id\":\"1328\",\"type\":\"UnionRenderers\"},{\"attributes\":{\"fill_color\":{\"value\":\"#30a2da\"},\"line_color\":{\"value\":\"#30a2da\"},\"size\":{\"units\":\"screen\",\"value\":5.477225575051661},\"x\":{\"field\":\"TotalCoinsMined\"},\"y\":{\"field\":\"TotalCoinSupply\"}},\"id\":\"1313\",\"type\":\"Scatter\"},{\"attributes\":{\"below\":[{\"id\":\"1289\"}],\"center\":[{\"id\":\"1292\"},{\"id\":\"1296\"}],\"left\":[{\"id\":\"1293\"}],\"margin\":[5,5,5,5],\"min_border_bottom\":10,\"min_border_left\":10,\"min_border_right\":10,\"min_border_top\":10,\"plot_height\":300,\"plot_width\":700,\"renderers\":[{\"id\":\"1316\"}],\"sizing_mode\":\"fixed\",\"title\":{\"id\":\"1281\"},\"toolbar\":{\"id\":\"1303\"},\"x_range\":{\"id\":\"1277\"},\"x_scale\":{\"id\":\"1285\"},\"y_range\":{\"id\":\"1278\"},\"y_scale\":{\"id\":\"1287\"}},\"id\":\"1280\",\"subtype\":\"Figure\",\"type\":\"Plot\"},{\"attributes\":{\"data_source\":{\"id\":\"1310\"},\"glyph\":{\"id\":\"1313\"},\"hover_glyph\":null,\"muted_glyph\":{\"id\":\"1315\"},\"nonselection_glyph\":{\"id\":\"1314\"},\"selection_glyph\":null,\"view\":{\"id\":\"1317\"}},\"id\":\"1316\",\"type\":\"GlyphRenderer\"},{\"attributes\":{\"margin\":[5,5,5,5],\"name\":\"HSpacer02096\",\"sizing_mode\":\"stretch_width\"},\"id\":\"1338\",\"type\":\"Spacer\"},{\"attributes\":{\"fill_alpha\":{\"value\":0.2},\"fill_color\":{\"value\":\"#30a2da\"},\"line_alpha\":{\"value\":0.2},\"line_color\":{\"value\":\"#30a2da\"},\"size\":{\"units\":\"screen\",\"value\":5.477225575051661},\"x\":{\"field\":\"TotalCoinsMined\"},\"y\":{\"field\":\"TotalCoinSupply\"}},\"id\":\"1315\",\"type\":\"Scatter\"},{\"attributes\":{\"fill_alpha\":{\"value\":0.1},\"fill_color\":{\"value\":\"#30a2da\"},\"line_alpha\":{\"value\":0.1},\"line_color\":{\"value\":\"#30a2da\"},\"size\":{\"units\":\"screen\",\"value\":5.477225575051661},\"x\":{\"field\":\"TotalCoinsMined\"},\"y\":{\"field\":\"TotalCoinSupply\"}},\"id\":\"1314\",\"type\":\"Scatter\"},{\"attributes\":{},\"id\":\"1297\",\"type\":\"SaveTool\"},{\"attributes\":{\"children\":[{\"id\":\"1276\"},{\"id\":\"1280\"},{\"id\":\"1338\"}],\"margin\":[0,0,0,0],\"name\":\"Row02091\",\"tags\":[\"embedded\"]},\"id\":\"1275\",\"type\":\"Row\"},{\"attributes\":{},\"id\":\"1298\",\"type\":\"PanTool\"},{\"attributes\":{},\"id\":\"1301\",\"type\":\"ResetTool\"},{\"attributes\":{},\"id\":\"1287\",\"type\":\"LinearScale\"},{\"attributes\":{},\"id\":\"1319\",\"type\":\"BasicTickFormatter\"},{\"attributes\":{},\"id\":\"1299\",\"type\":\"WheelZoomTool\"},{\"attributes\":{},\"id\":\"1285\",\"type\":\"LinearScale\"},{\"attributes\":{\"overlay\":{\"id\":\"1302\"}},\"id\":\"1300\",\"type\":\"BoxZoomTool\"},{\"attributes\":{},\"id\":\"1321\",\"type\":\"BasicTickFormatter\"},{\"attributes\":{\"axis_label\":\"TotalCoinsMined\",\"bounds\":\"auto\",\"formatter\":{\"id\":\"1319\"},\"major_label_orientation\":\"horizontal\",\"ticker\":{\"id\":\"1290\"}},\"id\":\"1289\",\"type\":\"LinearAxis\"},{\"attributes\":{\"margin\":[5,5,5,5],\"name\":\"HSpacer02095\",\"sizing_mode\":\"stretch_width\"},\"id\":\"1276\",\"type\":\"Spacer\"},{\"attributes\":{},\"id\":\"1311\",\"type\":\"Selection\"},{\"attributes\":{},\"id\":\"1290\",\"type\":\"BasicTicker\"},{\"attributes\":{\"axis_label\":\"TotalCoinSupply\",\"bounds\":\"auto\",\"formatter\":{\"id\":\"1321\"},\"major_label_orientation\":\"horizontal\",\"ticker\":{\"id\":\"1294\"}},\"id\":\"1293\",\"type\":\"LinearAxis\"},{\"attributes\":{\"axis\":{\"id\":\"1289\"},\"grid_line_color\":null,\"ticker\":null},\"id\":\"1292\",\"type\":\"Grid\"},{\"attributes\":{\"data\":{\"TotalCoinSupply\":{\"__ndarray__\":\"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\",\"dtype\":\"float64\",\"order\":\"little\",\"shape\":[532]},\"TotalCoinsMined\":{\"__ndarray__\":\"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\",\"dtype\":\"float64\",\"order\":\"little\",\"shape\":[532]}},\"selected\":{\"id\":\"1311\"},\"selection_policy\":{\"id\":\"1328\"}},\"id\":\"1310\",\"type\":\"ColumnDataSource\"},{\"attributes\":{\"end\":16.101700136496554,\"reset_end\":16.101700136496554,\"reset_start\":-1.6305585196728132,\"start\":-1.6305585196728132,\"tags\":[[[\"TotalCoinSupply\",\"TotalCoinSupply\",null]]]},\"id\":\"1278\",\"type\":\"Range1d\"},{\"attributes\":{},\"id\":\"1294\",\"type\":\"BasicTicker\"},{\"attributes\":{\"axis\":{\"id\":\"1293\"},\"dimension\":1,\"grid_line_color\":null,\"ticker\":null},\"id\":\"1296\",\"type\":\"Grid\"},{\"attributes\":{\"callback\":null,\"renderers\":[{\"id\":\"1316\"}],\"tags\":[\"hv_created\"],\"tooltips\":[[\"TotalCoinsMined\",\"@{TotalCoinsMined}\"],[\"TotalCoinSupply\",\"@{TotalCoinSupply}\"]]},\"id\":\"1279\",\"type\":\"HoverTool\"},{\"attributes\":{\"end\":22.52224074112297,\"reset_end\":22.52224074112297,\"reset_start\":-1.0474923722602518,\"start\":-1.0474923722602518,\"tags\":[[[\"TotalCoinsMined\",\"TotalCoinsMined\",null]]]},\"id\":\"1277\",\"type\":\"Range1d\"},{\"attributes\":{\"active_drag\":\"auto\",\"active_inspect\":\"auto\",\"active_multi\":null,\"active_scroll\":\"auto\",\"active_tap\":\"auto\",\"tools\":[{\"id\":\"1279\"},{\"id\":\"1297\"},{\"id\":\"1298\"},{\"id\":\"1299\"},{\"id\":\"1300\"},{\"id\":\"1301\"}]},\"id\":\"1303\",\"type\":\"Toolbar\"},{\"attributes\":{\"text\":\"\",\"text_color\":{\"value\":\"black\"},\"text_font_size\":{\"value\":\"12pt\"}},\"id\":\"1281\",\"type\":\"Title\"}],\"root_ids\":[\"1275\"]},\"title\":\"Bokeh Application\",\"version\":\"2.2.3\"}};\n",
       "    var render_items = [{\"docid\":\"502feeee-c22b-4af7-9be6-61f6d2fec5c2\",\"root_ids\":[\"1275\"],\"roots\":{\"1275\":\"13d3828b-acdb-482d-b87a-66b266e8629b\"}}];\n",
       "    root.Bokeh.embed.embed_items_notebook(docs_json, render_items);\n",
       "  }\n",
       "  if (root.Bokeh !== undefined && root.Bokeh.Panel !== undefined) {\n",
       "    embed_document(root);\n",
       "  } else {\n",
       "    var attempts = 0;\n",
       "    var timer = setInterval(function(root) {\n",
       "      if (root.Bokeh !== undefined && root.Bokeh.Panel !== undefined) {\n",
       "        clearInterval(timer);\n",
       "        embed_document(root);\n",
       "      } else if (document.readyState == \"complete\") {\n",
       "        attempts++;\n",
       "        if (attempts > 100) {\n",
       "          clearInterval(timer);\n",
       "          console.log(\"Bokeh: ERROR: Unable to run BokehJS code because BokehJS library is missing\");\n",
       "        }\n",
       "      }\n",
       "    }, 10, root)\n",
       "  }\n",
       "})(window);</script>"
      ],
      "text/plain": [
       ":Scatter   [TotalCoinsMined]   (TotalCoinSupply)"
      ]
     },
     "execution_count": 146,
     "metadata": {
      "application/vnd.holoviews_exec.v0+json": {
       "id": "1275"
      }
     },
     "output_type": "execute_result"
    }
   ],
   "source": [
    "# Plot the scatter with x=\"TotalCoinsMined\" and y=\"TotalCoinSupply\"\n",
    "df_crypto_trd.hvplot.scatter(\n",
    "    x=\"TotalCoinsMined\",\n",
    "    y=\"TotalCoinSupply\",\n",
    "#    z=\"principal component 3\",\n",
    "#    hover_cols=[\"Coin\"]\n",
    "#    by=\"Coin\"\n",
    ")"
   ]
  },
  {
   "cell_type": "code",
   "execution_count": 147,
   "metadata": {},
   "outputs": [
    {
     "data": {
      "text/html": [
       "<div>\n",
       "<style scoped>\n",
       "    .dataframe tbody tr th:only-of-type {\n",
       "        vertical-align: middle;\n",
       "    }\n",
       "\n",
       "    .dataframe tbody tr th {\n",
       "        vertical-align: top;\n",
       "    }\n",
       "\n",
       "    .dataframe thead th {\n",
       "        text-align: right;\n",
       "    }\n",
       "</style>\n",
       "<table border=\"1\" class=\"dataframe\">\n",
       "  <thead>\n",
       "    <tr style=\"text-align: right;\">\n",
       "      <th></th>\n",
       "      <th>TotalCoinsMined</th>\n",
       "      <th>TotalCoinSupply</th>\n",
       "    </tr>\n",
       "    <tr>\n",
       "      <th>Coin</th>\n",
       "      <th></th>\n",
       "      <th></th>\n",
       "    </tr>\n",
       "  </thead>\n",
       "  <tbody>\n",
       "    <tr>\n",
       "      <th>42</th>\n",
       "      <td>41.99995</td>\n",
       "      <td>42.00000</td>\n",
       "    </tr>\n",
       "    <tr>\n",
       "      <th>404</th>\n",
       "      <td>1055184902.04000</td>\n",
       "      <td>532000000.00000</td>\n",
       "    </tr>\n",
       "    <tr>\n",
       "      <th>1337</th>\n",
       "      <td>29279424622.50270</td>\n",
       "      <td>314159265359.00000</td>\n",
       "    </tr>\n",
       "    <tr>\n",
       "      <th>BTC</th>\n",
       "      <td>17927175.00000</td>\n",
       "      <td>21000000.00000</td>\n",
       "    </tr>\n",
       "    <tr>\n",
       "      <th>ETH</th>\n",
       "      <td>107684222.68650</td>\n",
       "      <td>0.00000</td>\n",
       "    </tr>\n",
       "  </tbody>\n",
       "</table>\n",
       "</div>"
      ],
      "text/plain": [
       "       TotalCoinsMined    TotalCoinSupply\n",
       "Coin                                     \n",
       "42            41.99995           42.00000\n",
       "404   1055184902.04000    532000000.00000\n",
       "1337 29279424622.50270 314159265359.00000\n",
       "BTC     17927175.00000     21000000.00000\n",
       "ETH    107684222.68650            0.00000"
      ]
     },
     "execution_count": 147,
     "metadata": {},
     "output_type": "execute_result"
    }
   ],
   "source": [
    "crypto_df6.head()\n",
    "crypto_trd_df2 = crypto_df6.drop(columns=['CoinName', 'Algorithm', 'ProofType'])\n",
    "crypto_trd_df2.head()"
   ]
  },
  {
   "cell_type": "markdown",
   "metadata": {},
   "source": [
    "#### Plot w/o scaling"
   ]
  },
  {
   "cell_type": "code",
   "execution_count": 148,
   "metadata": {},
   "outputs": [
    {
     "data": {},
     "metadata": {},
     "output_type": "display_data"
    },
    {
     "data": {
      "application/vnd.holoviews_exec.v0+json": "",
      "text/html": [
       "<div id='1380'>\n",
       "\n",
       "\n",
       "\n",
       "\n",
       "\n",
       "  <div class=\"bk-root\" id=\"c203db53-67a4-4228-ba6f-82bbbaebd4d3\" data-root-id=\"1380\"></div>\n",
       "</div>\n",
       "<script type=\"application/javascript\">(function(root) {\n",
       "  function embed_document(root) {\n",
       "    var docs_json = {\"62514a70-f546-47f1-9e22-3c6853b8bde2\":{\"roots\":{\"references\":[{\"attributes\":{\"axis_label\":\"TotalCoinSupply\",\"bounds\":\"auto\",\"formatter\":{\"id\":\"1426\"},\"major_label_orientation\":\"horizontal\",\"ticker\":{\"id\":\"1399\"}},\"id\":\"1398\",\"type\":\"LinearAxis\"},{\"attributes\":{\"end\":1100000000000.0,\"reset_end\":1100000000000.0,\"reset_start\":-100000000000.0,\"start\":-100000000000.0,\"tags\":[[[\"TotalCoinSupply\",\"TotalCoinSupply\",null]]]},\"id\":\"1383\",\"type\":\"Range1d\"},{\"attributes\":{},\"id\":\"1399\",\"type\":\"BasicTicker\"},{\"attributes\":{\"axis\":{\"id\":\"1398\"},\"dimension\":1,\"grid_line_color\":null,\"ticker\":null},\"id\":\"1401\",\"type\":\"Grid\"},{\"attributes\":{\"callback\":null,\"renderers\":[{\"id\":\"1421\"}],\"tags\":[\"hv_created\"],\"tooltips\":[[\"TotalCoinsMined\",\"@{TotalCoinsMined}\"],[\"TotalCoinSupply\",\"@{TotalCoinSupply}\"]]},\"id\":\"1384\",\"type\":\"HoverTool\"},{\"attributes\":{\"active_drag\":\"auto\",\"active_inspect\":\"auto\",\"active_multi\":null,\"active_scroll\":\"auto\",\"active_tap\":\"auto\",\"tools\":[{\"id\":\"1384\"},{\"id\":\"1402\"},{\"id\":\"1403\"},{\"id\":\"1404\"},{\"id\":\"1405\"},{\"id\":\"1406\"}]},\"id\":\"1408\",\"type\":\"Toolbar\"},{\"attributes\":{},\"id\":\"1433\",\"type\":\"UnionRenderers\"},{\"attributes\":{\"bottom_units\":\"screen\",\"fill_alpha\":0.5,\"fill_color\":\"lightgrey\",\"left_units\":\"screen\",\"level\":\"overlay\",\"line_alpha\":1.0,\"line_color\":\"black\",\"line_dash\":[4,4],\"line_width\":2,\"right_units\":\"screen\",\"top_units\":\"screen\"},\"id\":\"1407\",\"type\":\"BoxAnnotation\"},{\"attributes\":{\"text\":\"\",\"text_color\":{\"value\":\"black\"},\"text_font_size\":{\"value\":\"12pt\"}},\"id\":\"1386\",\"type\":\"Title\"},{\"attributes\":{\"fill_alpha\":{\"value\":0.2},\"fill_color\":{\"value\":\"#30a2da\"},\"line_alpha\":{\"value\":0.2},\"line_color\":{\"value\":\"#30a2da\"},\"size\":{\"units\":\"screen\",\"value\":5.477225575051661},\"x\":{\"field\":\"TotalCoinsMined\"},\"y\":{\"field\":\"TotalCoinSupply\"}},\"id\":\"1420\",\"type\":\"Scatter\"},{\"attributes\":{\"margin\":[5,5,5,5],\"name\":\"HSpacer02274\",\"sizing_mode\":\"stretch_width\"},\"id\":\"1443\",\"type\":\"Spacer\"},{\"attributes\":{\"data_source\":{\"id\":\"1415\"},\"glyph\":{\"id\":\"1418\"},\"hover_glyph\":null,\"muted_glyph\":{\"id\":\"1420\"},\"nonselection_glyph\":{\"id\":\"1419\"},\"selection_glyph\":null,\"view\":{\"id\":\"1422\"}},\"id\":\"1421\",\"type\":\"GlyphRenderer\"},{\"attributes\":{\"below\":[{\"id\":\"1394\"}],\"center\":[{\"id\":\"1397\"},{\"id\":\"1401\"}],\"left\":[{\"id\":\"1398\"}],\"margin\":[5,5,5,5],\"min_border_bottom\":10,\"min_border_left\":10,\"min_border_right\":10,\"min_border_top\":10,\"plot_height\":300,\"plot_width\":700,\"renderers\":[{\"id\":\"1421\"}],\"sizing_mode\":\"fixed\",\"title\":{\"id\":\"1386\"},\"toolbar\":{\"id\":\"1408\"},\"x_range\":{\"id\":\"1382\"},\"x_scale\":{\"id\":\"1390\"},\"y_range\":{\"id\":\"1383\"},\"y_scale\":{\"id\":\"1392\"}},\"id\":\"1385\",\"subtype\":\"Figure\",\"type\":\"Plot\"},{\"attributes\":{\"fill_alpha\":{\"value\":0.1},\"fill_color\":{\"value\":\"#30a2da\"},\"line_alpha\":{\"value\":0.1},\"line_color\":{\"value\":\"#30a2da\"},\"size\":{\"units\":\"screen\",\"value\":5.477225575051661},\"x\":{\"field\":\"TotalCoinsMined\"},\"y\":{\"field\":\"TotalCoinSupply\"}},\"id\":\"1419\",\"type\":\"Scatter\"},{\"attributes\":{},\"id\":\"1416\",\"type\":\"Selection\"},{\"attributes\":{\"fill_color\":{\"value\":\"#30a2da\"},\"line_color\":{\"value\":\"#30a2da\"},\"size\":{\"units\":\"screen\",\"value\":5.477225575051661},\"x\":{\"field\":\"TotalCoinsMined\"},\"y\":{\"field\":\"TotalCoinSupply\"}},\"id\":\"1418\",\"type\":\"Scatter\"},{\"attributes\":{},\"id\":\"1402\",\"type\":\"SaveTool\"},{\"attributes\":{\"children\":[{\"id\":\"1381\"},{\"id\":\"1385\"},{\"id\":\"1443\"}],\"margin\":[0,0,0,0],\"name\":\"Row02269\",\"tags\":[\"embedded\"]},\"id\":\"1380\",\"type\":\"Row\"},{\"attributes\":{\"end\":1032416801156.6912,\"reset_end\":1032416801156.6912,\"reset_start\":-42428087675.042145,\"start\":-42428087675.042145,\"tags\":[[[\"TotalCoinsMined\",\"TotalCoinsMined\",null]]]},\"id\":\"1382\",\"type\":\"Range1d\"},{\"attributes\":{},\"id\":\"1403\",\"type\":\"PanTool\"},{\"attributes\":{},\"id\":\"1406\",\"type\":\"ResetTool\"},{\"attributes\":{},\"id\":\"1404\",\"type\":\"WheelZoomTool\"},{\"attributes\":{},\"id\":\"1390\",\"type\":\"LinearScale\"},{\"attributes\":{\"data\":{\"TotalCoinSupply\":{\"__ndarray__\":\"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\",\"dtype\":\"float64\",\"order\":\"little\",\"shape\":[532]},\"TotalCoinsMined\":{\"__ndarray__\":\"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\",\"dtype\":\"float64\",\"order\":\"little\",\"shape\":[532]}},\"selected\":{\"id\":\"1416\"},\"selection_policy\":{\"id\":\"1433\"}},\"id\":\"1415\",\"type\":\"ColumnDataSource\"},{\"attributes\":{\"overlay\":{\"id\":\"1407\"}},\"id\":\"1405\",\"type\":\"BoxZoomTool\"},{\"attributes\":{\"margin\":[5,5,5,5],\"name\":\"HSpacer02273\",\"sizing_mode\":\"stretch_width\"},\"id\":\"1381\",\"type\":\"Spacer\"},{\"attributes\":{\"source\":{\"id\":\"1415\"}},\"id\":\"1422\",\"type\":\"CDSView\"},{\"attributes\":{\"axis_label\":\"TotalCoinsMined\",\"bounds\":\"auto\",\"formatter\":{\"id\":\"1424\"},\"major_label_orientation\":\"horizontal\",\"ticker\":{\"id\":\"1395\"}},\"id\":\"1394\",\"type\":\"LinearAxis\"},{\"attributes\":{},\"id\":\"1392\",\"type\":\"LinearScale\"},{\"attributes\":{\"axis\":{\"id\":\"1394\"},\"grid_line_color\":null,\"ticker\":null},\"id\":\"1397\",\"type\":\"Grid\"},{\"attributes\":{},\"id\":\"1426\",\"type\":\"BasicTickFormatter\"},{\"attributes\":{},\"id\":\"1395\",\"type\":\"BasicTicker\"},{\"attributes\":{},\"id\":\"1424\",\"type\":\"BasicTickFormatter\"}],\"root_ids\":[\"1380\"]},\"title\":\"Bokeh Application\",\"version\":\"2.2.3\"}};\n",
       "    var render_items = [{\"docid\":\"62514a70-f546-47f1-9e22-3c6853b8bde2\",\"root_ids\":[\"1380\"],\"roots\":{\"1380\":\"c203db53-67a4-4228-ba6f-82bbbaebd4d3\"}}];\n",
       "    root.Bokeh.embed.embed_items_notebook(docs_json, render_items);\n",
       "  }\n",
       "  if (root.Bokeh !== undefined && root.Bokeh.Panel !== undefined) {\n",
       "    embed_document(root);\n",
       "  } else {\n",
       "    var attempts = 0;\n",
       "    var timer = setInterval(function(root) {\n",
       "      if (root.Bokeh !== undefined && root.Bokeh.Panel !== undefined) {\n",
       "        clearInterval(timer);\n",
       "        embed_document(root);\n",
       "      } else if (document.readyState == \"complete\") {\n",
       "        attempts++;\n",
       "        if (attempts > 100) {\n",
       "          clearInterval(timer);\n",
       "          console.log(\"Bokeh: ERROR: Unable to run BokehJS code because BokehJS library is missing\");\n",
       "        }\n",
       "      }\n",
       "    }, 10, root)\n",
       "  }\n",
       "})(window);</script>"
      ],
      "text/plain": [
       ":Scatter   [TotalCoinsMined]   (TotalCoinSupply)"
      ]
     },
     "execution_count": 148,
     "metadata": {
      "application/vnd.holoviews_exec.v0+json": {
       "id": "1380"
      }
     },
     "output_type": "execute_result"
    }
   ],
   "source": [
    "crypto_trd_df2.hvplot.scatter(\n",
    "    x=\"TotalCoinsMined\",\n",
    "    y=\"TotalCoinSupply\"\n",
    "#    z=\"principal component 3\",\n",
    "#    hover_cols=[\"class\"],\n",
    "#    by=\"class\",\n",
    ")"
   ]
  },
  {
   "cell_type": "code",
   "execution_count": null,
   "metadata": {},
   "outputs": [],
   "source": []
  }
 ],
 "metadata": {
  "file_extension": ".py",
  "kernelspec": {
   "display_name": "Python [conda env:awsenv] *",
   "language": "python",
   "name": "conda-env-awsenv-py"
  },
  "language_info": {
   "codemirror_mode": {
    "name": "ipython",
    "version": 3
   },
   "file_extension": ".py",
   "mimetype": "text/x-python",
   "name": "python",
   "nbconvert_exporter": "python",
   "pygments_lexer": "ipython3",
   "version": "3.7.9"
  },
  "mimetype": "text/x-python",
  "name": "python",
  "npconvert_exporter": "python",
  "pygments_lexer": "ipython3",
  "version": 3
 },
 "nbformat": 4,
 "nbformat_minor": 4
}
